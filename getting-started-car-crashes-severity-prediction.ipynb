{
 "cells": [
  {
   "cell_type": "markdown",
   "id": "b488f89f",
   "metadata": {
    "papermill": {
     "duration": 0.055047,
     "end_time": "2021-07-27T15:51:13.237165",
     "exception": false,
     "start_time": "2021-07-27T15:51:13.182118",
     "status": "completed"
    },
    "tags": []
   },
   "source": [
    "## You're here! \n",
    "Welcome to your first competition in the [ITI's AI Pro training program](https://ai.iti.gov.eg/epita/ai-engineer/)! We hope you enjoy and learn as much as we did prepairing this competition.\n",
    "\n",
    "\n",
    "## Introduction\n",
    "\n",
    "In the competition, it's required to predict the `Severity` of a car crash given info about the crash, e.g., location.\n",
    "\n",
    "This is the getting started notebook. Things are kept simple so that it's easier to understand the steps and modify it.\n",
    "\n",
    "Feel free to `Fork` this notebook and share it with your modifications **OR** use it to create your submissions.\n",
    "\n",
    "### Prerequisites\n",
    "You should know how to use python and a little bit of Machine Learning. You can apply the techniques you learned in the training program and submit the new solutions! \n",
    "\n",
    "### Checklist\n",
    "You can participate in this competition the way you perefer. However, I recommend following these steps if this is your first time joining a competition on Kaggle.\n",
    "\n",
    "* Fork this notebook and run the cells in order.\n",
    "* Submit this solution.\n",
    "* Make changes to the data processing step as you see fit.\n",
    "* Submit the new solutions.\n",
    "\n",
    "*You can submit up to 5 submissions per day. You can select only one of the submission you make to be considered in the final ranking.*\n",
    "\n",
    "\n",
    "Don't hesitate to leave a comment or contact me if you have any question!"
   ]
  },
  {
   "cell_type": "markdown",
   "id": "854ff043",
   "metadata": {
    "papermill": {
     "duration": 0.051851,
     "end_time": "2021-07-27T15:51:13.341657",
     "exception": false,
     "start_time": "2021-07-27T15:51:13.289806",
     "status": "completed"
    },
    "tags": []
   },
   "source": [
    "## Import the libraries\n",
    "\n",
    "We'll use `pandas` to load and manipulate the data. Other libraries will be imported in the relevant sections."
   ]
  },
  {
   "cell_type": "code",
   "execution_count": 1,
   "id": "d38d76ae",
   "metadata": {
    "_cell_guid": "b1076dfc-b9ad-4769-8c92-a6c4dae69d19",
    "_uuid": "8f2839f25d086af736a60e9eeb907d3b93b6e0e5",
    "execution": {
     "iopub.execute_input": "2021-07-27T15:51:13.457273Z",
     "iopub.status.busy": "2021-07-27T15:51:13.456655Z",
     "iopub.status.idle": "2021-07-27T15:51:14.248964Z",
     "shell.execute_reply": "2021-07-27T15:51:14.248336Z",
     "shell.execute_reply.started": "2021-07-27T15:45:07.377215Z"
    },
    "papermill": {
     "duration": 0.855789,
     "end_time": "2021-07-27T15:51:14.249109",
     "exception": false,
     "start_time": "2021-07-27T15:51:13.393320",
     "status": "completed"
    },
    "tags": []
   },
   "outputs": [],
   "source": [
    "import pandas as pd\n",
    "import os\n",
    "import datetime\n",
    "import calendar\n",
    "from sklearn.preprocessing import OrdinalEncoder\n",
    "import numpy as np\n",
    "import seaborn as sn\n",
    "import matplotlib.pyplot as plt\n",
    "\n"
   ]
  },
  {
   "cell_type": "markdown",
   "id": "b61b80e2",
   "metadata": {
    "papermill": {
     "duration": 0.051666,
     "end_time": "2021-07-27T15:51:14.354683",
     "exception": false,
     "start_time": "2021-07-27T15:51:14.303017",
     "status": "completed"
    },
    "tags": []
   },
   "source": [
    "## Exploratory Data Analysis\n",
    "In this step, one should load the data and analyze it. However, I'll load the data and do minimal analysis. You are encouraged to do thorough analysis!\n",
    "\n",
    "Let's load the data using `pandas` and have a look at the generated `DataFrame`."
   ]
  },
  {
   "cell_type": "code",
   "execution_count": 2,
   "id": "5bd8803a",
   "metadata": {
    "execution": {
     "iopub.execute_input": "2021-07-27T15:51:14.464197Z",
     "iopub.status.busy": "2021-07-27T15:51:14.463642Z",
     "iopub.status.idle": "2021-07-27T15:51:14.525288Z",
     "shell.execute_reply": "2021-07-27T15:51:14.525868Z",
     "shell.execute_reply.started": "2021-07-27T15:45:07.418764Z"
    },
    "papermill": {
     "duration": 0.119062,
     "end_time": "2021-07-27T15:51:14.526039",
     "exception": false,
     "start_time": "2021-07-27T15:51:14.406977",
     "status": "completed"
    },
    "tags": []
   },
   "outputs": [
    {
     "name": "stdout",
     "output_type": "stream",
     "text": [
      "The shape of the dataset is (6407, 16).\n",
      "\n",
      "\n"
     ]
    },
    {
     "data": {
      "text/html": [
       "<div>\n",
       "<style scoped>\n",
       "    .dataframe tbody tr th:only-of-type {\n",
       "        vertical-align: middle;\n",
       "    }\n",
       "\n",
       "    .dataframe tbody tr th {\n",
       "        vertical-align: top;\n",
       "    }\n",
       "\n",
       "    .dataframe thead th {\n",
       "        text-align: right;\n",
       "    }\n",
       "</style>\n",
       "<table border=\"1\" class=\"dataframe\">\n",
       "  <thead>\n",
       "    <tr style=\"text-align: right;\">\n",
       "      <th></th>\n",
       "      <th>ID</th>\n",
       "      <th>Lat</th>\n",
       "      <th>Lng</th>\n",
       "      <th>Bump</th>\n",
       "      <th>Distance(mi)</th>\n",
       "      <th>Crossing</th>\n",
       "      <th>Give_Way</th>\n",
       "      <th>Junction</th>\n",
       "      <th>No_Exit</th>\n",
       "      <th>Railway</th>\n",
       "      <th>Roundabout</th>\n",
       "      <th>Stop</th>\n",
       "      <th>Amenity</th>\n",
       "      <th>Side</th>\n",
       "      <th>Severity</th>\n",
       "      <th>timestamp</th>\n",
       "    </tr>\n",
       "  </thead>\n",
       "  <tbody>\n",
       "    <tr>\n",
       "      <th>0</th>\n",
       "      <td>0</td>\n",
       "      <td>37.762150</td>\n",
       "      <td>-122.405660</td>\n",
       "      <td>False</td>\n",
       "      <td>0.044</td>\n",
       "      <td>False</td>\n",
       "      <td>False</td>\n",
       "      <td>False</td>\n",
       "      <td>False</td>\n",
       "      <td>False</td>\n",
       "      <td>False</td>\n",
       "      <td>False</td>\n",
       "      <td>True</td>\n",
       "      <td>R</td>\n",
       "      <td>2</td>\n",
       "      <td>2016-03-25 15:13:02</td>\n",
       "    </tr>\n",
       "    <tr>\n",
       "      <th>1</th>\n",
       "      <td>1</td>\n",
       "      <td>37.719157</td>\n",
       "      <td>-122.448254</td>\n",
       "      <td>False</td>\n",
       "      <td>0.000</td>\n",
       "      <td>False</td>\n",
       "      <td>False</td>\n",
       "      <td>False</td>\n",
       "      <td>False</td>\n",
       "      <td>False</td>\n",
       "      <td>False</td>\n",
       "      <td>False</td>\n",
       "      <td>False</td>\n",
       "      <td>R</td>\n",
       "      <td>2</td>\n",
       "      <td>2020-05-05 19:23:00</td>\n",
       "    </tr>\n",
       "    <tr>\n",
       "      <th>2</th>\n",
       "      <td>2</td>\n",
       "      <td>37.808498</td>\n",
       "      <td>-122.366852</td>\n",
       "      <td>False</td>\n",
       "      <td>0.000</td>\n",
       "      <td>False</td>\n",
       "      <td>False</td>\n",
       "      <td>False</td>\n",
       "      <td>False</td>\n",
       "      <td>False</td>\n",
       "      <td>False</td>\n",
       "      <td>True</td>\n",
       "      <td>False</td>\n",
       "      <td>R</td>\n",
       "      <td>3</td>\n",
       "      <td>2016-09-16 19:57:16</td>\n",
       "    </tr>\n",
       "    <tr>\n",
       "      <th>3</th>\n",
       "      <td>3</td>\n",
       "      <td>37.785930</td>\n",
       "      <td>-122.391080</td>\n",
       "      <td>False</td>\n",
       "      <td>0.009</td>\n",
       "      <td>False</td>\n",
       "      <td>False</td>\n",
       "      <td>True</td>\n",
       "      <td>False</td>\n",
       "      <td>False</td>\n",
       "      <td>False</td>\n",
       "      <td>False</td>\n",
       "      <td>False</td>\n",
       "      <td>R</td>\n",
       "      <td>1</td>\n",
       "      <td>2020-03-29 19:48:43</td>\n",
       "    </tr>\n",
       "    <tr>\n",
       "      <th>4</th>\n",
       "      <td>4</td>\n",
       "      <td>37.719141</td>\n",
       "      <td>-122.448457</td>\n",
       "      <td>False</td>\n",
       "      <td>0.000</td>\n",
       "      <td>False</td>\n",
       "      <td>False</td>\n",
       "      <td>False</td>\n",
       "      <td>False</td>\n",
       "      <td>False</td>\n",
       "      <td>False</td>\n",
       "      <td>False</td>\n",
       "      <td>False</td>\n",
       "      <td>R</td>\n",
       "      <td>2</td>\n",
       "      <td>2019-10-09 08:47:00</td>\n",
       "    </tr>\n",
       "  </tbody>\n",
       "</table>\n",
       "</div>"
      ],
      "text/plain": [
       "   ID        Lat         Lng   Bump  Distance(mi)  Crossing  Give_Way  \\\n",
       "0   0  37.762150 -122.405660  False         0.044     False     False   \n",
       "1   1  37.719157 -122.448254  False         0.000     False     False   \n",
       "2   2  37.808498 -122.366852  False         0.000     False     False   \n",
       "3   3  37.785930 -122.391080  False         0.009     False     False   \n",
       "4   4  37.719141 -122.448457  False         0.000     False     False   \n",
       "\n",
       "   Junction  No_Exit  Railway  Roundabout   Stop  Amenity Side  Severity  \\\n",
       "0     False    False    False       False  False     True    R         2   \n",
       "1     False    False    False       False  False    False    R         2   \n",
       "2     False    False    False       False   True    False    R         3   \n",
       "3      True    False    False       False  False    False    R         1   \n",
       "4     False    False    False       False  False    False    R         2   \n",
       "\n",
       "             timestamp  \n",
       "0  2016-03-25 15:13:02  \n",
       "1  2020-05-05 19:23:00  \n",
       "2  2016-09-16 19:57:16  \n",
       "3  2020-03-29 19:48:43  \n",
       "4  2019-10-09 08:47:00  "
      ]
     },
     "execution_count": 2,
     "metadata": {},
     "output_type": "execute_result"
    }
   ],
   "source": [
    "dataset_path = '/kaggle/input/car-crashes-severity-prediction/'\n",
    "\n",
    "df = pd.read_csv(os.path.join(dataset_path, 'train.csv'))\n",
    "\n",
    "print(\"The shape of the dataset is {}.\\n\\n\".format(df.shape))\n",
    "\n",
    "df.head()"
   ]
  },
  {
   "cell_type": "markdown",
   "id": "a9edc974",
   "metadata": {
    "papermill": {
     "duration": 0.053151,
     "end_time": "2021-07-27T15:51:14.634004",
     "exception": false,
     "start_time": "2021-07-27T15:51:14.580853",
     "status": "completed"
    },
    "tags": []
   },
   "source": [
    "We've got 6407 examples in the dataset with 14 featues, 1 ID, and the `Severity` of the crash.\n",
    "\n",
    "By looking at the features and a sample from the data, the features look of numerical and catogerical types. What about some descriptive statistics?"
   ]
  },
  {
   "cell_type": "code",
   "execution_count": 3,
   "id": "60a2fc34",
   "metadata": {
    "execution": {
     "iopub.execute_input": "2021-07-27T15:51:14.747713Z",
     "iopub.status.busy": "2021-07-27T15:51:14.746837Z",
     "iopub.status.idle": "2021-07-27T15:51:14.769770Z",
     "shell.execute_reply": "2021-07-27T15:51:14.769354Z",
     "shell.execute_reply.started": "2021-07-27T15:45:07.468012Z"
    },
    "papermill": {
     "duration": 0.083118,
     "end_time": "2021-07-27T15:51:14.769879",
     "exception": false,
     "start_time": "2021-07-27T15:51:14.686761",
     "status": "completed"
    },
    "tags": []
   },
   "outputs": [
    {
     "data": {
      "text/html": [
       "<div>\n",
       "<style scoped>\n",
       "    .dataframe tbody tr th:only-of-type {\n",
       "        vertical-align: middle;\n",
       "    }\n",
       "\n",
       "    .dataframe tbody tr th {\n",
       "        vertical-align: top;\n",
       "    }\n",
       "\n",
       "    .dataframe thead th {\n",
       "        text-align: right;\n",
       "    }\n",
       "</style>\n",
       "<table border=\"1\" class=\"dataframe\">\n",
       "  <thead>\n",
       "    <tr style=\"text-align: right;\">\n",
       "      <th></th>\n",
       "      <th>Lat</th>\n",
       "      <th>Lng</th>\n",
       "      <th>Distance(mi)</th>\n",
       "      <th>Severity</th>\n",
       "    </tr>\n",
       "  </thead>\n",
       "  <tbody>\n",
       "    <tr>\n",
       "      <th>count</th>\n",
       "      <td>6407.000000</td>\n",
       "      <td>6407.000000</td>\n",
       "      <td>6407.000000</td>\n",
       "      <td>6407.000000</td>\n",
       "    </tr>\n",
       "    <tr>\n",
       "      <th>mean</th>\n",
       "      <td>37.765653</td>\n",
       "      <td>-122.405990</td>\n",
       "      <td>0.135189</td>\n",
       "      <td>2.293429</td>\n",
       "    </tr>\n",
       "    <tr>\n",
       "      <th>std</th>\n",
       "      <td>0.032555</td>\n",
       "      <td>0.028275</td>\n",
       "      <td>0.396360</td>\n",
       "      <td>0.521225</td>\n",
       "    </tr>\n",
       "    <tr>\n",
       "      <th>min</th>\n",
       "      <td>37.609619</td>\n",
       "      <td>-122.510440</td>\n",
       "      <td>0.000000</td>\n",
       "      <td>1.000000</td>\n",
       "    </tr>\n",
       "    <tr>\n",
       "      <th>25%</th>\n",
       "      <td>37.737096</td>\n",
       "      <td>-122.412210</td>\n",
       "      <td>0.000000</td>\n",
       "      <td>2.000000</td>\n",
       "    </tr>\n",
       "    <tr>\n",
       "      <th>50%</th>\n",
       "      <td>37.768238</td>\n",
       "      <td>-122.404835</td>\n",
       "      <td>0.000000</td>\n",
       "      <td>2.000000</td>\n",
       "    </tr>\n",
       "    <tr>\n",
       "      <th>75%</th>\n",
       "      <td>37.787813</td>\n",
       "      <td>-122.392477</td>\n",
       "      <td>0.041000</td>\n",
       "      <td>3.000000</td>\n",
       "    </tr>\n",
       "    <tr>\n",
       "      <th>max</th>\n",
       "      <td>37.825626</td>\n",
       "      <td>-122.349734</td>\n",
       "      <td>6.820000</td>\n",
       "      <td>4.000000</td>\n",
       "    </tr>\n",
       "  </tbody>\n",
       "</table>\n",
       "</div>"
      ],
      "text/plain": [
       "               Lat          Lng  Distance(mi)     Severity\n",
       "count  6407.000000  6407.000000   6407.000000  6407.000000\n",
       "mean     37.765653  -122.405990      0.135189     2.293429\n",
       "std       0.032555     0.028275      0.396360     0.521225\n",
       "min      37.609619  -122.510440      0.000000     1.000000\n",
       "25%      37.737096  -122.412210      0.000000     2.000000\n",
       "50%      37.768238  -122.404835      0.000000     2.000000\n",
       "75%      37.787813  -122.392477      0.041000     3.000000\n",
       "max      37.825626  -122.349734      6.820000     4.000000"
      ]
     },
     "execution_count": 3,
     "metadata": {},
     "output_type": "execute_result"
    }
   ],
   "source": [
    "df.drop(columns='ID').describe()"
   ]
  },
  {
   "cell_type": "code",
   "execution_count": 4,
   "id": "b7d24f05",
   "metadata": {
    "execution": {
     "iopub.execute_input": "2021-07-27T15:51:14.882679Z",
     "iopub.status.busy": "2021-07-27T15:51:14.880055Z",
     "iopub.status.idle": "2021-07-27T15:51:14.895802Z",
     "shell.execute_reply": "2021-07-27T15:51:14.895228Z",
     "shell.execute_reply.started": "2021-07-27T15:45:07.498459Z"
    },
    "papermill": {
     "duration": 0.072706,
     "end_time": "2021-07-27T15:51:14.895953",
     "exception": false,
     "start_time": "2021-07-27T15:51:14.823247",
     "status": "completed"
    },
    "tags": []
   },
   "outputs": [
    {
     "name": "stdout",
     "output_type": "stream",
     "text": [
      "<class 'pandas.core.frame.DataFrame'>\n",
      "RangeIndex: 6407 entries, 0 to 6406\n",
      "Data columns (total 16 columns):\n",
      " #   Column        Non-Null Count  Dtype  \n",
      "---  ------        --------------  -----  \n",
      " 0   ID            6407 non-null   int64  \n",
      " 1   Lat           6407 non-null   float64\n",
      " 2   Lng           6407 non-null   float64\n",
      " 3   Bump          6407 non-null   bool   \n",
      " 4   Distance(mi)  6407 non-null   float64\n",
      " 5   Crossing      6407 non-null   bool   \n",
      " 6   Give_Way      6407 non-null   bool   \n",
      " 7   Junction      6407 non-null   bool   \n",
      " 8   No_Exit       6407 non-null   bool   \n",
      " 9   Railway       6407 non-null   bool   \n",
      " 10  Roundabout    6407 non-null   bool   \n",
      " 11  Stop          6407 non-null   bool   \n",
      " 12  Amenity       6407 non-null   bool   \n",
      " 13  Side          6407 non-null   object \n",
      " 14  Severity      6407 non-null   int64  \n",
      " 15  timestamp     6407 non-null   object \n",
      "dtypes: bool(9), float64(3), int64(2), object(2)\n",
      "memory usage: 406.8+ KB\n"
     ]
    }
   ],
   "source": [
    "df.info()"
   ]
  },
  {
   "cell_type": "markdown",
   "id": "e17b220b",
   "metadata": {
    "papermill": {
     "duration": 0.053461,
     "end_time": "2021-07-27T15:51:15.005625",
     "exception": false,
     "start_time": "2021-07-27T15:51:14.952164",
     "status": "completed"
    },
    "tags": []
   },
   "source": [
    "# **Reading test data**"
   ]
  },
  {
   "cell_type": "code",
   "execution_count": 5,
   "id": "124f05d9",
   "metadata": {
    "execution": {
     "iopub.execute_input": "2021-07-27T15:51:15.117185Z",
     "iopub.status.busy": "2021-07-27T15:51:15.116685Z",
     "iopub.status.idle": "2021-07-27T15:51:15.145853Z",
     "shell.execute_reply": "2021-07-27T15:51:15.146268Z",
     "shell.execute_reply.started": "2021-07-27T15:45:07.799222Z"
    },
    "papermill": {
     "duration": 0.086841,
     "end_time": "2021-07-27T15:51:15.146388",
     "exception": false,
     "start_time": "2021-07-27T15:51:15.059547",
     "status": "completed"
    },
    "tags": []
   },
   "outputs": [
    {
     "name": "stdout",
     "output_type": "stream",
     "text": [
      "The shape of the dataset is (1601, 15).\n",
      "\n",
      "\n"
     ]
    },
    {
     "data": {
      "text/html": [
       "<div>\n",
       "<style scoped>\n",
       "    .dataframe tbody tr th:only-of-type {\n",
       "        vertical-align: middle;\n",
       "    }\n",
       "\n",
       "    .dataframe tbody tr th {\n",
       "        vertical-align: top;\n",
       "    }\n",
       "\n",
       "    .dataframe thead th {\n",
       "        text-align: right;\n",
       "    }\n",
       "</style>\n",
       "<table border=\"1\" class=\"dataframe\">\n",
       "  <thead>\n",
       "    <tr style=\"text-align: right;\">\n",
       "      <th></th>\n",
       "      <th>ID</th>\n",
       "      <th>Lat</th>\n",
       "      <th>Lng</th>\n",
       "      <th>Bump</th>\n",
       "      <th>Distance(mi)</th>\n",
       "      <th>Crossing</th>\n",
       "      <th>Give_Way</th>\n",
       "      <th>Junction</th>\n",
       "      <th>No_Exit</th>\n",
       "      <th>Railway</th>\n",
       "      <th>Roundabout</th>\n",
       "      <th>Stop</th>\n",
       "      <th>Amenity</th>\n",
       "      <th>Side</th>\n",
       "      <th>timestamp</th>\n",
       "    </tr>\n",
       "  </thead>\n",
       "  <tbody>\n",
       "    <tr>\n",
       "      <th>0</th>\n",
       "      <td>6407</td>\n",
       "      <td>37.786060</td>\n",
       "      <td>-122.390900</td>\n",
       "      <td>False</td>\n",
       "      <td>0.039</td>\n",
       "      <td>False</td>\n",
       "      <td>False</td>\n",
       "      <td>True</td>\n",
       "      <td>False</td>\n",
       "      <td>False</td>\n",
       "      <td>False</td>\n",
       "      <td>False</td>\n",
       "      <td>False</td>\n",
       "      <td>R</td>\n",
       "      <td>2016-04-04 19:20:31</td>\n",
       "    </tr>\n",
       "    <tr>\n",
       "      <th>1</th>\n",
       "      <td>6408</td>\n",
       "      <td>37.769609</td>\n",
       "      <td>-122.415057</td>\n",
       "      <td>False</td>\n",
       "      <td>0.202</td>\n",
       "      <td>False</td>\n",
       "      <td>False</td>\n",
       "      <td>False</td>\n",
       "      <td>False</td>\n",
       "      <td>False</td>\n",
       "      <td>False</td>\n",
       "      <td>False</td>\n",
       "      <td>False</td>\n",
       "      <td>R</td>\n",
       "      <td>2020-10-28 11:51:00</td>\n",
       "    </tr>\n",
       "    <tr>\n",
       "      <th>2</th>\n",
       "      <td>6409</td>\n",
       "      <td>37.807495</td>\n",
       "      <td>-122.476021</td>\n",
       "      <td>False</td>\n",
       "      <td>0.000</td>\n",
       "      <td>False</td>\n",
       "      <td>False</td>\n",
       "      <td>False</td>\n",
       "      <td>False</td>\n",
       "      <td>False</td>\n",
       "      <td>False</td>\n",
       "      <td>False</td>\n",
       "      <td>False</td>\n",
       "      <td>R</td>\n",
       "      <td>2019-09-09 07:36:45</td>\n",
       "    </tr>\n",
       "    <tr>\n",
       "      <th>3</th>\n",
       "      <td>6410</td>\n",
       "      <td>37.761818</td>\n",
       "      <td>-122.405869</td>\n",
       "      <td>False</td>\n",
       "      <td>0.000</td>\n",
       "      <td>False</td>\n",
       "      <td>False</td>\n",
       "      <td>True</td>\n",
       "      <td>False</td>\n",
       "      <td>False</td>\n",
       "      <td>False</td>\n",
       "      <td>False</td>\n",
       "      <td>False</td>\n",
       "      <td>R</td>\n",
       "      <td>2019-08-06 15:46:25</td>\n",
       "    </tr>\n",
       "    <tr>\n",
       "      <th>4</th>\n",
       "      <td>6411</td>\n",
       "      <td>37.732350</td>\n",
       "      <td>-122.414100</td>\n",
       "      <td>False</td>\n",
       "      <td>0.670</td>\n",
       "      <td>False</td>\n",
       "      <td>False</td>\n",
       "      <td>False</td>\n",
       "      <td>False</td>\n",
       "      <td>False</td>\n",
       "      <td>False</td>\n",
       "      <td>False</td>\n",
       "      <td>False</td>\n",
       "      <td>R</td>\n",
       "      <td>2018-10-17 09:54:58</td>\n",
       "    </tr>\n",
       "  </tbody>\n",
       "</table>\n",
       "</div>"
      ],
      "text/plain": [
       "     ID        Lat         Lng   Bump  Distance(mi)  Crossing  Give_Way  \\\n",
       "0  6407  37.786060 -122.390900  False         0.039     False     False   \n",
       "1  6408  37.769609 -122.415057  False         0.202     False     False   \n",
       "2  6409  37.807495 -122.476021  False         0.000     False     False   \n",
       "3  6410  37.761818 -122.405869  False         0.000     False     False   \n",
       "4  6411  37.732350 -122.414100  False         0.670     False     False   \n",
       "\n",
       "   Junction  No_Exit  Railway  Roundabout   Stop  Amenity Side  \\\n",
       "0      True    False    False       False  False    False    R   \n",
       "1     False    False    False       False  False    False    R   \n",
       "2     False    False    False       False  False    False    R   \n",
       "3      True    False    False       False  False    False    R   \n",
       "4     False    False    False       False  False    False    R   \n",
       "\n",
       "             timestamp  \n",
       "0  2016-04-04 19:20:31  \n",
       "1  2020-10-28 11:51:00  \n",
       "2  2019-09-09 07:36:45  \n",
       "3  2019-08-06 15:46:25  \n",
       "4  2018-10-17 09:54:58  "
      ]
     },
     "execution_count": 5,
     "metadata": {},
     "output_type": "execute_result"
    }
   ],
   "source": [
    "dataset_path = '/kaggle/input/car-crashes-severity-prediction/'\n",
    "\n",
    "test_df = pd.read_csv(os.path.join(dataset_path, 'test.csv'))\n",
    "\n",
    "print(\"The shape of the dataset is {}.\\n\\n\".format(test_df.shape))\n",
    "\n",
    "test_df.head()"
   ]
  },
  {
   "cell_type": "code",
   "execution_count": 6,
   "id": "e04c0650",
   "metadata": {
    "execution": {
     "iopub.execute_input": "2021-07-27T15:51:15.296483Z",
     "iopub.status.busy": "2021-07-27T15:51:15.295436Z",
     "iopub.status.idle": "2021-07-27T15:51:15.305005Z",
     "shell.execute_reply": "2021-07-27T15:51:15.304385Z",
     "shell.execute_reply.started": "2021-07-27T15:45:07.829522Z"
    },
    "papermill": {
     "duration": 0.081732,
     "end_time": "2021-07-27T15:51:15.305150",
     "exception": false,
     "start_time": "2021-07-27T15:51:15.223418",
     "status": "completed"
    },
    "tags": []
   },
   "outputs": [
    {
     "name": "stdout",
     "output_type": "stream",
     "text": [
      "<class 'pandas.core.frame.DataFrame'>\n",
      "RangeIndex: 1601 entries, 0 to 1600\n",
      "Data columns (total 15 columns):\n",
      " #   Column        Non-Null Count  Dtype  \n",
      "---  ------        --------------  -----  \n",
      " 0   ID            1601 non-null   int64  \n",
      " 1   Lat           1601 non-null   float64\n",
      " 2   Lng           1601 non-null   float64\n",
      " 3   Bump          1601 non-null   bool   \n",
      " 4   Distance(mi)  1601 non-null   float64\n",
      " 5   Crossing      1601 non-null   bool   \n",
      " 6   Give_Way      1601 non-null   bool   \n",
      " 7   Junction      1601 non-null   bool   \n",
      " 8   No_Exit       1601 non-null   bool   \n",
      " 9   Railway       1601 non-null   bool   \n",
      " 10  Roundabout    1601 non-null   bool   \n",
      " 11  Stop          1601 non-null   bool   \n",
      " 12  Amenity       1601 non-null   bool   \n",
      " 13  Side          1601 non-null   object \n",
      " 14  timestamp     1601 non-null   object \n",
      "dtypes: bool(9), float64(3), int64(1), object(2)\n",
      "memory usage: 89.2+ KB\n"
     ]
    }
   ],
   "source": [
    "test_df.info()"
   ]
  },
  {
   "cell_type": "markdown",
   "id": "cea45fb4",
   "metadata": {
    "papermill": {
     "duration": 0.054408,
     "end_time": "2021-07-27T15:51:15.416030",
     "exception": false,
     "start_time": "2021-07-27T15:51:15.361622",
     "status": "completed"
    },
    "tags": []
   },
   "source": [
    "# ****Read Weather data****"
   ]
  },
  {
   "cell_type": "code",
   "execution_count": 7,
   "id": "e2ea9ce2",
   "metadata": {
    "execution": {
     "iopub.execute_input": "2021-07-27T15:51:15.552342Z",
     "iopub.status.busy": "2021-07-27T15:51:15.551512Z",
     "iopub.status.idle": "2021-07-27T15:51:15.600045Z",
     "shell.execute_reply": "2021-07-27T15:51:15.599236Z",
     "shell.execute_reply.started": "2021-07-27T15:45:07.847475Z"
    },
    "papermill": {
     "duration": 0.128593,
     "end_time": "2021-07-27T15:51:15.600167",
     "exception": false,
     "start_time": "2021-07-27T15:51:15.471574",
     "status": "completed"
    },
    "tags": []
   },
   "outputs": [
    {
     "name": "stdout",
     "output_type": "stream",
     "text": [
      "The shape of the dataset is (6901, 12).\n",
      "\n",
      "\n"
     ]
    },
    {
     "data": {
      "text/html": [
       "<div>\n",
       "<style scoped>\n",
       "    .dataframe tbody tr th:only-of-type {\n",
       "        vertical-align: middle;\n",
       "    }\n",
       "\n",
       "    .dataframe tbody tr th {\n",
       "        vertical-align: top;\n",
       "    }\n",
       "\n",
       "    .dataframe thead th {\n",
       "        text-align: right;\n",
       "    }\n",
       "</style>\n",
       "<table border=\"1\" class=\"dataframe\">\n",
       "  <thead>\n",
       "    <tr style=\"text-align: right;\">\n",
       "      <th></th>\n",
       "      <th>Year</th>\n",
       "      <th>Day</th>\n",
       "      <th>Month</th>\n",
       "      <th>Hour</th>\n",
       "      <th>Weather_Condition</th>\n",
       "      <th>Wind_Chill(F)</th>\n",
       "      <th>Precipitation(in)</th>\n",
       "      <th>Temperature(F)</th>\n",
       "      <th>Humidity(%)</th>\n",
       "      <th>Wind_Speed(mph)</th>\n",
       "      <th>Visibility(mi)</th>\n",
       "      <th>Selected</th>\n",
       "    </tr>\n",
       "  </thead>\n",
       "  <tbody>\n",
       "    <tr>\n",
       "      <th>0</th>\n",
       "      <td>2020</td>\n",
       "      <td>27</td>\n",
       "      <td>7</td>\n",
       "      <td>18</td>\n",
       "      <td>Fair</td>\n",
       "      <td>64.0</td>\n",
       "      <td>0.0</td>\n",
       "      <td>64.0</td>\n",
       "      <td>70.0</td>\n",
       "      <td>20.0</td>\n",
       "      <td>10.0</td>\n",
       "      <td>No</td>\n",
       "    </tr>\n",
       "    <tr>\n",
       "      <th>1</th>\n",
       "      <td>2017</td>\n",
       "      <td>30</td>\n",
       "      <td>9</td>\n",
       "      <td>17</td>\n",
       "      <td>Partly Cloudy</td>\n",
       "      <td>NaN</td>\n",
       "      <td>NaN</td>\n",
       "      <td>71.1</td>\n",
       "      <td>57.0</td>\n",
       "      <td>9.2</td>\n",
       "      <td>10.0</td>\n",
       "      <td>No</td>\n",
       "    </tr>\n",
       "    <tr>\n",
       "      <th>2</th>\n",
       "      <td>2017</td>\n",
       "      <td>27</td>\n",
       "      <td>6</td>\n",
       "      <td>5</td>\n",
       "      <td>Overcast</td>\n",
       "      <td>NaN</td>\n",
       "      <td>NaN</td>\n",
       "      <td>57.9</td>\n",
       "      <td>87.0</td>\n",
       "      <td>15.0</td>\n",
       "      <td>9.0</td>\n",
       "      <td>No</td>\n",
       "    </tr>\n",
       "    <tr>\n",
       "      <th>3</th>\n",
       "      <td>2016</td>\n",
       "      <td>7</td>\n",
       "      <td>9</td>\n",
       "      <td>9</td>\n",
       "      <td>Clear</td>\n",
       "      <td>NaN</td>\n",
       "      <td>NaN</td>\n",
       "      <td>66.9</td>\n",
       "      <td>73.0</td>\n",
       "      <td>4.6</td>\n",
       "      <td>10.0</td>\n",
       "      <td>No</td>\n",
       "    </tr>\n",
       "    <tr>\n",
       "      <th>4</th>\n",
       "      <td>2019</td>\n",
       "      <td>19</td>\n",
       "      <td>10</td>\n",
       "      <td>2</td>\n",
       "      <td>Fair</td>\n",
       "      <td>52.0</td>\n",
       "      <td>0.0</td>\n",
       "      <td>52.0</td>\n",
       "      <td>89.0</td>\n",
       "      <td>0.0</td>\n",
       "      <td>9.0</td>\n",
       "      <td>No</td>\n",
       "    </tr>\n",
       "  </tbody>\n",
       "</table>\n",
       "</div>"
      ],
      "text/plain": [
       "   Year  Day  Month  Hour Weather_Condition  Wind_Chill(F)  Precipitation(in)  \\\n",
       "0  2020   27      7    18              Fair           64.0                0.0   \n",
       "1  2017   30      9    17     Partly Cloudy            NaN                NaN   \n",
       "2  2017   27      6     5          Overcast            NaN                NaN   \n",
       "3  2016    7      9     9             Clear            NaN                NaN   \n",
       "4  2019   19     10     2              Fair           52.0                0.0   \n",
       "\n",
       "   Temperature(F)  Humidity(%)  Wind_Speed(mph)  Visibility(mi) Selected  \n",
       "0            64.0         70.0             20.0            10.0       No  \n",
       "1            71.1         57.0              9.2            10.0       No  \n",
       "2            57.9         87.0             15.0             9.0       No  \n",
       "3            66.9         73.0              4.6            10.0       No  \n",
       "4            52.0         89.0              0.0             9.0       No  "
      ]
     },
     "execution_count": 7,
     "metadata": {},
     "output_type": "execute_result"
    }
   ],
   "source": [
    "\n",
    "weather = pd.read_csv(os.path.join(dataset_path, 'weather-sfcsv.csv'))\n",
    "\n",
    "print(\"The shape of the dataset is {}.\\n\\n\".format(weather.shape))\n",
    "\n",
    "weather.head()"
   ]
  },
  {
   "cell_type": "code",
   "execution_count": 8,
   "id": "835ece1c",
   "metadata": {
    "execution": {
     "iopub.execute_input": "2021-07-27T15:51:15.728858Z",
     "iopub.status.busy": "2021-07-27T15:51:15.728037Z",
     "iopub.status.idle": "2021-07-27T15:51:15.762492Z",
     "shell.execute_reply": "2021-07-27T15:51:15.762891Z",
     "shell.execute_reply.started": "2021-07-27T15:45:07.886796Z"
    },
    "papermill": {
     "duration": 0.098047,
     "end_time": "2021-07-27T15:51:15.763021",
     "exception": false,
     "start_time": "2021-07-27T15:51:15.664974",
     "status": "completed"
    },
    "tags": []
   },
   "outputs": [
    {
     "data": {
      "text/html": [
       "<div>\n",
       "<style scoped>\n",
       "    .dataframe tbody tr th:only-of-type {\n",
       "        vertical-align: middle;\n",
       "    }\n",
       "\n",
       "    .dataframe tbody tr th {\n",
       "        vertical-align: top;\n",
       "    }\n",
       "\n",
       "    .dataframe thead th {\n",
       "        text-align: right;\n",
       "    }\n",
       "</style>\n",
       "<table border=\"1\" class=\"dataframe\">\n",
       "  <thead>\n",
       "    <tr style=\"text-align: right;\">\n",
       "      <th></th>\n",
       "      <th>Year</th>\n",
       "      <th>Day</th>\n",
       "      <th>Month</th>\n",
       "      <th>Hour</th>\n",
       "      <th>Wind_Chill(F)</th>\n",
       "      <th>Precipitation(in)</th>\n",
       "      <th>Temperature(F)</th>\n",
       "      <th>Humidity(%)</th>\n",
       "      <th>Wind_Speed(mph)</th>\n",
       "      <th>Visibility(mi)</th>\n",
       "    </tr>\n",
       "  </thead>\n",
       "  <tbody>\n",
       "    <tr>\n",
       "      <th>count</th>\n",
       "      <td>6901.000000</td>\n",
       "      <td>6901.000000</td>\n",
       "      <td>6901.000000</td>\n",
       "      <td>6901.000000</td>\n",
       "      <td>3292.000000</td>\n",
       "      <td>3574.000000</td>\n",
       "      <td>6899.000000</td>\n",
       "      <td>6899.000000</td>\n",
       "      <td>6556.000000</td>\n",
       "      <td>6900.000000</td>\n",
       "    </tr>\n",
       "    <tr>\n",
       "      <th>mean</th>\n",
       "      <td>2018.293001</td>\n",
       "      <td>15.624837</td>\n",
       "      <td>6.775250</td>\n",
       "      <td>12.789886</td>\n",
       "      <td>59.762515</td>\n",
       "      <td>0.006444</td>\n",
       "      <td>59.905465</td>\n",
       "      <td>68.570952</td>\n",
       "      <td>10.813164</td>\n",
       "      <td>9.441851</td>\n",
       "    </tr>\n",
       "    <tr>\n",
       "      <th>std</th>\n",
       "      <td>1.390524</td>\n",
       "      <td>8.703753</td>\n",
       "      <td>3.567982</td>\n",
       "      <td>5.874155</td>\n",
       "      <td>9.338456</td>\n",
       "      <td>0.028822</td>\n",
       "      <td>7.977860</td>\n",
       "      <td>16.180126</td>\n",
       "      <td>6.406376</td>\n",
       "      <td>1.640513</td>\n",
       "    </tr>\n",
       "    <tr>\n",
       "      <th>min</th>\n",
       "      <td>2016.000000</td>\n",
       "      <td>1.000000</td>\n",
       "      <td>1.000000</td>\n",
       "      <td>0.000000</td>\n",
       "      <td>31.100000</td>\n",
       "      <td>0.000000</td>\n",
       "      <td>36.000000</td>\n",
       "      <td>10.000000</td>\n",
       "      <td>0.000000</td>\n",
       "      <td>0.000000</td>\n",
       "    </tr>\n",
       "    <tr>\n",
       "      <th>25%</th>\n",
       "      <td>2017.000000</td>\n",
       "      <td>8.000000</td>\n",
       "      <td>4.000000</td>\n",
       "      <td>8.000000</td>\n",
       "      <td>54.000000</td>\n",
       "      <td>0.000000</td>\n",
       "      <td>54.000000</td>\n",
       "      <td>59.000000</td>\n",
       "      <td>5.800000</td>\n",
       "      <td>10.000000</td>\n",
       "    </tr>\n",
       "    <tr>\n",
       "      <th>50%</th>\n",
       "      <td>2019.000000</td>\n",
       "      <td>15.000000</td>\n",
       "      <td>7.000000</td>\n",
       "      <td>14.000000</td>\n",
       "      <td>59.000000</td>\n",
       "      <td>0.000000</td>\n",
       "      <td>59.000000</td>\n",
       "      <td>70.000000</td>\n",
       "      <td>10.000000</td>\n",
       "      <td>10.000000</td>\n",
       "    </tr>\n",
       "    <tr>\n",
       "      <th>75%</th>\n",
       "      <td>2020.000000</td>\n",
       "      <td>23.000000</td>\n",
       "      <td>10.000000</td>\n",
       "      <td>17.000000</td>\n",
       "      <td>66.000000</td>\n",
       "      <td>0.000000</td>\n",
       "      <td>64.900000</td>\n",
       "      <td>80.000000</td>\n",
       "      <td>15.000000</td>\n",
       "      <td>10.000000</td>\n",
       "    </tr>\n",
       "    <tr>\n",
       "      <th>max</th>\n",
       "      <td>2020.000000</td>\n",
       "      <td>31.000000</td>\n",
       "      <td>12.000000</td>\n",
       "      <td>23.000000</td>\n",
       "      <td>98.000000</td>\n",
       "      <td>0.490000</td>\n",
       "      <td>98.100000</td>\n",
       "      <td>100.000000</td>\n",
       "      <td>40.300000</td>\n",
       "      <td>10.000000</td>\n",
       "    </tr>\n",
       "  </tbody>\n",
       "</table>\n",
       "</div>"
      ],
      "text/plain": [
       "              Year          Day        Month         Hour  Wind_Chill(F)  \\\n",
       "count  6901.000000  6901.000000  6901.000000  6901.000000    3292.000000   \n",
       "mean   2018.293001    15.624837     6.775250    12.789886      59.762515   \n",
       "std       1.390524     8.703753     3.567982     5.874155       9.338456   \n",
       "min    2016.000000     1.000000     1.000000     0.000000      31.100000   \n",
       "25%    2017.000000     8.000000     4.000000     8.000000      54.000000   \n",
       "50%    2019.000000    15.000000     7.000000    14.000000      59.000000   \n",
       "75%    2020.000000    23.000000    10.000000    17.000000      66.000000   \n",
       "max    2020.000000    31.000000    12.000000    23.000000      98.000000   \n",
       "\n",
       "       Precipitation(in)  Temperature(F)  Humidity(%)  Wind_Speed(mph)  \\\n",
       "count        3574.000000     6899.000000  6899.000000      6556.000000   \n",
       "mean            0.006444       59.905465    68.570952        10.813164   \n",
       "std             0.028822        7.977860    16.180126         6.406376   \n",
       "min             0.000000       36.000000    10.000000         0.000000   \n",
       "25%             0.000000       54.000000    59.000000         5.800000   \n",
       "50%             0.000000       59.000000    70.000000        10.000000   \n",
       "75%             0.000000       64.900000    80.000000        15.000000   \n",
       "max             0.490000       98.100000   100.000000        40.300000   \n",
       "\n",
       "       Visibility(mi)  \n",
       "count     6900.000000  \n",
       "mean         9.441851  \n",
       "std          1.640513  \n",
       "min          0.000000  \n",
       "25%         10.000000  \n",
       "50%         10.000000  \n",
       "75%         10.000000  \n",
       "max         10.000000  "
      ]
     },
     "execution_count": 8,
     "metadata": {},
     "output_type": "execute_result"
    }
   ],
   "source": [
    "weather.describe()"
   ]
  },
  {
   "cell_type": "code",
   "execution_count": 9,
   "id": "933585c8",
   "metadata": {
    "execution": {
     "iopub.execute_input": "2021-07-27T15:51:15.889809Z",
     "iopub.status.busy": "2021-07-27T15:51:15.888961Z",
     "iopub.status.idle": "2021-07-27T15:51:15.908108Z",
     "shell.execute_reply": "2021-07-27T15:51:15.909594Z",
     "shell.execute_reply.started": "2021-07-27T15:45:07.935485Z"
    },
    "papermill": {
     "duration": 0.089768,
     "end_time": "2021-07-27T15:51:15.909793",
     "exception": false,
     "start_time": "2021-07-27T15:51:15.820025",
     "status": "completed"
    },
    "tags": []
   },
   "outputs": [
    {
     "name": "stdout",
     "output_type": "stream",
     "text": [
      "<class 'pandas.core.frame.DataFrame'>\n",
      "RangeIndex: 6901 entries, 0 to 6900\n",
      "Data columns (total 12 columns):\n",
      " #   Column             Non-Null Count  Dtype  \n",
      "---  ------             --------------  -----  \n",
      " 0   Year               6901 non-null   int64  \n",
      " 1   Day                6901 non-null   int64  \n",
      " 2   Month              6901 non-null   int64  \n",
      " 3   Hour               6901 non-null   int64  \n",
      " 4   Weather_Condition  6900 non-null   object \n",
      " 5   Wind_Chill(F)      3292 non-null   float64\n",
      " 6   Precipitation(in)  3574 non-null   float64\n",
      " 7   Temperature(F)     6899 non-null   float64\n",
      " 8   Humidity(%)        6899 non-null   float64\n",
      " 9   Wind_Speed(mph)    6556 non-null   float64\n",
      " 10  Visibility(mi)     6900 non-null   float64\n",
      " 11  Selected           6901 non-null   object \n",
      "dtypes: float64(6), int64(4), object(2)\n",
      "memory usage: 647.1+ KB\n"
     ]
    }
   ],
   "source": [
    "weather.info()"
   ]
  },
  {
   "cell_type": "markdown",
   "id": "5e7bdac3",
   "metadata": {
    "papermill": {
     "duration": 0.056157,
     "end_time": "2021-07-27T15:51:16.042244",
     "exception": false,
     "start_time": "2021-07-27T15:51:15.986087",
     "status": "completed"
    },
    "tags": []
   },
   "source": [
    "# **Read xml file**"
   ]
  },
  {
   "cell_type": "code",
   "execution_count": 10,
   "id": "4a33b160",
   "metadata": {
    "execution": {
     "iopub.execute_input": "2021-07-27T15:51:16.161131Z",
     "iopub.status.busy": "2021-07-27T15:51:16.160582Z",
     "iopub.status.idle": "2021-07-27T15:51:16.178505Z",
     "shell.execute_reply": "2021-07-27T15:51:16.179101Z",
     "shell.execute_reply.started": "2021-07-27T15:45:07.956274Z"
    },
    "papermill": {
     "duration": 0.080817,
     "end_time": "2021-07-27T15:51:16.179273",
     "exception": false,
     "start_time": "2021-07-27T15:51:16.098456",
     "status": "completed"
    },
    "tags": []
   },
   "outputs": [
    {
     "name": "stdout",
     "output_type": "stream",
     "text": [
      "The shape of the hoildays.xml file is (90, 2).\n",
      "\n",
      "\n"
     ]
    },
    {
     "data": {
      "text/html": [
       "<div>\n",
       "<style scoped>\n",
       "    .dataframe tbody tr th:only-of-type {\n",
       "        vertical-align: middle;\n",
       "    }\n",
       "\n",
       "    .dataframe tbody tr th {\n",
       "        vertical-align: top;\n",
       "    }\n",
       "\n",
       "    .dataframe thead th {\n",
       "        text-align: right;\n",
       "    }\n",
       "</style>\n",
       "<table border=\"1\" class=\"dataframe\">\n",
       "  <thead>\n",
       "    <tr style=\"text-align: right;\">\n",
       "      <th></th>\n",
       "      <th>date</th>\n",
       "      <th>holiday</th>\n",
       "    </tr>\n",
       "  </thead>\n",
       "  <tbody>\n",
       "    <tr>\n",
       "      <th>0</th>\n",
       "      <td>2012-01-02</td>\n",
       "      <td>New Year Day</td>\n",
       "    </tr>\n",
       "    <tr>\n",
       "      <th>1</th>\n",
       "      <td>2012-01-16</td>\n",
       "      <td>Martin Luther King Jr. Day</td>\n",
       "    </tr>\n",
       "    <tr>\n",
       "      <th>2</th>\n",
       "      <td>2012-02-20</td>\n",
       "      <td>Presidents Day (Washingtons Birthday)</td>\n",
       "    </tr>\n",
       "    <tr>\n",
       "      <th>3</th>\n",
       "      <td>2012-05-28</td>\n",
       "      <td>Memorial Day</td>\n",
       "    </tr>\n",
       "    <tr>\n",
       "      <th>4</th>\n",
       "      <td>2012-07-04</td>\n",
       "      <td>Independence Day</td>\n",
       "    </tr>\n",
       "  </tbody>\n",
       "</table>\n",
       "</div>"
      ],
      "text/plain": [
       "         date                                holiday\n",
       "0  2012-01-02                           New Year Day\n",
       "1  2012-01-16             Martin Luther King Jr. Day\n",
       "2  2012-02-20  Presidents Day (Washingtons Birthday)\n",
       "3  2012-05-28                           Memorial Day\n",
       "4  2012-07-04                       Independence Day"
      ]
     },
     "execution_count": 10,
     "metadata": {},
     "output_type": "execute_result"
    }
   ],
   "source": [
    "#reading xml file using pandas and ElementTree\n",
    "import xml.etree.ElementTree as et \n",
    "import pandas as pd\n",
    "\n",
    "xtree = et.parse(\"../input/car-crashes-severity-prediction/holidays.xml\")\n",
    "xroot = xtree.getroot() \n",
    "\n",
    "df_cols = ['date', 'description']\n",
    "rows = []\n",
    "\n",
    "for node in xroot:\n",
    "    s_date = node.find(\"date\").text if node is not None else None\n",
    "    s_description = node.find(\"description\").text if node is not None else None\n",
    "    \n",
    "    rows.append({\"date\": s_date, \"description\": s_description})\n",
    "\n",
    "holidays = pd.DataFrame(rows, columns = df_cols)\n",
    "holidays.rename(columns={\"description\": \"holiday\"}, inplace=True)\n",
    "\n",
    "print(\"The shape of the hoildays.xml file is {}.\\n\\n\".format(holidays.shape))\n",
    "\n",
    "holidays.head()\n",
    "\n"
   ]
  },
  {
   "cell_type": "markdown",
   "id": "c3e6a9c4",
   "metadata": {
    "papermill": {
     "duration": 0.056737,
     "end_time": "2021-07-27T15:51:16.293067",
     "exception": false,
     "start_time": "2021-07-27T15:51:16.236330",
     "status": "completed"
    },
    "tags": []
   },
   "source": []
  },
  {
   "cell_type": "markdown",
   "id": "d9578532",
   "metadata": {
    "papermill": {
     "duration": 0.056329,
     "end_time": "2021-07-27T15:51:16.406515",
     "exception": false,
     "start_time": "2021-07-27T15:51:16.350186",
     "status": "completed"
    },
    "tags": []
   },
   "source": [
    "# ** Working with training data set **"
   ]
  },
  {
   "cell_type": "code",
   "execution_count": null,
   "id": "e7fa6ab5",
   "metadata": {
    "papermill": {
     "duration": 0.056592,
     "end_time": "2021-07-27T15:51:16.520472",
     "exception": false,
     "start_time": "2021-07-27T15:51:16.463880",
     "status": "completed"
    },
    "tags": []
   },
   "outputs": [],
   "source": []
  },
  {
   "cell_type": "code",
   "execution_count": 11,
   "id": "0e1de5c1",
   "metadata": {
    "execution": {
     "iopub.execute_input": "2021-07-27T15:51:16.645991Z",
     "iopub.status.busy": "2021-07-27T15:51:16.645415Z",
     "iopub.status.idle": "2021-07-27T15:51:16.648531Z",
     "shell.execute_reply": "2021-07-27T15:51:16.649119Z",
     "shell.execute_reply.started": "2021-07-27T15:45:07.976341Z"
    },
    "papermill": {
     "duration": 0.071705,
     "end_time": "2021-07-27T15:51:16.649307",
     "exception": false,
     "start_time": "2021-07-27T15:51:16.577602",
     "status": "completed"
    },
    "tags": []
   },
   "outputs": [
    {
     "name": "stdout",
     "output_type": "stream",
     "text": [
      "   ID        Lat         Lng  Distance(mi)  Crossing  Give_Way  Junction  \\\n",
      "0   0  37.762150 -122.405660         0.044     False     False     False   \n",
      "1   1  37.719157 -122.448254         0.000     False     False     False   \n",
      "2   2  37.808498 -122.366852         0.000     False     False     False   \n",
      "3   3  37.785930 -122.391080         0.009     False     False      True   \n",
      "4   4  37.719141 -122.448457         0.000     False     False     False   \n",
      "\n",
      "   No_Exit  Railway  Roundabout   Stop  Amenity Side  Severity  \\\n",
      "0    False    False       False  False     True    R         2   \n",
      "1    False    False       False  False    False    R         2   \n",
      "2    False    False       False   True    False    R         3   \n",
      "3    False    False       False  False    False    R         1   \n",
      "4    False    False       False  False    False    R         2   \n",
      "\n",
      "             timestamp  \n",
      "0  2016-03-25 15:13:02  \n",
      "1  2020-05-05 19:23:00  \n",
      "2  2016-09-16 19:57:16  \n",
      "3  2020-03-29 19:48:43  \n",
      "4  2019-10-09 08:47:00  \n"
     ]
    }
   ],
   "source": [
    "new_df = df.drop(columns='Bump')\n",
    "print(new_df.head())"
   ]
  },
  {
   "cell_type": "markdown",
   "id": "40dc8d99",
   "metadata": {
    "papermill": {
     "duration": 0.056768,
     "end_time": "2021-07-27T15:51:16.765580",
     "exception": false,
     "start_time": "2021-07-27T15:51:16.708812",
     "status": "completed"
    },
    "tags": []
   },
   "source": [
    "**Creating rush hour list**"
   ]
  },
  {
   "cell_type": "code",
   "execution_count": 12,
   "id": "6ebf293c",
   "metadata": {
    "execution": {
     "iopub.execute_input": "2021-07-27T15:51:16.884705Z",
     "iopub.status.busy": "2021-07-27T15:51:16.883926Z",
     "iopub.status.idle": "2021-07-27T15:51:16.887457Z",
     "shell.execute_reply": "2021-07-27T15:51:16.887065Z",
     "shell.execute_reply.started": "2021-07-27T15:45:08.111332Z"
    },
    "papermill": {
     "duration": 0.06526,
     "end_time": "2021-07-27T15:51:16.887577",
     "exception": false,
     "start_time": "2021-07-27T15:51:16.822317",
     "status": "completed"
    },
    "tags": []
   },
   "outputs": [
    {
     "data": {
      "text/plain": [
       "\"size = len(new_df)\\nfor i in range(size):\\n    if new_df['Severity'][i] == 1 or  new_df['Severity'][i] == 4:\\n        row = new_df.iloc[i]\\n        for j in range(3):\\n            new_df.index +=1\\n            new_df.loc[-1] = row\\n\""
      ]
     },
     "execution_count": 12,
     "metadata": {},
     "output_type": "execute_result"
    }
   ],
   "source": [
    "'''size = len(new_df)\n",
    "for i in range(size):\n",
    "    if new_df['Severity'][i] == 1 or  new_df['Severity'][i] == 4:\n",
    "        row = new_df.iloc[i]\n",
    "        for j in range(3):\n",
    "            new_df.index +=1\n",
    "            new_df.loc[-1] = row\n",
    "'''        "
   ]
  },
  {
   "cell_type": "code",
   "execution_count": 13,
   "id": "eefcaa4f",
   "metadata": {
    "execution": {
     "iopub.execute_input": "2021-07-27T15:51:17.008769Z",
     "iopub.status.busy": "2021-07-27T15:51:17.007942Z",
     "iopub.status.idle": "2021-07-27T15:51:17.665783Z",
     "shell.execute_reply": "2021-07-27T15:51:17.666462Z",
     "shell.execute_reply.started": "2021-07-27T15:45:08.119713Z"
    },
    "papermill": {
     "duration": 0.721707,
     "end_time": "2021-07-27T15:51:17.666692",
     "exception": false,
     "start_time": "2021-07-27T15:51:16.944985",
     "status": "completed"
    },
    "tags": []
   },
   "outputs": [],
   "source": [
    "#cerating new list containing rush hours from timestamps\n",
    "rush_hour = []\n",
    "bool_rush_hour = []\n",
    "for row in new_df.iterrows():\n",
    "    rush_hour.append((row[1][14][11:16].split(\":\")))\n",
    "\n",
    "for hour, minute in rush_hour:\n",
    "    if int (hour) >= 7 and int (hour) <= 9:\n",
    "        bool_rush_hour.append(True)\n",
    "    elif int (hour) >=16 and int (hour) <= 19:\n",
    "        bool_rush_hour.append(True)\n",
    "    else:\n",
    "        bool_rush_hour.append(False)"
   ]
  },
  {
   "cell_type": "code",
   "execution_count": 14,
   "id": "541491c3",
   "metadata": {
    "execution": {
     "iopub.execute_input": "2021-07-27T15:51:17.819401Z",
     "iopub.status.busy": "2021-07-27T15:51:17.818538Z",
     "iopub.status.idle": "2021-07-27T15:51:17.822568Z",
     "shell.execute_reply": "2021-07-27T15:51:17.823002Z",
     "shell.execute_reply.started": "2021-07-27T15:45:08.622426Z"
    },
    "papermill": {
     "duration": 0.06709,
     "end_time": "2021-07-27T15:51:17.823130",
     "exception": false,
     "start_time": "2021-07-27T15:51:17.756040",
     "status": "completed"
    },
    "tags": []
   },
   "outputs": [
    {
     "data": {
      "text/plain": [
       "0       2016-03-25 15:13:02\n",
       "1       2020-05-05 19:23:00\n",
       "2       2016-09-16 19:57:16\n",
       "3       2020-03-29 19:48:43\n",
       "4       2019-10-09 08:47:00\n",
       "               ...         \n",
       "6402    2017-10-01 18:36:13\n",
       "6403    2018-10-23 07:40:27\n",
       "6404    2019-10-28 15:45:00\n",
       "6405    2019-05-04 13:45:31\n",
       "6406    2020-02-28 19:43:00\n",
       "Name: timestamp, Length: 6407, dtype: object"
      ]
     },
     "execution_count": 14,
     "metadata": {},
     "output_type": "execute_result"
    }
   ],
   "source": [
    "# checking timestamp\n",
    "new_df[\"timestamp\"]"
   ]
  },
  {
   "cell_type": "markdown",
   "id": "9fa5f19e",
   "metadata": {
    "papermill": {
     "duration": 0.057734,
     "end_time": "2021-07-27T15:51:17.938935",
     "exception": false,
     "start_time": "2021-07-27T15:51:17.881201",
     "status": "completed"
    },
    "tags": []
   },
   "source": [
    "# **convert timestamp to day-week**"
   ]
  },
  {
   "cell_type": "code",
   "execution_count": 15,
   "id": "de84b5b0",
   "metadata": {
    "execution": {
     "iopub.execute_input": "2021-07-27T15:51:18.060409Z",
     "iopub.status.busy": "2021-07-27T15:51:18.059604Z",
     "iopub.status.idle": "2021-07-27T15:51:18.590016Z",
     "shell.execute_reply": "2021-07-27T15:51:18.589602Z",
     "shell.execute_reply.started": "2021-07-27T15:45:08.632620Z"
    },
    "papermill": {
     "duration": 0.593434,
     "end_time": "2021-07-27T15:51:18.590136",
     "exception": false,
     "start_time": "2021-07-27T15:51:17.996702",
     "status": "completed"
    },
    "tags": []
   },
   "outputs": [
    {
     "data": {
      "text/plain": [
       "['Friday',\n",
       " 'Tuesday',\n",
       " 'Friday',\n",
       " 'Sunday',\n",
       " 'Wednesday',\n",
       " 'Sunday',\n",
       " 'Wednesday',\n",
       " 'Friday',\n",
       " 'Sunday',\n",
       " 'Wednesday']"
      ]
     },
     "execution_count": 15,
     "metadata": {},
     "output_type": "execute_result"
    }
   ],
   "source": [
    "def findDay(date):\n",
    "    born = datetime.datetime.strptime(date, '%Y %m %d').weekday()\n",
    "    return (calendar.day_name[born])\n",
    "\n",
    "datetimelist=[]\n",
    "day_week=[]\n",
    "for row in new_df.iterrows():\n",
    "    datetimelist.append(row[1][14][:10].replace('-',' '))\n",
    "date = '03 02 2019'\n",
    "\n",
    "for element in datetimelist:\n",
    "   \n",
    "    day_week.append(findDay(element))\n",
    "\n",
    "day_week[:10]"
   ]
  },
  {
   "cell_type": "code",
   "execution_count": 16,
   "id": "77a5287a",
   "metadata": {
    "execution": {
     "iopub.execute_input": "2021-07-27T15:51:18.715539Z",
     "iopub.status.busy": "2021-07-27T15:51:18.714269Z",
     "iopub.status.idle": "2021-07-27T15:51:18.716593Z",
     "shell.execute_reply": "2021-07-27T15:51:18.716993Z",
     "shell.execute_reply.started": "2021-07-27T15:45:09.230433Z"
    },
    "papermill": {
     "duration": 0.068405,
     "end_time": "2021-07-27T15:51:18.717113",
     "exception": false,
     "start_time": "2021-07-27T15:51:18.648708",
     "status": "completed"
    },
    "tags": []
   },
   "outputs": [],
   "source": [
    "def convert_days_tonumbers(lists):\n",
    "    for idx in range(len(lists)):\n",
    "        if lists[idx]=='Saturday':\n",
    "            lists[idx]=1\n",
    "        elif lists[idx]=='Sunday':\n",
    "            lists[idx]=2\n",
    "        elif lists[idx]=='Monday':\n",
    "            lists[idx]=3\n",
    "        elif lists[idx]=='Tuesday':\n",
    "            lists[idx]=4\n",
    "        elif lists[idx]=='Wednesday':\n",
    "            lists[idx]=5\n",
    "        elif lists[idx]=='Thursday':\n",
    "            lists[idx]=6\n",
    "        elif lists[idx]=='Friday':\n",
    "            lists[idx]=7\n",
    "    return lists"
   ]
  },
  {
   "cell_type": "code",
   "execution_count": 17,
   "id": "7e03e638",
   "metadata": {
    "execution": {
     "iopub.execute_input": "2021-07-27T15:51:18.837797Z",
     "iopub.status.busy": "2021-07-27T15:51:18.837176Z",
     "iopub.status.idle": "2021-07-27T15:51:18.840377Z",
     "shell.execute_reply": "2021-07-27T15:51:18.840763Z",
     "shell.execute_reply.started": "2021-07-27T15:45:09.239588Z"
    },
    "papermill": {
     "duration": 0.065894,
     "end_time": "2021-07-27T15:51:18.840886",
     "exception": false,
     "start_time": "2021-07-27T15:51:18.774992",
     "status": "completed"
    },
    "tags": []
   },
   "outputs": [],
   "source": [
    "day_week=convert_days_tonumbers(day_week)"
   ]
  },
  {
   "cell_type": "code",
   "execution_count": 18,
   "id": "96330b75",
   "metadata": {
    "execution": {
     "iopub.execute_input": "2021-07-27T15:51:18.971447Z",
     "iopub.status.busy": "2021-07-27T15:51:18.970488Z",
     "iopub.status.idle": "2021-07-27T15:51:18.972924Z",
     "shell.execute_reply": "2021-07-27T15:51:18.973346Z",
     "shell.execute_reply.started": "2021-07-27T15:45:09.254027Z"
    },
    "papermill": {
     "duration": 0.071446,
     "end_time": "2021-07-27T15:51:18.973503",
     "exception": false,
     "start_time": "2021-07-27T15:51:18.902057",
     "status": "completed"
    },
    "tags": []
   },
   "outputs": [],
   "source": [
    "new_df[\"Day\"]=day_week\n",
    "new_df[\"Rush-hour\"]=bool_rush_hour"
   ]
  },
  {
   "cell_type": "code",
   "execution_count": 19,
   "id": "3e6cdd94",
   "metadata": {
    "execution": {
     "iopub.execute_input": "2021-07-27T15:51:19.125220Z",
     "iopub.status.busy": "2021-07-27T15:51:19.124443Z",
     "iopub.status.idle": "2021-07-27T15:51:19.127840Z",
     "shell.execute_reply": "2021-07-27T15:51:19.128243Z",
     "shell.execute_reply.started": "2021-07-27T15:45:09.268543Z"
    },
    "papermill": {
     "duration": 0.089438,
     "end_time": "2021-07-27T15:51:19.128373",
     "exception": false,
     "start_time": "2021-07-27T15:51:19.038935",
     "status": "completed"
    },
    "tags": []
   },
   "outputs": [
    {
     "data": {
      "text/html": [
       "<div>\n",
       "<style scoped>\n",
       "    .dataframe tbody tr th:only-of-type {\n",
       "        vertical-align: middle;\n",
       "    }\n",
       "\n",
       "    .dataframe tbody tr th {\n",
       "        vertical-align: top;\n",
       "    }\n",
       "\n",
       "    .dataframe thead th {\n",
       "        text-align: right;\n",
       "    }\n",
       "</style>\n",
       "<table border=\"1\" class=\"dataframe\">\n",
       "  <thead>\n",
       "    <tr style=\"text-align: right;\">\n",
       "      <th></th>\n",
       "      <th>ID</th>\n",
       "      <th>Lat</th>\n",
       "      <th>Lng</th>\n",
       "      <th>Distance(mi)</th>\n",
       "      <th>Crossing</th>\n",
       "      <th>Give_Way</th>\n",
       "      <th>Junction</th>\n",
       "      <th>No_Exit</th>\n",
       "      <th>Railway</th>\n",
       "      <th>Roundabout</th>\n",
       "      <th>Stop</th>\n",
       "      <th>Amenity</th>\n",
       "      <th>Side</th>\n",
       "      <th>Severity</th>\n",
       "      <th>timestamp</th>\n",
       "      <th>Day</th>\n",
       "      <th>Rush-hour</th>\n",
       "    </tr>\n",
       "  </thead>\n",
       "  <tbody>\n",
       "    <tr>\n",
       "      <th>0</th>\n",
       "      <td>0</td>\n",
       "      <td>37.762150</td>\n",
       "      <td>-122.405660</td>\n",
       "      <td>0.044</td>\n",
       "      <td>False</td>\n",
       "      <td>False</td>\n",
       "      <td>False</td>\n",
       "      <td>False</td>\n",
       "      <td>False</td>\n",
       "      <td>False</td>\n",
       "      <td>False</td>\n",
       "      <td>True</td>\n",
       "      <td>R</td>\n",
       "      <td>2</td>\n",
       "      <td>2016-03-25 15:13:02</td>\n",
       "      <td>7</td>\n",
       "      <td>False</td>\n",
       "    </tr>\n",
       "    <tr>\n",
       "      <th>1</th>\n",
       "      <td>1</td>\n",
       "      <td>37.719157</td>\n",
       "      <td>-122.448254</td>\n",
       "      <td>0.000</td>\n",
       "      <td>False</td>\n",
       "      <td>False</td>\n",
       "      <td>False</td>\n",
       "      <td>False</td>\n",
       "      <td>False</td>\n",
       "      <td>False</td>\n",
       "      <td>False</td>\n",
       "      <td>False</td>\n",
       "      <td>R</td>\n",
       "      <td>2</td>\n",
       "      <td>2020-05-05 19:23:00</td>\n",
       "      <td>4</td>\n",
       "      <td>True</td>\n",
       "    </tr>\n",
       "    <tr>\n",
       "      <th>2</th>\n",
       "      <td>2</td>\n",
       "      <td>37.808498</td>\n",
       "      <td>-122.366852</td>\n",
       "      <td>0.000</td>\n",
       "      <td>False</td>\n",
       "      <td>False</td>\n",
       "      <td>False</td>\n",
       "      <td>False</td>\n",
       "      <td>False</td>\n",
       "      <td>False</td>\n",
       "      <td>True</td>\n",
       "      <td>False</td>\n",
       "      <td>R</td>\n",
       "      <td>3</td>\n",
       "      <td>2016-09-16 19:57:16</td>\n",
       "      <td>7</td>\n",
       "      <td>True</td>\n",
       "    </tr>\n",
       "    <tr>\n",
       "      <th>3</th>\n",
       "      <td>3</td>\n",
       "      <td>37.785930</td>\n",
       "      <td>-122.391080</td>\n",
       "      <td>0.009</td>\n",
       "      <td>False</td>\n",
       "      <td>False</td>\n",
       "      <td>True</td>\n",
       "      <td>False</td>\n",
       "      <td>False</td>\n",
       "      <td>False</td>\n",
       "      <td>False</td>\n",
       "      <td>False</td>\n",
       "      <td>R</td>\n",
       "      <td>1</td>\n",
       "      <td>2020-03-29 19:48:43</td>\n",
       "      <td>2</td>\n",
       "      <td>True</td>\n",
       "    </tr>\n",
       "    <tr>\n",
       "      <th>4</th>\n",
       "      <td>4</td>\n",
       "      <td>37.719141</td>\n",
       "      <td>-122.448457</td>\n",
       "      <td>0.000</td>\n",
       "      <td>False</td>\n",
       "      <td>False</td>\n",
       "      <td>False</td>\n",
       "      <td>False</td>\n",
       "      <td>False</td>\n",
       "      <td>False</td>\n",
       "      <td>False</td>\n",
       "      <td>False</td>\n",
       "      <td>R</td>\n",
       "      <td>2</td>\n",
       "      <td>2019-10-09 08:47:00</td>\n",
       "      <td>5</td>\n",
       "      <td>True</td>\n",
       "    </tr>\n",
       "  </tbody>\n",
       "</table>\n",
       "</div>"
      ],
      "text/plain": [
       "   ID        Lat         Lng  Distance(mi)  Crossing  Give_Way  Junction  \\\n",
       "0   0  37.762150 -122.405660         0.044     False     False     False   \n",
       "1   1  37.719157 -122.448254         0.000     False     False     False   \n",
       "2   2  37.808498 -122.366852         0.000     False     False     False   \n",
       "3   3  37.785930 -122.391080         0.009     False     False      True   \n",
       "4   4  37.719141 -122.448457         0.000     False     False     False   \n",
       "\n",
       "   No_Exit  Railway  Roundabout   Stop  Amenity Side  Severity  \\\n",
       "0    False    False       False  False     True    R         2   \n",
       "1    False    False       False  False    False    R         2   \n",
       "2    False    False       False   True    False    R         3   \n",
       "3    False    False       False  False    False    R         1   \n",
       "4    False    False       False  False    False    R         2   \n",
       "\n",
       "             timestamp  Day  Rush-hour  \n",
       "0  2016-03-25 15:13:02    7      False  \n",
       "1  2020-05-05 19:23:00    4       True  \n",
       "2  2016-09-16 19:57:16    7       True  \n",
       "3  2020-03-29 19:48:43    2       True  \n",
       "4  2019-10-09 08:47:00    5       True  "
      ]
     },
     "execution_count": 19,
     "metadata": {},
     "output_type": "execute_result"
    }
   ],
   "source": [
    "new_df.head()"
   ]
  },
  {
   "cell_type": "markdown",
   "id": "023bbb59",
   "metadata": {
    "papermill": {
     "duration": 0.064973,
     "end_time": "2021-07-27T15:51:19.253188",
     "exception": false,
     "start_time": "2021-07-27T15:51:19.188215",
     "status": "completed"
    },
    "tags": []
   },
   "source": [
    "# **Converting Categorical data to numerical**"
   ]
  },
  {
   "cell_type": "code",
   "execution_count": 20,
   "id": "69fa6ae7",
   "metadata": {
    "execution": {
     "iopub.execute_input": "2021-07-27T15:51:19.388253Z",
     "iopub.status.busy": "2021-07-27T15:51:19.387413Z",
     "iopub.status.idle": "2021-07-27T15:51:19.432429Z",
     "shell.execute_reply": "2021-07-27T15:51:19.432971Z",
     "shell.execute_reply.started": "2021-07-27T15:45:09.295153Z"
    },
    "papermill": {
     "duration": 0.117002,
     "end_time": "2021-07-27T15:51:19.433134",
     "exception": false,
     "start_time": "2021-07-27T15:51:19.316132",
     "status": "completed"
    },
    "tags": []
   },
   "outputs": [
    {
     "data": {
      "text/html": [
       "<div>\n",
       "<style scoped>\n",
       "    .dataframe tbody tr th:only-of-type {\n",
       "        vertical-align: middle;\n",
       "    }\n",
       "\n",
       "    .dataframe tbody tr th {\n",
       "        vertical-align: top;\n",
       "    }\n",
       "\n",
       "    .dataframe thead th {\n",
       "        text-align: right;\n",
       "    }\n",
       "</style>\n",
       "<table border=\"1\" class=\"dataframe\">\n",
       "  <thead>\n",
       "    <tr style=\"text-align: right;\">\n",
       "      <th></th>\n",
       "      <th>ID</th>\n",
       "      <th>Lat</th>\n",
       "      <th>Lng</th>\n",
       "      <th>Distance(mi)</th>\n",
       "      <th>Crossing</th>\n",
       "      <th>Give_Way</th>\n",
       "      <th>Junction</th>\n",
       "      <th>No_Exit</th>\n",
       "      <th>Railway</th>\n",
       "      <th>Roundabout</th>\n",
       "      <th>Stop</th>\n",
       "      <th>Amenity</th>\n",
       "      <th>Side</th>\n",
       "      <th>Severity</th>\n",
       "      <th>timestamp</th>\n",
       "      <th>Day</th>\n",
       "      <th>Rush-hour</th>\n",
       "    </tr>\n",
       "  </thead>\n",
       "  <tbody>\n",
       "    <tr>\n",
       "      <th>0</th>\n",
       "      <td>0</td>\n",
       "      <td>37.762150</td>\n",
       "      <td>-122.405660</td>\n",
       "      <td>0.044</td>\n",
       "      <td>0.0</td>\n",
       "      <td>0.0</td>\n",
       "      <td>0.0</td>\n",
       "      <td>0.0</td>\n",
       "      <td>0.0</td>\n",
       "      <td>0.0</td>\n",
       "      <td>0.0</td>\n",
       "      <td>1.0</td>\n",
       "      <td>1.0</td>\n",
       "      <td>2</td>\n",
       "      <td>2016-03-25 15:13:02</td>\n",
       "      <td>7</td>\n",
       "      <td>False</td>\n",
       "    </tr>\n",
       "    <tr>\n",
       "      <th>1</th>\n",
       "      <td>1</td>\n",
       "      <td>37.719157</td>\n",
       "      <td>-122.448254</td>\n",
       "      <td>0.000</td>\n",
       "      <td>0.0</td>\n",
       "      <td>0.0</td>\n",
       "      <td>0.0</td>\n",
       "      <td>0.0</td>\n",
       "      <td>0.0</td>\n",
       "      <td>0.0</td>\n",
       "      <td>0.0</td>\n",
       "      <td>0.0</td>\n",
       "      <td>1.0</td>\n",
       "      <td>2</td>\n",
       "      <td>2020-05-05 19:23:00</td>\n",
       "      <td>4</td>\n",
       "      <td>True</td>\n",
       "    </tr>\n",
       "    <tr>\n",
       "      <th>2</th>\n",
       "      <td>2</td>\n",
       "      <td>37.808498</td>\n",
       "      <td>-122.366852</td>\n",
       "      <td>0.000</td>\n",
       "      <td>0.0</td>\n",
       "      <td>0.0</td>\n",
       "      <td>0.0</td>\n",
       "      <td>0.0</td>\n",
       "      <td>0.0</td>\n",
       "      <td>0.0</td>\n",
       "      <td>1.0</td>\n",
       "      <td>0.0</td>\n",
       "      <td>1.0</td>\n",
       "      <td>3</td>\n",
       "      <td>2016-09-16 19:57:16</td>\n",
       "      <td>7</td>\n",
       "      <td>True</td>\n",
       "    </tr>\n",
       "    <tr>\n",
       "      <th>3</th>\n",
       "      <td>3</td>\n",
       "      <td>37.785930</td>\n",
       "      <td>-122.391080</td>\n",
       "      <td>0.009</td>\n",
       "      <td>0.0</td>\n",
       "      <td>0.0</td>\n",
       "      <td>1.0</td>\n",
       "      <td>0.0</td>\n",
       "      <td>0.0</td>\n",
       "      <td>0.0</td>\n",
       "      <td>0.0</td>\n",
       "      <td>0.0</td>\n",
       "      <td>1.0</td>\n",
       "      <td>1</td>\n",
       "      <td>2020-03-29 19:48:43</td>\n",
       "      <td>2</td>\n",
       "      <td>True</td>\n",
       "    </tr>\n",
       "    <tr>\n",
       "      <th>4</th>\n",
       "      <td>4</td>\n",
       "      <td>37.719141</td>\n",
       "      <td>-122.448457</td>\n",
       "      <td>0.000</td>\n",
       "      <td>0.0</td>\n",
       "      <td>0.0</td>\n",
       "      <td>0.0</td>\n",
       "      <td>0.0</td>\n",
       "      <td>0.0</td>\n",
       "      <td>0.0</td>\n",
       "      <td>0.0</td>\n",
       "      <td>0.0</td>\n",
       "      <td>1.0</td>\n",
       "      <td>2</td>\n",
       "      <td>2019-10-09 08:47:00</td>\n",
       "      <td>5</td>\n",
       "      <td>True</td>\n",
       "    </tr>\n",
       "  </tbody>\n",
       "</table>\n",
       "</div>"
      ],
      "text/plain": [
       "   ID        Lat         Lng  Distance(mi)  Crossing  Give_Way  Junction  \\\n",
       "0   0  37.762150 -122.405660         0.044       0.0       0.0       0.0   \n",
       "1   1  37.719157 -122.448254         0.000       0.0       0.0       0.0   \n",
       "2   2  37.808498 -122.366852         0.000       0.0       0.0       0.0   \n",
       "3   3  37.785930 -122.391080         0.009       0.0       0.0       1.0   \n",
       "4   4  37.719141 -122.448457         0.000       0.0       0.0       0.0   \n",
       "\n",
       "   No_Exit  Railway  Roundabout  Stop  Amenity  Side  Severity  \\\n",
       "0      0.0      0.0         0.0   0.0      1.0   1.0         2   \n",
       "1      0.0      0.0         0.0   0.0      0.0   1.0         2   \n",
       "2      0.0      0.0         0.0   1.0      0.0   1.0         3   \n",
       "3      0.0      0.0         0.0   0.0      0.0   1.0         1   \n",
       "4      0.0      0.0         0.0   0.0      0.0   1.0         2   \n",
       "\n",
       "             timestamp  Day  Rush-hour  \n",
       "0  2016-03-25 15:13:02    7      False  \n",
       "1  2020-05-05 19:23:00    4       True  \n",
       "2  2016-09-16 19:57:16    7       True  \n",
       "3  2020-03-29 19:48:43    2       True  \n",
       "4  2019-10-09 08:47:00    5       True  "
      ]
     },
     "execution_count": 20,
     "metadata": {},
     "output_type": "execute_result"
    }
   ],
   "source": [
    "ord_enc = OrdinalEncoder()\n",
    "new_df[\"Crossing\"] = ord_enc.fit_transform(new_df[[\"Crossing\"]])\n",
    "new_df[\"Give_Way\"] = ord_enc.fit_transform(new_df[[\"Give_Way\"]])\n",
    "new_df[\"Junction\"] = ord_enc.fit_transform(new_df[[\"Junction\"]])\n",
    "new_df[\"No_Exit\"] = ord_enc.fit_transform(new_df[[\"No_Exit\"]])\n",
    "new_df[\"Railway\"] = ord_enc.fit_transform(new_df[[\"Railway\"]])\n",
    "new_df[\"Roundabout\"] = ord_enc.fit_transform(new_df[[\"Roundabout\"]])\n",
    "new_df[\"Stop\"] = ord_enc.fit_transform(new_df[[\"Stop\"]])\n",
    "new_df[\"Amenity\"] = ord_enc.fit_transform(new_df[[\"Amenity\"]])\n",
    "new_df[\"Side\"] = ord_enc.fit_transform(new_df[[\"Side\"]])\n",
    "\n",
    "new_df.head()\n"
   ]
  },
  {
   "cell_type": "code",
   "execution_count": 21,
   "id": "39ab7a6f",
   "metadata": {
    "execution": {
     "iopub.execute_input": "2021-07-27T15:51:19.570600Z",
     "iopub.status.busy": "2021-07-27T15:51:19.569863Z",
     "iopub.status.idle": "2021-07-27T15:51:19.573325Z",
     "shell.execute_reply": "2021-07-27T15:51:19.572936Z",
     "shell.execute_reply.started": "2021-07-27T15:45:09.352249Z"
    },
    "papermill": {
     "duration": 0.074212,
     "end_time": "2021-07-27T15:51:19.573440",
     "exception": false,
     "start_time": "2021-07-27T15:51:19.499228",
     "status": "completed"
    },
    "tags": []
   },
   "outputs": [
    {
     "data": {
      "text/plain": [
       "\"\\nCrossing=new_df['Crossing']\\nGive_Way=new_df['Give_Way']\\nJunction=new_df['Junction']\\nNo_Exit=new_df['No_Exit']\\nRailway=new_df['Railway']\\nnew_reduction_list=[]\\nfor idx in range(len(Crossing)):\\n    x=0\\n    if(Crossing[idx]==1):\\n        x+=1\\n    if(Give_Way[idx]==1):\\n        x+=1\\n    if(Junction[idx]==1):\\n        x+=1\\n    if(No_Exit[idx]==1):\\n        x+=1\\n    if(Railway[idx]==1):\\n        x+=1\\n    new_reduction_list.append(x)\\nnew_df['FeatureReduced']=new_reduction_list\\n\""
      ]
     },
     "execution_count": 21,
     "metadata": {},
     "output_type": "execute_result"
    }
   ],
   "source": [
    "'''\n",
    "Crossing=new_df['Crossing']\n",
    "Give_Way=new_df['Give_Way']\n",
    "Junction=new_df['Junction']\n",
    "No_Exit=new_df['No_Exit']\n",
    "Railway=new_df['Railway']\n",
    "new_reduction_list=[]\n",
    "for idx in range(len(Crossing)):\n",
    "    x=0\n",
    "    if(Crossing[idx]==1):\n",
    "        x+=1\n",
    "    if(Give_Way[idx]==1):\n",
    "        x+=1\n",
    "    if(Junction[idx]==1):\n",
    "        x+=1\n",
    "    if(No_Exit[idx]==1):\n",
    "        x+=1\n",
    "    if(Railway[idx]==1):\n",
    "        x+=1\n",
    "    new_reduction_list.append(x)\n",
    "new_df['FeatureReduced']=new_reduction_list\n",
    "'''"
   ]
  },
  {
   "cell_type": "code",
   "execution_count": 22,
   "id": "aa31e9bf",
   "metadata": {
    "execution": {
     "iopub.execute_input": "2021-07-27T15:51:19.705945Z",
     "iopub.status.busy": "2021-07-27T15:51:19.705124Z",
     "iopub.status.idle": "2021-07-27T15:51:19.758000Z",
     "shell.execute_reply": "2021-07-27T15:51:19.757458Z",
     "shell.execute_reply.started": "2021-07-27T15:45:09.359833Z"
    },
    "papermill": {
     "duration": 0.121556,
     "end_time": "2021-07-27T15:51:19.758134",
     "exception": false,
     "start_time": "2021-07-27T15:51:19.636578",
     "status": "completed"
    },
    "tags": []
   },
   "outputs": [
    {
     "data": {
      "text/html": [
       "<div>\n",
       "<style scoped>\n",
       "    .dataframe tbody tr th:only-of-type {\n",
       "        vertical-align: middle;\n",
       "    }\n",
       "\n",
       "    .dataframe tbody tr th {\n",
       "        vertical-align: top;\n",
       "    }\n",
       "\n",
       "    .dataframe thead th {\n",
       "        text-align: right;\n",
       "    }\n",
       "</style>\n",
       "<table border=\"1\" class=\"dataframe\">\n",
       "  <thead>\n",
       "    <tr style=\"text-align: right;\">\n",
       "      <th></th>\n",
       "      <th>Lat</th>\n",
       "      <th>Lng</th>\n",
       "      <th>Distance(mi)</th>\n",
       "      <th>Crossing</th>\n",
       "      <th>Give_Way</th>\n",
       "      <th>Junction</th>\n",
       "      <th>No_Exit</th>\n",
       "      <th>Railway</th>\n",
       "      <th>Roundabout</th>\n",
       "      <th>Stop</th>\n",
       "      <th>Amenity</th>\n",
       "      <th>Side</th>\n",
       "      <th>Severity</th>\n",
       "      <th>Day</th>\n",
       "    </tr>\n",
       "  </thead>\n",
       "  <tbody>\n",
       "    <tr>\n",
       "      <th>count</th>\n",
       "      <td>6407.000000</td>\n",
       "      <td>6407.000000</td>\n",
       "      <td>6407.000000</td>\n",
       "      <td>6407.00000</td>\n",
       "      <td>6407.000000</td>\n",
       "      <td>6407.000000</td>\n",
       "      <td>6407.000000</td>\n",
       "      <td>6407.000000</td>\n",
       "      <td>6407.0</td>\n",
       "      <td>6407.000000</td>\n",
       "      <td>6407.000000</td>\n",
       "      <td>6407.000000</td>\n",
       "      <td>6407.000000</td>\n",
       "      <td>6407.000000</td>\n",
       "    </tr>\n",
       "    <tr>\n",
       "      <th>mean</th>\n",
       "      <td>37.765653</td>\n",
       "      <td>-122.405990</td>\n",
       "      <td>0.135189</td>\n",
       "      <td>0.08241</td>\n",
       "      <td>0.000468</td>\n",
       "      <td>0.246449</td>\n",
       "      <td>0.000156</td>\n",
       "      <td>0.026533</td>\n",
       "      <td>0.0</td>\n",
       "      <td>0.097706</td>\n",
       "      <td>0.037147</td>\n",
       "      <td>0.949274</td>\n",
       "      <td>2.293429</td>\n",
       "      <td>4.431715</td>\n",
       "    </tr>\n",
       "    <tr>\n",
       "      <th>std</th>\n",
       "      <td>0.032555</td>\n",
       "      <td>0.028275</td>\n",
       "      <td>0.396360</td>\n",
       "      <td>0.27501</td>\n",
       "      <td>0.021635</td>\n",
       "      <td>0.430977</td>\n",
       "      <td>0.012493</td>\n",
       "      <td>0.160728</td>\n",
       "      <td>0.0</td>\n",
       "      <td>0.296939</td>\n",
       "      <td>0.189136</td>\n",
       "      <td>0.219454</td>\n",
       "      <td>0.521225</td>\n",
       "      <td>1.897954</td>\n",
       "    </tr>\n",
       "    <tr>\n",
       "      <th>min</th>\n",
       "      <td>37.609619</td>\n",
       "      <td>-122.510440</td>\n",
       "      <td>0.000000</td>\n",
       "      <td>0.00000</td>\n",
       "      <td>0.000000</td>\n",
       "      <td>0.000000</td>\n",
       "      <td>0.000000</td>\n",
       "      <td>0.000000</td>\n",
       "      <td>0.0</td>\n",
       "      <td>0.000000</td>\n",
       "      <td>0.000000</td>\n",
       "      <td>0.000000</td>\n",
       "      <td>1.000000</td>\n",
       "      <td>1.000000</td>\n",
       "    </tr>\n",
       "    <tr>\n",
       "      <th>25%</th>\n",
       "      <td>37.737096</td>\n",
       "      <td>-122.412210</td>\n",
       "      <td>0.000000</td>\n",
       "      <td>0.00000</td>\n",
       "      <td>0.000000</td>\n",
       "      <td>0.000000</td>\n",
       "      <td>0.000000</td>\n",
       "      <td>0.000000</td>\n",
       "      <td>0.0</td>\n",
       "      <td>0.000000</td>\n",
       "      <td>0.000000</td>\n",
       "      <td>1.000000</td>\n",
       "      <td>2.000000</td>\n",
       "      <td>3.000000</td>\n",
       "    </tr>\n",
       "    <tr>\n",
       "      <th>50%</th>\n",
       "      <td>37.768238</td>\n",
       "      <td>-122.404835</td>\n",
       "      <td>0.000000</td>\n",
       "      <td>0.00000</td>\n",
       "      <td>0.000000</td>\n",
       "      <td>0.000000</td>\n",
       "      <td>0.000000</td>\n",
       "      <td>0.000000</td>\n",
       "      <td>0.0</td>\n",
       "      <td>0.000000</td>\n",
       "      <td>0.000000</td>\n",
       "      <td>1.000000</td>\n",
       "      <td>2.000000</td>\n",
       "      <td>5.000000</td>\n",
       "    </tr>\n",
       "    <tr>\n",
       "      <th>75%</th>\n",
       "      <td>37.787813</td>\n",
       "      <td>-122.392477</td>\n",
       "      <td>0.041000</td>\n",
       "      <td>0.00000</td>\n",
       "      <td>0.000000</td>\n",
       "      <td>0.000000</td>\n",
       "      <td>0.000000</td>\n",
       "      <td>0.000000</td>\n",
       "      <td>0.0</td>\n",
       "      <td>0.000000</td>\n",
       "      <td>0.000000</td>\n",
       "      <td>1.000000</td>\n",
       "      <td>3.000000</td>\n",
       "      <td>6.000000</td>\n",
       "    </tr>\n",
       "    <tr>\n",
       "      <th>max</th>\n",
       "      <td>37.825626</td>\n",
       "      <td>-122.349734</td>\n",
       "      <td>6.820000</td>\n",
       "      <td>1.00000</td>\n",
       "      <td>1.000000</td>\n",
       "      <td>1.000000</td>\n",
       "      <td>1.000000</td>\n",
       "      <td>1.000000</td>\n",
       "      <td>0.0</td>\n",
       "      <td>1.000000</td>\n",
       "      <td>1.000000</td>\n",
       "      <td>1.000000</td>\n",
       "      <td>4.000000</td>\n",
       "      <td>7.000000</td>\n",
       "    </tr>\n",
       "  </tbody>\n",
       "</table>\n",
       "</div>"
      ],
      "text/plain": [
       "               Lat          Lng  Distance(mi)    Crossing     Give_Way  \\\n",
       "count  6407.000000  6407.000000   6407.000000  6407.00000  6407.000000   \n",
       "mean     37.765653  -122.405990      0.135189     0.08241     0.000468   \n",
       "std       0.032555     0.028275      0.396360     0.27501     0.021635   \n",
       "min      37.609619  -122.510440      0.000000     0.00000     0.000000   \n",
       "25%      37.737096  -122.412210      0.000000     0.00000     0.000000   \n",
       "50%      37.768238  -122.404835      0.000000     0.00000     0.000000   \n",
       "75%      37.787813  -122.392477      0.041000     0.00000     0.000000   \n",
       "max      37.825626  -122.349734      6.820000     1.00000     1.000000   \n",
       "\n",
       "          Junction      No_Exit      Railway  Roundabout         Stop  \\\n",
       "count  6407.000000  6407.000000  6407.000000      6407.0  6407.000000   \n",
       "mean      0.246449     0.000156     0.026533         0.0     0.097706   \n",
       "std       0.430977     0.012493     0.160728         0.0     0.296939   \n",
       "min       0.000000     0.000000     0.000000         0.0     0.000000   \n",
       "25%       0.000000     0.000000     0.000000         0.0     0.000000   \n",
       "50%       0.000000     0.000000     0.000000         0.0     0.000000   \n",
       "75%       0.000000     0.000000     0.000000         0.0     0.000000   \n",
       "max       1.000000     1.000000     1.000000         0.0     1.000000   \n",
       "\n",
       "           Amenity         Side     Severity          Day  \n",
       "count  6407.000000  6407.000000  6407.000000  6407.000000  \n",
       "mean      0.037147     0.949274     2.293429     4.431715  \n",
       "std       0.189136     0.219454     0.521225     1.897954  \n",
       "min       0.000000     0.000000     1.000000     1.000000  \n",
       "25%       0.000000     1.000000     2.000000     3.000000  \n",
       "50%       0.000000     1.000000     2.000000     5.000000  \n",
       "75%       0.000000     1.000000     3.000000     6.000000  \n",
       "max       1.000000     1.000000     4.000000     7.000000  "
      ]
     },
     "execution_count": 22,
     "metadata": {},
     "output_type": "execute_result"
    }
   ],
   "source": [
    "new_df.drop(columns='ID').describe()"
   ]
  },
  {
   "cell_type": "code",
   "execution_count": 23,
   "id": "93037651",
   "metadata": {
    "execution": {
     "iopub.execute_input": "2021-07-27T15:51:19.895419Z",
     "iopub.status.busy": "2021-07-27T15:51:19.894673Z",
     "iopub.status.idle": "2021-07-27T15:51:19.897255Z",
     "shell.execute_reply": "2021-07-27T15:51:19.896863Z",
     "shell.execute_reply.started": "2021-07-27T15:45:09.418915Z"
    },
    "papermill": {
     "duration": 0.073233,
     "end_time": "2021-07-27T15:51:19.897360",
     "exception": false,
     "start_time": "2021-07-27T15:51:19.824127",
     "status": "completed"
    },
    "tags": []
   },
   "outputs": [],
   "source": [
    "#new_df=new_df.drop(columns='Day')\n",
    "#new_df.head()def convert_days_tonumbers(lists):\n"
   ]
  },
  {
   "cell_type": "markdown",
   "id": "ac5cff9b",
   "metadata": {
    "papermill": {
     "duration": 0.065791,
     "end_time": "2021-07-27T15:51:20.027622",
     "exception": false,
     "start_time": "2021-07-27T15:51:19.961831",
     "status": "completed"
    },
    "tags": []
   },
   "source": [
    "# **Visualising heatmap**"
   ]
  },
  {
   "cell_type": "code",
   "execution_count": null,
   "id": "407732a9",
   "metadata": {
    "papermill": {
     "duration": 0.06148,
     "end_time": "2021-07-27T15:51:20.155314",
     "exception": false,
     "start_time": "2021-07-27T15:51:20.093834",
     "status": "completed"
    },
    "tags": []
   },
   "outputs": [],
   "source": []
  },
  {
   "cell_type": "code",
   "execution_count": 24,
   "id": "331733f9",
   "metadata": {
    "execution": {
     "iopub.execute_input": "2021-07-27T15:51:20.306898Z",
     "iopub.status.busy": "2021-07-27T15:51:20.306126Z",
     "iopub.status.idle": "2021-07-27T15:51:21.296379Z",
     "shell.execute_reply": "2021-07-27T15:51:21.295933Z",
     "shell.execute_reply.started": "2021-07-27T15:45:09.426094Z"
    },
    "papermill": {
     "duration": 1.075318,
     "end_time": "2021-07-27T15:51:21.296493",
     "exception": false,
     "start_time": "2021-07-27T15:51:20.221175",
     "status": "completed"
    },
    "tags": []
   },
   "outputs": [
    {
     "data": {
      "text/plain": [
       "<AxesSubplot:>"
      ]
     },
     "execution_count": 24,
     "metadata": {},
     "output_type": "execute_result"
    },
    {
     "data": {
      "image/png": "[encoded data removed]",
      "text/plain": [
       "<Figure size 1440x1440 with 2 Axes>"
      ]
     },
     "metadata": {
      "needs_background": "light"
     },
     "output_type": "display_data"
    }
   ],
   "source": [
    "fig, ax = plt.subplots(figsize=(20,20))\n",
    "cormat= new_df.drop(columns=['ID','Roundabout']).corr()\n",
    "mask = np.array(cormat)\n",
    "mask[np.tril_indices_from(mask)] = False\n",
    "sn.heatmap(cormat,mask=mask,annot=True)"
   ]
  },
  {
   "cell_type": "code",
   "execution_count": 25,
   "id": "1b86cf37",
   "metadata": {
    "execution": {
     "iopub.execute_input": "2021-07-27T15:51:21.435241Z",
     "iopub.status.busy": "2021-07-27T15:51:21.434500Z",
     "iopub.status.idle": "2021-07-27T15:51:21.447998Z",
     "shell.execute_reply": "2021-07-27T15:51:21.447574Z",
     "shell.execute_reply.started": "2021-07-27T15:45:10.411368Z"
    },
    "papermill": {
     "duration": 0.084267,
     "end_time": "2021-07-27T15:51:21.448111",
     "exception": false,
     "start_time": "2021-07-27T15:51:21.363844",
     "status": "completed"
    },
    "tags": []
   },
   "outputs": [
    {
     "name": "stdout",
     "output_type": "stream",
     "text": [
      "<class 'pandas.core.frame.DataFrame'>\n",
      "RangeIndex: 6407 entries, 0 to 6406\n",
      "Data columns (total 17 columns):\n",
      " #   Column        Non-Null Count  Dtype  \n",
      "---  ------        --------------  -----  \n",
      " 0   ID            6407 non-null   int64  \n",
      " 1   Lat           6407 non-null   float64\n",
      " 2   Lng           6407 non-null   float64\n",
      " 3   Distance(mi)  6407 non-null   float64\n",
      " 4   Crossing      6407 non-null   float64\n",
      " 5   Give_Way      6407 non-null   float64\n",
      " 6   Junction      6407 non-null   float64\n",
      " 7   No_Exit       6407 non-null   float64\n",
      " 8   Railway       6407 non-null   float64\n",
      " 9   Roundabout    6407 non-null   float64\n",
      " 10  Stop          6407 non-null   float64\n",
      " 11  Amenity       6407 non-null   float64\n",
      " 12  Side          6407 non-null   float64\n",
      " 13  Severity      6407 non-null   int64  \n",
      " 14  timestamp     6407 non-null   object \n",
      " 15  Day           6407 non-null   int64  \n",
      " 16  Rush-hour     6407 non-null   bool   \n",
      "dtypes: bool(1), float64(12), int64(3), object(1)\n",
      "memory usage: 807.3+ KB\n"
     ]
    }
   ],
   "source": [
    "new_df.info()"
   ]
  },
  {
   "cell_type": "markdown",
   "id": "d7816bce",
   "metadata": {
    "papermill": {
     "duration": 0.067729,
     "end_time": "2021-07-27T15:51:21.590271",
     "exception": false,
     "start_time": "2021-07-27T15:51:21.522542",
     "status": "completed"
    },
    "tags": []
   },
   "source": [
    "# **Working With weather dataset**"
   ]
  },
  {
   "cell_type": "markdown",
   "id": "f54100bd",
   "metadata": {
    "papermill": {
     "duration": 0.069351,
     "end_time": "2021-07-27T15:51:21.724956",
     "exception": false,
     "start_time": "2021-07-27T15:51:21.655605",
     "status": "completed"
    },
    "tags": []
   },
   "source": [
    "> **Removing nulls**"
   ]
  },
  {
   "cell_type": "code",
   "execution_count": 26,
   "id": "e14aa1ef",
   "metadata": {
    "execution": {
     "iopub.execute_input": "2021-07-27T15:51:21.863757Z",
     "iopub.status.busy": "2021-07-27T15:51:21.862946Z",
     "iopub.status.idle": "2021-07-27T15:51:21.866506Z",
     "shell.execute_reply": "2021-07-27T15:51:21.866996Z",
     "shell.execute_reply.started": "2021-07-27T15:45:10.433243Z"
    },
    "papermill": {
     "duration": 0.075994,
     "end_time": "2021-07-27T15:51:21.867117",
     "exception": false,
     "start_time": "2021-07-27T15:51:21.791123",
     "status": "completed"
    },
    "tags": []
   },
   "outputs": [],
   "source": [
    "weather['Wind_Chill(F)'].head()\n",
    "weather['Wind_Chill(F)'].fillna(weather['Wind_Chill(F)'].mean(),inplace=True)"
   ]
  },
  {
   "cell_type": "code",
   "execution_count": 27,
   "id": "39939f0a",
   "metadata": {
    "execution": {
     "iopub.execute_input": "2021-07-27T15:51:22.101656Z",
     "iopub.status.busy": "2021-07-27T15:51:22.100690Z",
     "iopub.status.idle": "2021-07-27T15:51:22.113447Z",
     "shell.execute_reply": "2021-07-27T15:51:22.113968Z",
     "shell.execute_reply.started": "2021-07-27T15:45:10.443815Z"
    },
    "papermill": {
     "duration": 0.177725,
     "end_time": "2021-07-27T15:51:22.114161",
     "exception": false,
     "start_time": "2021-07-27T15:51:21.936436",
     "status": "completed"
    },
    "tags": []
   },
   "outputs": [
    {
     "name": "stdout",
     "output_type": "stream",
     "text": [
      "<class 'pandas.core.frame.DataFrame'>\n",
      "RangeIndex: 6901 entries, 0 to 6900\n",
      "Data columns (total 12 columns):\n",
      " #   Column             Non-Null Count  Dtype  \n",
      "---  ------             --------------  -----  \n",
      " 0   Year               6901 non-null   int64  \n",
      " 1   Day                6901 non-null   int64  \n",
      " 2   Month              6901 non-null   int64  \n",
      " 3   Hour               6901 non-null   int64  \n",
      " 4   Weather_Condition  6900 non-null   object \n",
      " 5   Wind_Chill(F)      6901 non-null   float64\n",
      " 6   Precipitation(in)  3574 non-null   float64\n",
      " 7   Temperature(F)     6899 non-null   float64\n",
      " 8   Humidity(%)        6899 non-null   float64\n",
      " 9   Wind_Speed(mph)    6556 non-null   float64\n",
      " 10  Visibility(mi)     6900 non-null   float64\n",
      " 11  Selected           6901 non-null   object \n",
      "dtypes: float64(6), int64(4), object(2)\n",
      "memory usage: 647.1+ KB\n"
     ]
    }
   ],
   "source": [
    "weather['Wind_Chill(F)'].head(50)\n",
    "weather.info()"
   ]
  },
  {
   "cell_type": "code",
   "execution_count": 28,
   "id": "971bb871",
   "metadata": {
    "execution": {
     "iopub.execute_input": "2021-07-27T15:51:22.261715Z",
     "iopub.status.busy": "2021-07-27T15:51:22.261121Z",
     "iopub.status.idle": "2021-07-27T15:51:22.263749Z",
     "shell.execute_reply": "2021-07-27T15:51:22.264231Z",
     "shell.execute_reply.started": "2021-07-27T15:45:10.465829Z"
    },
    "papermill": {
     "duration": 0.077708,
     "end_time": "2021-07-27T15:51:22.264357",
     "exception": false,
     "start_time": "2021-07-27T15:51:22.186649",
     "status": "completed"
    },
    "tags": []
   },
   "outputs": [],
   "source": [
    "weather['Precipitation(in)'].head()\n",
    "weather['Precipitation(in)'].fillna(weather['Precipitation(in)'].mean(),inplace=True)\n",
    "#weather.dropna()"
   ]
  },
  {
   "cell_type": "code",
   "execution_count": 29,
   "id": "e4037229",
   "metadata": {
    "execution": {
     "iopub.execute_input": "2021-07-27T15:51:22.413974Z",
     "iopub.status.busy": "2021-07-27T15:51:22.413192Z",
     "iopub.status.idle": "2021-07-27T15:51:22.417222Z",
     "shell.execute_reply": "2021-07-27T15:51:22.416767Z",
     "shell.execute_reply.started": "2021-07-27T15:45:10.476280Z"
    },
    "papermill": {
     "duration": 0.086076,
     "end_time": "2021-07-27T15:51:22.417338",
     "exception": false,
     "start_time": "2021-07-27T15:51:22.331262",
     "status": "completed"
    },
    "tags": []
   },
   "outputs": [
    {
     "data": {
      "text/html": [
       "<div>\n",
       "<style scoped>\n",
       "    .dataframe tbody tr th:only-of-type {\n",
       "        vertical-align: middle;\n",
       "    }\n",
       "\n",
       "    .dataframe tbody tr th {\n",
       "        vertical-align: top;\n",
       "    }\n",
       "\n",
       "    .dataframe thead th {\n",
       "        text-align: right;\n",
       "    }\n",
       "</style>\n",
       "<table border=\"1\" class=\"dataframe\">\n",
       "  <thead>\n",
       "    <tr style=\"text-align: right;\">\n",
       "      <th></th>\n",
       "      <th>Year</th>\n",
       "      <th>Day</th>\n",
       "      <th>Month</th>\n",
       "      <th>Hour</th>\n",
       "      <th>Weather_Condition</th>\n",
       "      <th>Wind_Chill(F)</th>\n",
       "      <th>Precipitation(in)</th>\n",
       "      <th>Temperature(F)</th>\n",
       "      <th>Humidity(%)</th>\n",
       "      <th>Wind_Speed(mph)</th>\n",
       "      <th>Visibility(mi)</th>\n",
       "      <th>Selected</th>\n",
       "    </tr>\n",
       "  </thead>\n",
       "  <tbody>\n",
       "    <tr>\n",
       "      <th>0</th>\n",
       "      <td>2020</td>\n",
       "      <td>27</td>\n",
       "      <td>7</td>\n",
       "      <td>18</td>\n",
       "      <td>Fair</td>\n",
       "      <td>64.000000</td>\n",
       "      <td>0.000000</td>\n",
       "      <td>64.0</td>\n",
       "      <td>70.0</td>\n",
       "      <td>20.0</td>\n",
       "      <td>10.0</td>\n",
       "      <td>No</td>\n",
       "    </tr>\n",
       "    <tr>\n",
       "      <th>1</th>\n",
       "      <td>2017</td>\n",
       "      <td>30</td>\n",
       "      <td>9</td>\n",
       "      <td>17</td>\n",
       "      <td>Partly Cloudy</td>\n",
       "      <td>59.762515</td>\n",
       "      <td>0.006444</td>\n",
       "      <td>71.1</td>\n",
       "      <td>57.0</td>\n",
       "      <td>9.2</td>\n",
       "      <td>10.0</td>\n",
       "      <td>No</td>\n",
       "    </tr>\n",
       "    <tr>\n",
       "      <th>2</th>\n",
       "      <td>2017</td>\n",
       "      <td>27</td>\n",
       "      <td>6</td>\n",
       "      <td>5</td>\n",
       "      <td>Overcast</td>\n",
       "      <td>59.762515</td>\n",
       "      <td>0.006444</td>\n",
       "      <td>57.9</td>\n",
       "      <td>87.0</td>\n",
       "      <td>15.0</td>\n",
       "      <td>9.0</td>\n",
       "      <td>No</td>\n",
       "    </tr>\n",
       "    <tr>\n",
       "      <th>3</th>\n",
       "      <td>2016</td>\n",
       "      <td>7</td>\n",
       "      <td>9</td>\n",
       "      <td>9</td>\n",
       "      <td>Clear</td>\n",
       "      <td>59.762515</td>\n",
       "      <td>0.006444</td>\n",
       "      <td>66.9</td>\n",
       "      <td>73.0</td>\n",
       "      <td>4.6</td>\n",
       "      <td>10.0</td>\n",
       "      <td>No</td>\n",
       "    </tr>\n",
       "    <tr>\n",
       "      <th>4</th>\n",
       "      <td>2019</td>\n",
       "      <td>19</td>\n",
       "      <td>10</td>\n",
       "      <td>2</td>\n",
       "      <td>Fair</td>\n",
       "      <td>52.000000</td>\n",
       "      <td>0.000000</td>\n",
       "      <td>52.0</td>\n",
       "      <td>89.0</td>\n",
       "      <td>0.0</td>\n",
       "      <td>9.0</td>\n",
       "      <td>No</td>\n",
       "    </tr>\n",
       "  </tbody>\n",
       "</table>\n",
       "</div>"
      ],
      "text/plain": [
       "   Year  Day  Month  Hour Weather_Condition  Wind_Chill(F)  Precipitation(in)  \\\n",
       "0  2020   27      7    18              Fair      64.000000           0.000000   \n",
       "1  2017   30      9    17     Partly Cloudy      59.762515           0.006444   \n",
       "2  2017   27      6     5          Overcast      59.762515           0.006444   \n",
       "3  2016    7      9     9             Clear      59.762515           0.006444   \n",
       "4  2019   19     10     2              Fair      52.000000           0.000000   \n",
       "\n",
       "   Temperature(F)  Humidity(%)  Wind_Speed(mph)  Visibility(mi) Selected  \n",
       "0            64.0         70.0             20.0            10.0       No  \n",
       "1            71.1         57.0              9.2            10.0       No  \n",
       "2            57.9         87.0             15.0             9.0       No  \n",
       "3            66.9         73.0              4.6            10.0       No  \n",
       "4            52.0         89.0              0.0             9.0       No  "
      ]
     },
     "execution_count": 29,
     "metadata": {},
     "output_type": "execute_result"
    }
   ],
   "source": [
    "weather.head()"
   ]
  },
  {
   "cell_type": "code",
   "execution_count": 30,
   "id": "40da1b61",
   "metadata": {
    "execution": {
     "iopub.execute_input": "2021-07-27T15:51:22.570212Z",
     "iopub.status.busy": "2021-07-27T15:51:22.569303Z",
     "iopub.status.idle": "2021-07-27T15:51:22.581205Z",
     "shell.execute_reply": "2021-07-27T15:51:22.580683Z",
     "shell.execute_reply.started": "2021-07-27T15:45:10.503249Z"
    },
    "papermill": {
     "duration": 0.087436,
     "end_time": "2021-07-27T15:51:22.581325",
     "exception": false,
     "start_time": "2021-07-27T15:51:22.493889",
     "status": "completed"
    },
    "tags": []
   },
   "outputs": [
    {
     "name": "stdout",
     "output_type": "stream",
     "text": [
      "<class 'pandas.core.frame.DataFrame'>\n",
      "RangeIndex: 6901 entries, 0 to 6900\n",
      "Data columns (total 12 columns):\n",
      " #   Column             Non-Null Count  Dtype  \n",
      "---  ------             --------------  -----  \n",
      " 0   Year               6901 non-null   int64  \n",
      " 1   Day                6901 non-null   int64  \n",
      " 2   Month              6901 non-null   int64  \n",
      " 3   Hour               6901 non-null   int64  \n",
      " 4   Weather_Condition  6900 non-null   object \n",
      " 5   Wind_Chill(F)      6901 non-null   float64\n",
      " 6   Precipitation(in)  6901 non-null   float64\n",
      " 7   Temperature(F)     6899 non-null   float64\n",
      " 8   Humidity(%)        6899 non-null   float64\n",
      " 9   Wind_Speed(mph)    6556 non-null   float64\n",
      " 10  Visibility(mi)     6900 non-null   float64\n",
      " 11  Selected           6901 non-null   object \n",
      "dtypes: float64(6), int64(4), object(2)\n",
      "memory usage: 647.1+ KB\n"
     ]
    }
   ],
   "source": [
    "weather.info()"
   ]
  },
  {
   "cell_type": "code",
   "execution_count": 31,
   "id": "1a703c5b",
   "metadata": {
    "execution": {
     "iopub.execute_input": "2021-07-27T15:51:22.724842Z",
     "iopub.status.busy": "2021-07-27T15:51:22.724290Z",
     "iopub.status.idle": "2021-07-27T15:51:22.728074Z",
     "shell.execute_reply": "2021-07-27T15:51:22.727669Z",
     "shell.execute_reply.started": "2021-07-27T15:45:10.526394Z"
    },
    "papermill": {
     "duration": 0.078213,
     "end_time": "2021-07-27T15:51:22.728179",
     "exception": false,
     "start_time": "2021-07-27T15:51:22.649966",
     "status": "completed"
    },
    "tags": []
   },
   "outputs": [],
   "source": [
    "weather['Temperature(F)'].head()\n",
    "weather['Temperature(F)'].fillna(98.6,inplace=True)"
   ]
  },
  {
   "cell_type": "code",
   "execution_count": 32,
   "id": "afb79311",
   "metadata": {
    "execution": {
     "iopub.execute_input": "2021-07-27T15:51:22.871126Z",
     "iopub.status.busy": "2021-07-27T15:51:22.870418Z",
     "iopub.status.idle": "2021-07-27T15:51:22.874089Z",
     "shell.execute_reply": "2021-07-27T15:51:22.873596Z",
     "shell.execute_reply.started": "2021-07-27T15:45:10.534364Z"
    },
    "papermill": {
     "duration": 0.075295,
     "end_time": "2021-07-27T15:51:22.874207",
     "exception": false,
     "start_time": "2021-07-27T15:51:22.798912",
     "status": "completed"
    },
    "tags": []
   },
   "outputs": [],
   "source": [
    "#Weather_Condition\n",
    "weather['Weather_Condition'].head()\n",
    "weather['Weather_Condition'].fillna('Clear',inplace=True)"
   ]
  },
  {
   "cell_type": "code",
   "execution_count": 33,
   "id": "b93199f8",
   "metadata": {
    "execution": {
     "iopub.execute_input": "2021-07-27T15:51:23.020125Z",
     "iopub.status.busy": "2021-07-27T15:51:23.019354Z",
     "iopub.status.idle": "2021-07-27T15:51:23.022199Z",
     "shell.execute_reply": "2021-07-27T15:51:23.021753Z",
     "shell.execute_reply.started": "2021-07-27T15:45:10.545465Z"
    },
    "papermill": {
     "duration": 0.078199,
     "end_time": "2021-07-27T15:51:23.022313",
     "exception": false,
     "start_time": "2021-07-27T15:51:22.944114",
     "status": "completed"
    },
    "tags": []
   },
   "outputs": [],
   "source": [
    "weather['Wind_Speed(mph)'].head()\n",
    "weather['Wind_Speed(mph)'].fillna(weather['Wind_Speed(mph)'].mean(),inplace=True)"
   ]
  },
  {
   "cell_type": "code",
   "execution_count": 34,
   "id": "5d04b3c7",
   "metadata": {
    "execution": {
     "iopub.execute_input": "2021-07-27T15:51:23.167891Z",
     "iopub.status.busy": "2021-07-27T15:51:23.167121Z",
     "iopub.status.idle": "2021-07-27T15:51:23.169674Z",
     "shell.execute_reply": "2021-07-27T15:51:23.169164Z",
     "shell.execute_reply.started": "2021-07-27T15:45:10.554800Z"
    },
    "papermill": {
     "duration": 0.079988,
     "end_time": "2021-07-27T15:51:23.169780",
     "exception": false,
     "start_time": "2021-07-27T15:51:23.089792",
     "status": "completed"
    },
    "tags": []
   },
   "outputs": [],
   "source": [
    "for i in weather.columns[weather.isnull().any(axis=0)]:    \n",
    "    weather[i].fillna(weather[i].mean(),inplace=True)\n"
   ]
  },
  {
   "cell_type": "code",
   "execution_count": null,
   "id": "acba5ee9",
   "metadata": {
    "papermill": {
     "duration": 0.066079,
     "end_time": "2021-07-27T15:51:23.306318",
     "exception": false,
     "start_time": "2021-07-27T15:51:23.240239",
     "status": "completed"
    },
    "tags": []
   },
   "outputs": [],
   "source": []
  },
  {
   "cell_type": "markdown",
   "id": "63a47bb0",
   "metadata": {
    "papermill": {
     "duration": 0.069754,
     "end_time": "2021-07-27T15:51:23.446857",
     "exception": false,
     "start_time": "2021-07-27T15:51:23.377103",
     "status": "completed"
    },
    "tags": []
   },
   "source": [
    "**Merge Training dataset and Weather**"
   ]
  },
  {
   "cell_type": "code",
   "execution_count": 35,
   "id": "d6ef8787",
   "metadata": {
    "execution": {
     "iopub.execute_input": "2021-07-27T15:51:23.604450Z",
     "iopub.status.busy": "2021-07-27T15:51:23.599309Z",
     "iopub.status.idle": "2021-07-27T15:51:24.108998Z",
     "shell.execute_reply": "2021-07-27T15:51:24.109391Z",
     "shell.execute_reply.started": "2021-07-27T15:45:10.569818Z"
    },
    "papermill": {
     "duration": 0.596102,
     "end_time": "2021-07-27T15:51:24.109551",
     "exception": false,
     "start_time": "2021-07-27T15:51:23.513449",
     "status": "completed"
    },
    "tags": []
   },
   "outputs": [
    {
     "data": {
      "text/html": [
       "<div>\n",
       "<style scoped>\n",
       "    .dataframe tbody tr th:only-of-type {\n",
       "        vertical-align: middle;\n",
       "    }\n",
       "\n",
       "    .dataframe tbody tr th {\n",
       "        vertical-align: top;\n",
       "    }\n",
       "\n",
       "    .dataframe thead th {\n",
       "        text-align: right;\n",
       "    }\n",
       "</style>\n",
       "<table border=\"1\" class=\"dataframe\">\n",
       "  <thead>\n",
       "    <tr style=\"text-align: right;\">\n",
       "      <th></th>\n",
       "      <th>ID</th>\n",
       "      <th>Lat</th>\n",
       "      <th>Lng</th>\n",
       "      <th>Distance(mi)</th>\n",
       "      <th>Crossing</th>\n",
       "      <th>Give_Way</th>\n",
       "      <th>Junction</th>\n",
       "      <th>No_Exit</th>\n",
       "      <th>Railway</th>\n",
       "      <th>Roundabout</th>\n",
       "      <th>Stop</th>\n",
       "      <th>Amenity</th>\n",
       "      <th>Side</th>\n",
       "      <th>Severity</th>\n",
       "      <th>timestamp</th>\n",
       "      <th>Day</th>\n",
       "      <th>Rush-hour</th>\n",
       "      <th>date</th>\n",
       "      <th>Hour</th>\n",
       "    </tr>\n",
       "  </thead>\n",
       "  <tbody>\n",
       "    <tr>\n",
       "      <th>0</th>\n",
       "      <td>0</td>\n",
       "      <td>37.762150</td>\n",
       "      <td>-122.405660</td>\n",
       "      <td>0.044</td>\n",
       "      <td>0.0</td>\n",
       "      <td>0.0</td>\n",
       "      <td>0.0</td>\n",
       "      <td>0.0</td>\n",
       "      <td>0.0</td>\n",
       "      <td>0.0</td>\n",
       "      <td>0.0</td>\n",
       "      <td>1.0</td>\n",
       "      <td>1.0</td>\n",
       "      <td>2</td>\n",
       "      <td>2016-03-25 15:13:02</td>\n",
       "      <td>7</td>\n",
       "      <td>False</td>\n",
       "      <td>2016-03-25</td>\n",
       "      <td>15</td>\n",
       "    </tr>\n",
       "    <tr>\n",
       "      <th>1</th>\n",
       "      <td>1</td>\n",
       "      <td>37.719157</td>\n",
       "      <td>-122.448254</td>\n",
       "      <td>0.000</td>\n",
       "      <td>0.0</td>\n",
       "      <td>0.0</td>\n",
       "      <td>0.0</td>\n",
       "      <td>0.0</td>\n",
       "      <td>0.0</td>\n",
       "      <td>0.0</td>\n",
       "      <td>0.0</td>\n",
       "      <td>0.0</td>\n",
       "      <td>1.0</td>\n",
       "      <td>2</td>\n",
       "      <td>2020-05-05 19:23:00</td>\n",
       "      <td>4</td>\n",
       "      <td>True</td>\n",
       "      <td>2020-05-05</td>\n",
       "      <td>19</td>\n",
       "    </tr>\n",
       "    <tr>\n",
       "      <th>2</th>\n",
       "      <td>2</td>\n",
       "      <td>37.808498</td>\n",
       "      <td>-122.366852</td>\n",
       "      <td>0.000</td>\n",
       "      <td>0.0</td>\n",
       "      <td>0.0</td>\n",
       "      <td>0.0</td>\n",
       "      <td>0.0</td>\n",
       "      <td>0.0</td>\n",
       "      <td>0.0</td>\n",
       "      <td>1.0</td>\n",
       "      <td>0.0</td>\n",
       "      <td>1.0</td>\n",
       "      <td>3</td>\n",
       "      <td>2016-09-16 19:57:16</td>\n",
       "      <td>7</td>\n",
       "      <td>True</td>\n",
       "      <td>2016-09-16</td>\n",
       "      <td>19</td>\n",
       "    </tr>\n",
       "    <tr>\n",
       "      <th>3</th>\n",
       "      <td>3</td>\n",
       "      <td>37.785930</td>\n",
       "      <td>-122.391080</td>\n",
       "      <td>0.009</td>\n",
       "      <td>0.0</td>\n",
       "      <td>0.0</td>\n",
       "      <td>1.0</td>\n",
       "      <td>0.0</td>\n",
       "      <td>0.0</td>\n",
       "      <td>0.0</td>\n",
       "      <td>0.0</td>\n",
       "      <td>0.0</td>\n",
       "      <td>1.0</td>\n",
       "      <td>1</td>\n",
       "      <td>2020-03-29 19:48:43</td>\n",
       "      <td>2</td>\n",
       "      <td>True</td>\n",
       "      <td>2020-03-29</td>\n",
       "      <td>19</td>\n",
       "    </tr>\n",
       "    <tr>\n",
       "      <th>4</th>\n",
       "      <td>4</td>\n",
       "      <td>37.719141</td>\n",
       "      <td>-122.448457</td>\n",
       "      <td>0.000</td>\n",
       "      <td>0.0</td>\n",
       "      <td>0.0</td>\n",
       "      <td>0.0</td>\n",
       "      <td>0.0</td>\n",
       "      <td>0.0</td>\n",
       "      <td>0.0</td>\n",
       "      <td>0.0</td>\n",
       "      <td>0.0</td>\n",
       "      <td>1.0</td>\n",
       "      <td>2</td>\n",
       "      <td>2019-10-09 08:47:00</td>\n",
       "      <td>5</td>\n",
       "      <td>True</td>\n",
       "      <td>2019-10-09</td>\n",
       "      <td>8</td>\n",
       "    </tr>\n",
       "  </tbody>\n",
       "</table>\n",
       "</div>"
      ],
      "text/plain": [
       "   ID        Lat         Lng  Distance(mi)  Crossing  Give_Way  Junction  \\\n",
       "0   0  37.762150 -122.405660         0.044       0.0       0.0       0.0   \n",
       "1   1  37.719157 -122.448254         0.000       0.0       0.0       0.0   \n",
       "2   2  37.808498 -122.366852         0.000       0.0       0.0       0.0   \n",
       "3   3  37.785930 -122.391080         0.009       0.0       0.0       1.0   \n",
       "4   4  37.719141 -122.448457         0.000       0.0       0.0       0.0   \n",
       "\n",
       "   No_Exit  Railway  Roundabout  Stop  Amenity  Side  Severity  \\\n",
       "0      0.0      0.0         0.0   0.0      1.0   1.0         2   \n",
       "1      0.0      0.0         0.0   0.0      0.0   1.0         2   \n",
       "2      0.0      0.0         0.0   1.0      0.0   1.0         3   \n",
       "3      0.0      0.0         0.0   0.0      0.0   1.0         1   \n",
       "4      0.0      0.0         0.0   0.0      0.0   1.0         2   \n",
       "\n",
       "             timestamp  Day  Rush-hour       date  Hour  \n",
       "0  2016-03-25 15:13:02    7      False 2016-03-25    15  \n",
       "1  2020-05-05 19:23:00    4       True 2020-05-05    19  \n",
       "2  2016-09-16 19:57:16    7       True 2016-09-16    19  \n",
       "3  2020-03-29 19:48:43    2       True 2020-03-29    19  \n",
       "4  2019-10-09 08:47:00    5       True 2019-10-09     8  "
      ]
     },
     "execution_count": 35,
     "metadata": {},
     "output_type": "execute_result"
    }
   ],
   "source": [
    "timestamp = new_df['timestamp']\n",
    "Date = [i[:11]for i in timestamp ]\n",
    "Hour = [i[11:13]for i in timestamp ]\n",
    "new_df['date'] = Date\n",
    "new_df['Hour'] = Hour\n",
    "new_df['date']= pd.to_datetime(new_df['date'])\n",
    "new_df['Hour']= new_df['Hour'].astype(int)\n",
    "new_df.head()"
   ]
  },
  {
   "cell_type": "code",
   "execution_count": 36,
   "id": "63fb319f",
   "metadata": {
    "execution": {
     "iopub.execute_input": "2021-07-27T15:51:24.265554Z",
     "iopub.status.busy": "2021-07-27T15:51:24.260483Z",
     "iopub.status.idle": "2021-07-27T15:51:24.462781Z",
     "shell.execute_reply": "2021-07-27T15:51:24.463297Z",
     "shell.execute_reply.started": "2021-07-27T15:45:11.094264Z"
    },
    "papermill": {
     "duration": 0.278607,
     "end_time": "2021-07-27T15:51:24.463459",
     "exception": false,
     "start_time": "2021-07-27T15:51:24.184852",
     "status": "completed"
    },
    "tags": []
   },
   "outputs": [
    {
     "data": {
      "text/html": [
       "<div>\n",
       "<style scoped>\n",
       "    .dataframe tbody tr th:only-of-type {\n",
       "        vertical-align: middle;\n",
       "    }\n",
       "\n",
       "    .dataframe tbody tr th {\n",
       "        vertical-align: top;\n",
       "    }\n",
       "\n",
       "    .dataframe thead th {\n",
       "        text-align: right;\n",
       "    }\n",
       "</style>\n",
       "<table border=\"1\" class=\"dataframe\">\n",
       "  <thead>\n",
       "    <tr style=\"text-align: right;\">\n",
       "      <th></th>\n",
       "      <th>Year</th>\n",
       "      <th>Day</th>\n",
       "      <th>Month</th>\n",
       "      <th>Hour</th>\n",
       "      <th>Weather_Condition</th>\n",
       "      <th>Wind_Chill(F)</th>\n",
       "      <th>Precipitation(in)</th>\n",
       "      <th>Temperature(F)</th>\n",
       "      <th>Humidity(%)</th>\n",
       "      <th>Wind_Speed(mph)</th>\n",
       "      <th>Visibility(mi)</th>\n",
       "      <th>Selected</th>\n",
       "      <th>date</th>\n",
       "    </tr>\n",
       "  </thead>\n",
       "  <tbody>\n",
       "    <tr>\n",
       "      <th>0</th>\n",
       "      <td>2020</td>\n",
       "      <td>27</td>\n",
       "      <td>7</td>\n",
       "      <td>18</td>\n",
       "      <td>Fair</td>\n",
       "      <td>64.000000</td>\n",
       "      <td>0.000000</td>\n",
       "      <td>64.0</td>\n",
       "      <td>70.0</td>\n",
       "      <td>20.0</td>\n",
       "      <td>10.0</td>\n",
       "      <td>No</td>\n",
       "      <td>2020-07-27</td>\n",
       "    </tr>\n",
       "    <tr>\n",
       "      <th>1</th>\n",
       "      <td>2017</td>\n",
       "      <td>30</td>\n",
       "      <td>9</td>\n",
       "      <td>17</td>\n",
       "      <td>Partly Cloudy</td>\n",
       "      <td>59.762515</td>\n",
       "      <td>0.006444</td>\n",
       "      <td>71.1</td>\n",
       "      <td>57.0</td>\n",
       "      <td>9.2</td>\n",
       "      <td>10.0</td>\n",
       "      <td>No</td>\n",
       "      <td>2017-09-30</td>\n",
       "    </tr>\n",
       "    <tr>\n",
       "      <th>2</th>\n",
       "      <td>2017</td>\n",
       "      <td>27</td>\n",
       "      <td>6</td>\n",
       "      <td>5</td>\n",
       "      <td>Overcast</td>\n",
       "      <td>59.762515</td>\n",
       "      <td>0.006444</td>\n",
       "      <td>57.9</td>\n",
       "      <td>87.0</td>\n",
       "      <td>15.0</td>\n",
       "      <td>9.0</td>\n",
       "      <td>No</td>\n",
       "      <td>2017-06-27</td>\n",
       "    </tr>\n",
       "    <tr>\n",
       "      <th>3</th>\n",
       "      <td>2016</td>\n",
       "      <td>7</td>\n",
       "      <td>9</td>\n",
       "      <td>9</td>\n",
       "      <td>Clear</td>\n",
       "      <td>59.762515</td>\n",
       "      <td>0.006444</td>\n",
       "      <td>66.9</td>\n",
       "      <td>73.0</td>\n",
       "      <td>4.6</td>\n",
       "      <td>10.0</td>\n",
       "      <td>No</td>\n",
       "      <td>2016-09-07</td>\n",
       "    </tr>\n",
       "    <tr>\n",
       "      <th>4</th>\n",
       "      <td>2019</td>\n",
       "      <td>19</td>\n",
       "      <td>10</td>\n",
       "      <td>2</td>\n",
       "      <td>Fair</td>\n",
       "      <td>52.000000</td>\n",
       "      <td>0.000000</td>\n",
       "      <td>52.0</td>\n",
       "      <td>89.0</td>\n",
       "      <td>0.0</td>\n",
       "      <td>9.0</td>\n",
       "      <td>No</td>\n",
       "      <td>2019-10-19</td>\n",
       "    </tr>\n",
       "  </tbody>\n",
       "</table>\n",
       "</div>"
      ],
      "text/plain": [
       "   Year  Day  Month  Hour Weather_Condition  Wind_Chill(F)  Precipitation(in)  \\\n",
       "0  2020   27      7    18              Fair      64.000000           0.000000   \n",
       "1  2017   30      9    17     Partly Cloudy      59.762515           0.006444   \n",
       "2  2017   27      6     5          Overcast      59.762515           0.006444   \n",
       "3  2016    7      9     9             Clear      59.762515           0.006444   \n",
       "4  2019   19     10     2              Fair      52.000000           0.000000   \n",
       "\n",
       "   Temperature(F)  Humidity(%)  Wind_Speed(mph)  Visibility(mi) Selected  \\\n",
       "0            64.0         70.0             20.0            10.0       No   \n",
       "1            71.1         57.0              9.2            10.0       No   \n",
       "2            57.9         87.0             15.0             9.0       No   \n",
       "3            66.9         73.0              4.6            10.0       No   \n",
       "4            52.0         89.0              0.0             9.0       No   \n",
       "\n",
       "        date  \n",
       "0 2020-07-27  \n",
       "1 2017-09-30  \n",
       "2 2017-06-27  \n",
       "3 2016-09-07  \n",
       "4 2019-10-19  "
      ]
     },
     "execution_count": 36,
     "metadata": {},
     "output_type": "execute_result"
    }
   ],
   "source": [
    "Date = [str(weather['Year'][i])+'-'+ \"{:02d}\".format(weather['Month'][i])+'-'+\"{:02d}\".format(weather['Day'][i]) for i in range(weather.shape[0])]\n",
    "weather['date'] = Date\n",
    "weather['date']= pd.to_datetime(weather['date'])\n",
    "weather.head()"
   ]
  },
  {
   "cell_type": "markdown",
   "id": "2f6d8327",
   "metadata": {
    "papermill": {
     "duration": 0.067669,
     "end_time": "2021-07-27T15:51:24.608700",
     "exception": false,
     "start_time": "2021-07-27T15:51:24.541031",
     "status": "completed"
    },
    "tags": []
   },
   "source": [
    "**Drop duplicates**"
   ]
  },
  {
   "cell_type": "code",
   "execution_count": 37,
   "id": "42bac364",
   "metadata": {
    "execution": {
     "iopub.execute_input": "2021-07-27T15:51:24.756604Z",
     "iopub.status.busy": "2021-07-27T15:51:24.755678Z",
     "iopub.status.idle": "2021-07-27T15:51:24.772775Z",
     "shell.execute_reply": "2021-07-27T15:51:24.773575Z",
     "shell.execute_reply.started": "2021-07-27T15:45:11.309014Z"
    },
    "papermill": {
     "duration": 0.094638,
     "end_time": "2021-07-27T15:51:24.773783",
     "exception": false,
     "start_time": "2021-07-27T15:51:24.679145",
     "status": "completed"
    },
    "tags": []
   },
   "outputs": [
    {
     "name": "stdout",
     "output_type": "stream",
     "text": [
      "<class 'pandas.core.frame.DataFrame'>\n",
      "Int64Index: 5972 entries, 0 to 6900\n",
      "Data columns (total 13 columns):\n",
      " #   Column             Non-Null Count  Dtype         \n",
      "---  ------             --------------  -----         \n",
      " 0   Year               5972 non-null   int64         \n",
      " 1   Day                5972 non-null   int64         \n",
      " 2   Month              5972 non-null   int64         \n",
      " 3   Hour               5972 non-null   int64         \n",
      " 4   Weather_Condition  5972 non-null   object        \n",
      " 5   Wind_Chill(F)      5972 non-null   float64       \n",
      " 6   Precipitation(in)  5972 non-null   float64       \n",
      " 7   Temperature(F)     5972 non-null   float64       \n",
      " 8   Humidity(%)        5972 non-null   float64       \n",
      " 9   Wind_Speed(mph)    5972 non-null   float64       \n",
      " 10  Visibility(mi)     5972 non-null   float64       \n",
      " 11  Selected           5972 non-null   object        \n",
      " 12  date               5972 non-null   datetime64[ns]\n",
      "dtypes: datetime64[ns](1), float64(6), int64(4), object(2)\n",
      "memory usage: 653.2+ KB\n"
     ]
    }
   ],
   "source": [
    "weather.drop_duplicates(['date', 'Hour'],inplace=True)\n",
    "weather.info()"
   ]
  },
  {
   "cell_type": "code",
   "execution_count": 38,
   "id": "0a3c297a",
   "metadata": {
    "execution": {
     "iopub.execute_input": "2021-07-27T15:51:24.934886Z",
     "iopub.status.busy": "2021-07-27T15:51:24.934089Z",
     "iopub.status.idle": "2021-07-27T15:51:24.936861Z",
     "shell.execute_reply": "2021-07-27T15:51:24.937384Z",
     "shell.execute_reply.started": "2021-07-27T15:45:11.332493Z"
    },
    "papermill": {
     "duration": 0.083365,
     "end_time": "2021-07-27T15:51:24.937542",
     "exception": false,
     "start_time": "2021-07-27T15:51:24.854177",
     "status": "completed"
    },
    "tags": []
   },
   "outputs": [],
   "source": [
    "weather.drop(columns=['Year', 'Day', 'Month'], inplace=True)"
   ]
  },
  {
   "cell_type": "code",
   "execution_count": 39,
   "id": "0cb60ff0",
   "metadata": {
    "execution": {
     "iopub.execute_input": "2021-07-27T15:51:25.085630Z",
     "iopub.status.busy": "2021-07-27T15:51:25.084772Z",
     "iopub.status.idle": "2021-07-27T15:51:25.096935Z",
     "shell.execute_reply": "2021-07-27T15:51:25.096433Z",
     "shell.execute_reply.started": "2021-07-27T15:45:11.341304Z"
    },
    "papermill": {
     "duration": 0.091306,
     "end_time": "2021-07-27T15:51:25.097064",
     "exception": false,
     "start_time": "2021-07-27T15:51:25.005758",
     "status": "completed"
    },
    "tags": []
   },
   "outputs": [],
   "source": [
    "new_df = new_df.merge(weather, on =['date', 'Hour'], how='left')"
   ]
  },
  {
   "cell_type": "code",
   "execution_count": 40,
   "id": "8fa30066",
   "metadata": {
    "execution": {
     "iopub.execute_input": "2021-07-27T15:51:25.252040Z",
     "iopub.status.busy": "2021-07-27T15:51:25.251212Z",
     "iopub.status.idle": "2021-07-27T15:51:25.267725Z",
     "shell.execute_reply": "2021-07-27T15:51:25.268336Z",
     "shell.execute_reply.started": "2021-07-27T15:45:11.357596Z"
    },
    "papermill": {
     "duration": 0.100828,
     "end_time": "2021-07-27T15:51:25.268567",
     "exception": false,
     "start_time": "2021-07-27T15:51:25.167739",
     "status": "completed"
    },
    "tags": []
   },
   "outputs": [
    {
     "name": "stdout",
     "output_type": "stream",
     "text": [
      "<class 'pandas.core.frame.DataFrame'>\n",
      "Int64Index: 6407 entries, 0 to 6406\n",
      "Data columns (total 27 columns):\n",
      " #   Column             Non-Null Count  Dtype         \n",
      "---  ------             --------------  -----         \n",
      " 0   ID                 6407 non-null   int64         \n",
      " 1   Lat                6407 non-null   float64       \n",
      " 2   Lng                6407 non-null   float64       \n",
      " 3   Distance(mi)       6407 non-null   float64       \n",
      " 4   Crossing           6407 non-null   float64       \n",
      " 5   Give_Way           6407 non-null   float64       \n",
      " 6   Junction           6407 non-null   float64       \n",
      " 7   No_Exit            6407 non-null   float64       \n",
      " 8   Railway            6407 non-null   float64       \n",
      " 9   Roundabout         6407 non-null   float64       \n",
      " 10  Stop               6407 non-null   float64       \n",
      " 11  Amenity            6407 non-null   float64       \n",
      " 12  Side               6407 non-null   float64       \n",
      " 13  Severity           6407 non-null   int64         \n",
      " 14  timestamp          6407 non-null   object        \n",
      " 15  Day                6407 non-null   int64         \n",
      " 16  Rush-hour          6407 non-null   bool          \n",
      " 17  date               6407 non-null   datetime64[ns]\n",
      " 18  Hour               6407 non-null   int64         \n",
      " 19  Weather_Condition  6407 non-null   object        \n",
      " 20  Wind_Chill(F)      6407 non-null   float64       \n",
      " 21  Precipitation(in)  6407 non-null   float64       \n",
      " 22  Temperature(F)     6407 non-null   float64       \n",
      " 23  Humidity(%)        6407 non-null   float64       \n",
      " 24  Wind_Speed(mph)    6407 non-null   float64       \n",
      " 25  Visibility(mi)     6407 non-null   float64       \n",
      " 26  Selected           6407 non-null   object        \n",
      "dtypes: bool(1), datetime64[ns](1), float64(18), int64(4), object(3)\n",
      "memory usage: 1.3+ MB\n"
     ]
    }
   ],
   "source": [
    "new_df.info()"
   ]
  },
  {
   "cell_type": "markdown",
   "id": "8dc14d53",
   "metadata": {
    "papermill": {
     "duration": 0.069029,
     "end_time": "2021-07-27T15:51:25.418082",
     "exception": false,
     "start_time": "2021-07-27T15:51:25.349053",
     "status": "completed"
    },
    "tags": []
   },
   "source": [
    "# **Working with Holidays data**"
   ]
  },
  {
   "cell_type": "code",
   "execution_count": 41,
   "id": "f92e7b36",
   "metadata": {
    "execution": {
     "iopub.execute_input": "2021-07-27T15:51:25.575446Z",
     "iopub.status.busy": "2021-07-27T15:51:25.574893Z",
     "iopub.status.idle": "2021-07-27T15:51:25.578002Z",
     "shell.execute_reply": "2021-07-27T15:51:25.578706Z",
     "shell.execute_reply.started": "2021-07-27T15:45:11.378579Z"
    },
    "papermill": {
     "duration": 0.089905,
     "end_time": "2021-07-27T15:51:25.578879",
     "exception": false,
     "start_time": "2021-07-27T15:51:25.488974",
     "status": "completed"
    },
    "tags": []
   },
   "outputs": [
    {
     "name": "stdout",
     "output_type": "stream",
     "text": [
      "<class 'pandas.core.frame.DataFrame'>\n",
      "RangeIndex: 90 entries, 0 to 89\n",
      "Data columns (total 2 columns):\n",
      " #   Column   Non-Null Count  Dtype         \n",
      "---  ------   --------------  -----         \n",
      " 0   date     90 non-null     datetime64[ns]\n",
      " 1   holiday  90 non-null     object        \n",
      "dtypes: datetime64[ns](1), object(1)\n",
      "memory usage: 1.5+ KB\n"
     ]
    }
   ],
   "source": [
    "holidays['date']= pd.to_datetime(holidays['date'])\n",
    "holidays.info()"
   ]
  },
  {
   "cell_type": "markdown",
   "id": "e248df59",
   "metadata": {
    "papermill": {
     "duration": 0.068403,
     "end_time": "2021-07-27T15:51:25.721356",
     "exception": false,
     "start_time": "2021-07-27T15:51:25.652953",
     "status": "completed"
    },
    "tags": []
   },
   "source": [
    "# **Merge Holidays and training data**"
   ]
  },
  {
   "cell_type": "code",
   "execution_count": 42,
   "id": "537ef2fc",
   "metadata": {
    "execution": {
     "iopub.execute_input": "2021-07-27T15:51:25.869490Z",
     "iopub.status.busy": "2021-07-27T15:51:25.868581Z",
     "iopub.status.idle": "2021-07-27T15:51:25.878213Z",
     "shell.execute_reply": "2021-07-27T15:51:25.877736Z",
     "shell.execute_reply.started": "2021-07-27T15:45:11.397684Z"
    },
    "papermill": {
     "duration": 0.084608,
     "end_time": "2021-07-27T15:51:25.878349",
     "exception": false,
     "start_time": "2021-07-27T15:51:25.793741",
     "status": "completed"
    },
    "tags": []
   },
   "outputs": [],
   "source": [
    "new_df = new_df.merge(holidays, on ='date', how='left')"
   ]
  },
  {
   "cell_type": "code",
   "execution_count": 43,
   "id": "f1139c4a",
   "metadata": {
    "execution": {
     "iopub.execute_input": "2021-07-27T15:51:26.024826Z",
     "iopub.status.busy": "2021-07-27T15:51:26.023984Z",
     "iopub.status.idle": "2021-07-27T15:51:26.051270Z",
     "shell.execute_reply": "2021-07-27T15:51:26.050871Z",
     "shell.execute_reply.started": "2021-07-27T15:45:11.415115Z"
    },
    "papermill": {
     "duration": 0.104153,
     "end_time": "2021-07-27T15:51:26.051380",
     "exception": false,
     "start_time": "2021-07-27T15:51:25.947227",
     "status": "completed"
    },
    "tags": []
   },
   "outputs": [
    {
     "data": {
      "text/html": [
       "<div>\n",
       "<style scoped>\n",
       "    .dataframe tbody tr th:only-of-type {\n",
       "        vertical-align: middle;\n",
       "    }\n",
       "\n",
       "    .dataframe tbody tr th {\n",
       "        vertical-align: top;\n",
       "    }\n",
       "\n",
       "    .dataframe thead th {\n",
       "        text-align: right;\n",
       "    }\n",
       "</style>\n",
       "<table border=\"1\" class=\"dataframe\">\n",
       "  <thead>\n",
       "    <tr style=\"text-align: right;\">\n",
       "      <th></th>\n",
       "      <th>ID</th>\n",
       "      <th>Lat</th>\n",
       "      <th>Lng</th>\n",
       "      <th>Distance(mi)</th>\n",
       "      <th>Crossing</th>\n",
       "      <th>Give_Way</th>\n",
       "      <th>Junction</th>\n",
       "      <th>No_Exit</th>\n",
       "      <th>Railway</th>\n",
       "      <th>Roundabout</th>\n",
       "      <th>...</th>\n",
       "      <th>Hour</th>\n",
       "      <th>Weather_Condition</th>\n",
       "      <th>Wind_Chill(F)</th>\n",
       "      <th>Precipitation(in)</th>\n",
       "      <th>Temperature(F)</th>\n",
       "      <th>Humidity(%)</th>\n",
       "      <th>Wind_Speed(mph)</th>\n",
       "      <th>Visibility(mi)</th>\n",
       "      <th>Selected</th>\n",
       "      <th>holiday</th>\n",
       "    </tr>\n",
       "  </thead>\n",
       "  <tbody>\n",
       "    <tr>\n",
       "      <th>0</th>\n",
       "      <td>0</td>\n",
       "      <td>37.762150</td>\n",
       "      <td>-122.405660</td>\n",
       "      <td>0.044</td>\n",
       "      <td>0.0</td>\n",
       "      <td>0.0</td>\n",
       "      <td>0.0</td>\n",
       "      <td>0.0</td>\n",
       "      <td>0.0</td>\n",
       "      <td>0.0</td>\n",
       "      <td>...</td>\n",
       "      <td>15</td>\n",
       "      <td>Scattered Clouds</td>\n",
       "      <td>59.762515</td>\n",
       "      <td>0.006444</td>\n",
       "      <td>64.0</td>\n",
       "      <td>58.0</td>\n",
       "      <td>23.0</td>\n",
       "      <td>10.0</td>\n",
       "      <td>No</td>\n",
       "      <td>NaN</td>\n",
       "    </tr>\n",
       "    <tr>\n",
       "      <th>1</th>\n",
       "      <td>1</td>\n",
       "      <td>37.719157</td>\n",
       "      <td>-122.448254</td>\n",
       "      <td>0.000</td>\n",
       "      <td>0.0</td>\n",
       "      <td>0.0</td>\n",
       "      <td>0.0</td>\n",
       "      <td>0.0</td>\n",
       "      <td>0.0</td>\n",
       "      <td>0.0</td>\n",
       "      <td>...</td>\n",
       "      <td>19</td>\n",
       "      <td>Mostly Cloudy / Windy</td>\n",
       "      <td>57.000000</td>\n",
       "      <td>0.000000</td>\n",
       "      <td>57.0</td>\n",
       "      <td>83.0</td>\n",
       "      <td>22.0</td>\n",
       "      <td>10.0</td>\n",
       "      <td>No</td>\n",
       "      <td>NaN</td>\n",
       "    </tr>\n",
       "    <tr>\n",
       "      <th>2</th>\n",
       "      <td>2</td>\n",
       "      <td>37.808498</td>\n",
       "      <td>-122.366852</td>\n",
       "      <td>0.000</td>\n",
       "      <td>0.0</td>\n",
       "      <td>0.0</td>\n",
       "      <td>0.0</td>\n",
       "      <td>0.0</td>\n",
       "      <td>0.0</td>\n",
       "      <td>0.0</td>\n",
       "      <td>...</td>\n",
       "      <td>19</td>\n",
       "      <td>Clear</td>\n",
       "      <td>59.762515</td>\n",
       "      <td>0.006444</td>\n",
       "      <td>62.1</td>\n",
       "      <td>80.0</td>\n",
       "      <td>9.2</td>\n",
       "      <td>10.0</td>\n",
       "      <td>No</td>\n",
       "      <td>NaN</td>\n",
       "    </tr>\n",
       "    <tr>\n",
       "      <th>3</th>\n",
       "      <td>3</td>\n",
       "      <td>37.785930</td>\n",
       "      <td>-122.391080</td>\n",
       "      <td>0.009</td>\n",
       "      <td>0.0</td>\n",
       "      <td>0.0</td>\n",
       "      <td>1.0</td>\n",
       "      <td>0.0</td>\n",
       "      <td>0.0</td>\n",
       "      <td>0.0</td>\n",
       "      <td>...</td>\n",
       "      <td>19</td>\n",
       "      <td>Fair</td>\n",
       "      <td>58.000000</td>\n",
       "      <td>0.000000</td>\n",
       "      <td>58.0</td>\n",
       "      <td>70.0</td>\n",
       "      <td>10.0</td>\n",
       "      <td>10.0</td>\n",
       "      <td>No</td>\n",
       "      <td>NaN</td>\n",
       "    </tr>\n",
       "    <tr>\n",
       "      <th>4</th>\n",
       "      <td>4</td>\n",
       "      <td>37.719141</td>\n",
       "      <td>-122.448457</td>\n",
       "      <td>0.000</td>\n",
       "      <td>0.0</td>\n",
       "      <td>0.0</td>\n",
       "      <td>0.0</td>\n",
       "      <td>0.0</td>\n",
       "      <td>0.0</td>\n",
       "      <td>0.0</td>\n",
       "      <td>...</td>\n",
       "      <td>8</td>\n",
       "      <td>Fair</td>\n",
       "      <td>58.000000</td>\n",
       "      <td>0.000000</td>\n",
       "      <td>58.0</td>\n",
       "      <td>65.0</td>\n",
       "      <td>3.0</td>\n",
       "      <td>10.0</td>\n",
       "      <td>No</td>\n",
       "      <td>NaN</td>\n",
       "    </tr>\n",
       "  </tbody>\n",
       "</table>\n",
       "<p>5 rows × 28 columns</p>\n",
       "</div>"
      ],
      "text/plain": [
       "   ID        Lat         Lng  Distance(mi)  Crossing  Give_Way  Junction  \\\n",
       "0   0  37.762150 -122.405660         0.044       0.0       0.0       0.0   \n",
       "1   1  37.719157 -122.448254         0.000       0.0       0.0       0.0   \n",
       "2   2  37.808498 -122.366852         0.000       0.0       0.0       0.0   \n",
       "3   3  37.785930 -122.391080         0.009       0.0       0.0       1.0   \n",
       "4   4  37.719141 -122.448457         0.000       0.0       0.0       0.0   \n",
       "\n",
       "   No_Exit  Railway  Roundabout  ...  Hour      Weather_Condition  \\\n",
       "0      0.0      0.0         0.0  ...    15       Scattered Clouds   \n",
       "1      0.0      0.0         0.0  ...    19  Mostly Cloudy / Windy   \n",
       "2      0.0      0.0         0.0  ...    19                  Clear   \n",
       "3      0.0      0.0         0.0  ...    19                   Fair   \n",
       "4      0.0      0.0         0.0  ...     8                   Fair   \n",
       "\n",
       "   Wind_Chill(F)  Precipitation(in) Temperature(F)  Humidity(%)  \\\n",
       "0      59.762515           0.006444           64.0         58.0   \n",
       "1      57.000000           0.000000           57.0         83.0   \n",
       "2      59.762515           0.006444           62.1         80.0   \n",
       "3      58.000000           0.000000           58.0         70.0   \n",
       "4      58.000000           0.000000           58.0         65.0   \n",
       "\n",
       "   Wind_Speed(mph) Visibility(mi)  Selected holiday  \n",
       "0             23.0           10.0        No     NaN  \n",
       "1             22.0           10.0        No     NaN  \n",
       "2              9.2           10.0        No     NaN  \n",
       "3             10.0           10.0        No     NaN  \n",
       "4              3.0           10.0        No     NaN  \n",
       "\n",
       "[5 rows x 28 columns]"
      ]
     },
     "execution_count": 43,
     "metadata": {},
     "output_type": "execute_result"
    }
   ],
   "source": [
    "new_df.head()"
   ]
  },
  {
   "cell_type": "code",
   "execution_count": 44,
   "id": "4b37518d",
   "metadata": {
    "execution": {
     "iopub.execute_input": "2021-07-27T15:51:26.215473Z",
     "iopub.status.busy": "2021-07-27T15:51:26.214426Z",
     "iopub.status.idle": "2021-07-27T15:51:26.218618Z",
     "shell.execute_reply": "2021-07-27T15:51:26.218199Z",
     "shell.execute_reply.started": "2021-07-27T15:45:11.450027Z"
    },
    "papermill": {
     "duration": 0.091797,
     "end_time": "2021-07-27T15:51:26.218727",
     "exception": false,
     "start_time": "2021-07-27T15:51:26.126930",
     "status": "completed"
    },
    "tags": []
   },
   "outputs": [
    {
     "data": {
      "text/html": [
       "<div>\n",
       "<style scoped>\n",
       "    .dataframe tbody tr th:only-of-type {\n",
       "        vertical-align: middle;\n",
       "    }\n",
       "\n",
       "    .dataframe tbody tr th {\n",
       "        vertical-align: top;\n",
       "    }\n",
       "\n",
       "    .dataframe thead th {\n",
       "        text-align: right;\n",
       "    }\n",
       "</style>\n",
       "<table border=\"1\" class=\"dataframe\">\n",
       "  <thead>\n",
       "    <tr style=\"text-align: right;\">\n",
       "      <th></th>\n",
       "      <th>Hour</th>\n",
       "      <th>Weather_Condition</th>\n",
       "      <th>Wind_Chill(F)</th>\n",
       "      <th>Precipitation(in)</th>\n",
       "      <th>Temperature(F)</th>\n",
       "      <th>Humidity(%)</th>\n",
       "      <th>Wind_Speed(mph)</th>\n",
       "      <th>Visibility(mi)</th>\n",
       "      <th>Selected</th>\n",
       "      <th>date</th>\n",
       "    </tr>\n",
       "  </thead>\n",
       "  <tbody>\n",
       "    <tr>\n",
       "      <th>0</th>\n",
       "      <td>18</td>\n",
       "      <td>Fair</td>\n",
       "      <td>64.000000</td>\n",
       "      <td>0.000000</td>\n",
       "      <td>64.0</td>\n",
       "      <td>70.0</td>\n",
       "      <td>20.0</td>\n",
       "      <td>10.0</td>\n",
       "      <td>No</td>\n",
       "      <td>2020-07-27</td>\n",
       "    </tr>\n",
       "    <tr>\n",
       "      <th>1</th>\n",
       "      <td>17</td>\n",
       "      <td>Partly Cloudy</td>\n",
       "      <td>59.762515</td>\n",
       "      <td>0.006444</td>\n",
       "      <td>71.1</td>\n",
       "      <td>57.0</td>\n",
       "      <td>9.2</td>\n",
       "      <td>10.0</td>\n",
       "      <td>No</td>\n",
       "      <td>2017-09-30</td>\n",
       "    </tr>\n",
       "    <tr>\n",
       "      <th>2</th>\n",
       "      <td>5</td>\n",
       "      <td>Overcast</td>\n",
       "      <td>59.762515</td>\n",
       "      <td>0.006444</td>\n",
       "      <td>57.9</td>\n",
       "      <td>87.0</td>\n",
       "      <td>15.0</td>\n",
       "      <td>9.0</td>\n",
       "      <td>No</td>\n",
       "      <td>2017-06-27</td>\n",
       "    </tr>\n",
       "    <tr>\n",
       "      <th>3</th>\n",
       "      <td>9</td>\n",
       "      <td>Clear</td>\n",
       "      <td>59.762515</td>\n",
       "      <td>0.006444</td>\n",
       "      <td>66.9</td>\n",
       "      <td>73.0</td>\n",
       "      <td>4.6</td>\n",
       "      <td>10.0</td>\n",
       "      <td>No</td>\n",
       "      <td>2016-09-07</td>\n",
       "    </tr>\n",
       "    <tr>\n",
       "      <th>4</th>\n",
       "      <td>2</td>\n",
       "      <td>Fair</td>\n",
       "      <td>52.000000</td>\n",
       "      <td>0.000000</td>\n",
       "      <td>52.0</td>\n",
       "      <td>89.0</td>\n",
       "      <td>0.0</td>\n",
       "      <td>9.0</td>\n",
       "      <td>No</td>\n",
       "      <td>2019-10-19</td>\n",
       "    </tr>\n",
       "  </tbody>\n",
       "</table>\n",
       "</div>"
      ],
      "text/plain": [
       "   Hour Weather_Condition  Wind_Chill(F)  Precipitation(in)  Temperature(F)  \\\n",
       "0    18              Fair      64.000000           0.000000            64.0   \n",
       "1    17     Partly Cloudy      59.762515           0.006444            71.1   \n",
       "2     5          Overcast      59.762515           0.006444            57.9   \n",
       "3     9             Clear      59.762515           0.006444            66.9   \n",
       "4     2              Fair      52.000000           0.000000            52.0   \n",
       "\n",
       "   Humidity(%)  Wind_Speed(mph)  Visibility(mi) Selected       date  \n",
       "0         70.0             20.0            10.0       No 2020-07-27  \n",
       "1         57.0              9.2            10.0       No 2017-09-30  \n",
       "2         87.0             15.0             9.0       No 2017-06-27  \n",
       "3         73.0              4.6            10.0       No 2016-09-07  \n",
       "4         89.0              0.0             9.0       No 2019-10-19  "
      ]
     },
     "execution_count": 44,
     "metadata": {},
     "output_type": "execute_result"
    }
   ],
   "source": [
    "weather.head()"
   ]
  },
  {
   "cell_type": "code",
   "execution_count": 45,
   "id": "f600c218",
   "metadata": {
    "execution": {
     "iopub.execute_input": "2021-07-27T15:51:26.367907Z",
     "iopub.status.busy": "2021-07-27T15:51:26.367042Z",
     "iopub.status.idle": "2021-07-27T15:51:26.403617Z",
     "shell.execute_reply": "2021-07-27T15:51:26.404049Z",
     "shell.execute_reply.started": "2021-07-27T15:45:11.471042Z"
    },
    "papermill": {
     "duration": 0.115035,
     "end_time": "2021-07-27T15:51:26.404191",
     "exception": false,
     "start_time": "2021-07-27T15:51:26.289156",
     "status": "completed"
    },
    "tags": []
   },
   "outputs": [],
   "source": [
    "new_df['holiday'] = new_df['holiday'].replace(list(new_df['holiday'].dropna()),1)\n",
    "new_df['holiday'] = new_df['holiday'].replace(np.nan,0)\n",
    "new_df.head()\n",
    "new_df[\"Weather_Condition\"] = ord_enc.fit_transform(new_df[[\"Weather_Condition\"]])\n",
    "new_df[\"Selected\"] = ord_enc.fit_transform(new_df[[\"Selected\"]])\n",
    "\n"
   ]
  },
  {
   "cell_type": "markdown",
   "id": "a1052a5e",
   "metadata": {
    "papermill": {
     "duration": 0.074623,
     "end_time": "2021-07-27T15:51:26.550841",
     "exception": false,
     "start_time": "2021-07-27T15:51:26.476218",
     "status": "completed"
    },
    "tags": []
   },
   "source": []
  },
  {
   "cell_type": "markdown",
   "id": "ace8de08",
   "metadata": {
    "papermill": {
     "duration": 0.071852,
     "end_time": "2021-07-27T15:51:26.692685",
     "exception": false,
     "start_time": "2021-07-27T15:51:26.620833",
     "status": "completed"
    },
    "tags": []
   },
   "source": [
    "The output shows desciptive statistics for the numerical features, `Lat`, `Lng`, `Distance(mi)`, and `Severity`. I'll use the numerical features to demonstrate how to train the model and make submissions. **However you shouldn't use the numerical features only to make the final submission if you want to make it to the top of the leaderboard.**"
   ]
  },
  {
   "cell_type": "markdown",
   "id": "c8ec8241",
   "metadata": {
    "papermill": {
     "duration": 0.069253,
     "end_time": "2021-07-27T15:51:26.835121",
     "exception": false,
     "start_time": "2021-07-27T15:51:26.765868",
     "status": "completed"
    },
    "tags": []
   },
   "source": [
    "## Data Splitting\n",
    "\n",
    "Now it's time to split the dataset for the training step. Typically the dataset is split into 3 subsets, namely, the training, validation and test sets. In our case, the test set is already predefined. So we'll split the \"training\" set into training and validation sets with 0.8:0.2 ratio. \n",
    "\n",
    "*Note: a good way to generate reproducible results is to set the seed to the algorithms that depends on randomization. This is done with the argument `random_state` in the following command* "
   ]
  },
  {
   "cell_type": "code",
   "execution_count": 46,
   "id": "2d9aad97",
   "metadata": {
    "execution": {
     "iopub.execute_input": "2021-07-27T15:51:26.986730Z",
     "iopub.status.busy": "2021-07-27T15:51:26.986060Z",
     "iopub.status.idle": "2021-07-27T15:51:27.036048Z",
     "shell.execute_reply": "2021-07-27T15:51:27.035102Z",
     "shell.execute_reply.started": "2021-07-27T15:45:11.521060Z"
    },
    "papermill": {
     "duration": 0.128238,
     "end_time": "2021-07-27T15:51:27.036262",
     "exception": false,
     "start_time": "2021-07-27T15:51:26.908024",
     "status": "completed"
    },
    "tags": []
   },
   "outputs": [],
   "source": [
    "from sklearn.model_selection import train_test_split\n",
    "\n",
    "train_df, val_df = train_test_split(new_df, test_size=0.2, random_state=42) # Try adding `stratify` here\n",
    "\n",
    "X_train = train_df.drop(columns=['ID', 'Severity'])\n",
    "y_train = train_df['Severity']\n",
    "\n",
    "X_val = val_df.drop(columns=['ID', 'Severity'])\n",
    "y_val = val_df['Severity']\n"
   ]
  },
  {
   "cell_type": "markdown",
   "id": "58d77ea9",
   "metadata": {
    "papermill": {
     "duration": 0.078614,
     "end_time": "2021-07-27T15:51:27.201910",
     "exception": false,
     "start_time": "2021-07-27T15:51:27.123296",
     "status": "completed"
    },
    "tags": []
   },
   "source": [
    "As pointed out eariler, I'll use the numerical features to train the classifier. **However, you shouldn't use the numerical features only to make the final submission if you want to make it to the top of the leaderboard.** "
   ]
  },
  {
   "cell_type": "code",
   "execution_count": 47,
   "id": "d060266d",
   "metadata": {
    "execution": {
     "iopub.execute_input": "2021-07-27T15:51:27.354574Z",
     "iopub.status.busy": "2021-07-27T15:51:27.353715Z",
     "iopub.status.idle": "2021-07-27T15:51:27.370884Z",
     "shell.execute_reply": "2021-07-27T15:51:27.371680Z",
     "shell.execute_reply.started": "2021-07-27T15:45:11.535305Z"
    },
    "papermill": {
     "duration": 0.095778,
     "end_time": "2021-07-27T15:51:27.371896",
     "exception": false,
     "start_time": "2021-07-27T15:51:27.276118",
     "status": "completed"
    },
    "tags": []
   },
   "outputs": [
    {
     "name": "stdout",
     "output_type": "stream",
     "text": [
      "<class 'pandas.core.frame.DataFrame'>\n",
      "Int64Index: 6407 entries, 0 to 6406\n",
      "Data columns (total 28 columns):\n",
      " #   Column             Non-Null Count  Dtype         \n",
      "---  ------             --------------  -----         \n",
      " 0   ID                 6407 non-null   int64         \n",
      " 1   Lat                6407 non-null   float64       \n",
      " 2   Lng                6407 non-null   float64       \n",
      " 3   Distance(mi)       6407 non-null   float64       \n",
      " 4   Crossing           6407 non-null   float64       \n",
      " 5   Give_Way           6407 non-null   float64       \n",
      " 6   Junction           6407 non-null   float64       \n",
      " 7   No_Exit            6407 non-null   float64       \n",
      " 8   Railway            6407 non-null   float64       \n",
      " 9   Roundabout         6407 non-null   float64       \n",
      " 10  Stop               6407 non-null   float64       \n",
      " 11  Amenity            6407 non-null   float64       \n",
      " 12  Side               6407 non-null   float64       \n",
      " 13  Severity           6407 non-null   int64         \n",
      " 14  timestamp          6407 non-null   object        \n",
      " 15  Day                6407 non-null   int64         \n",
      " 16  Rush-hour          6407 non-null   bool          \n",
      " 17  date               6407 non-null   datetime64[ns]\n",
      " 18  Hour               6407 non-null   int64         \n",
      " 19  Weather_Condition  6407 non-null   float64       \n",
      " 20  Wind_Chill(F)      6407 non-null   float64       \n",
      " 21  Precipitation(in)  6407 non-null   float64       \n",
      " 22  Temperature(F)     6407 non-null   float64       \n",
      " 23  Humidity(%)        6407 non-null   float64       \n",
      " 24  Wind_Speed(mph)    6407 non-null   float64       \n",
      " 25  Visibility(mi)     6407 non-null   float64       \n",
      " 26  Selected           6407 non-null   float64       \n",
      " 27  holiday            6407 non-null   float64       \n",
      "dtypes: bool(1), datetime64[ns](1), float64(21), int64(4), object(1)\n",
      "memory usage: 1.4+ MB\n"
     ]
    }
   ],
   "source": [
    "new_df.info()"
   ]
  },
  {
   "cell_type": "code",
   "execution_count": 48,
   "id": "24394b83",
   "metadata": {
    "execution": {
     "iopub.execute_input": "2021-07-27T15:51:27.548101Z",
     "iopub.status.busy": "2021-07-27T15:51:27.547294Z",
     "iopub.status.idle": "2021-07-27T15:51:29.517207Z",
     "shell.execute_reply": "2021-07-27T15:51:29.516317Z",
     "shell.execute_reply.started": "2021-07-27T15:45:11.554827Z"
    },
    "papermill": {
     "duration": 2.066239,
     "end_time": "2021-07-27T15:51:29.517355",
     "exception": false,
     "start_time": "2021-07-27T15:51:27.451116",
     "status": "completed"
    },
    "tags": []
   },
   "outputs": [
    {
     "data": {
      "text/plain": [
       "<AxesSubplot:>"
      ]
     },
     "execution_count": 48,
     "metadata": {},
     "output_type": "execute_result"
    },
    {
     "data": {
      "image/png": "[encoded data removed]",
      "text/plain": [
       "<Figure size 1440x1440 with 2 Axes>"
      ]
     },
     "metadata": {
      "needs_background": "light"
     },
     "output_type": "display_data"
    }
   ],
   "source": [
    "fig, ax = plt.subplots(figsize=(20,20))\n",
    "cormat= new_df.drop(columns=['ID','Roundabout','Lat','Lng','Distance(mi)']).corr()\n",
    "mask = np.array(cormat)\n",
    "mask[np.tril_indices_from(mask)] = False\n",
    "sn.heatmap(cormat,mask=mask,annot=True)"
   ]
  },
  {
   "cell_type": "code",
   "execution_count": null,
   "id": "2134894b",
   "metadata": {
    "papermill": {
     "duration": 0.080148,
     "end_time": "2021-07-27T15:51:29.677112",
     "exception": false,
     "start_time": "2021-07-27T15:51:29.596964",
     "status": "completed"
    },
    "tags": []
   },
   "outputs": [],
   "source": []
  },
  {
   "cell_type": "code",
   "execution_count": 49,
   "id": "21daaed3",
   "metadata": {
    "execution": {
     "iopub.execute_input": "2021-07-27T15:51:29.841155Z",
     "iopub.status.busy": "2021-07-27T15:51:29.840366Z",
     "iopub.status.idle": "2021-07-27T15:51:29.843293Z",
     "shell.execute_reply": "2021-07-27T15:51:29.842894Z",
     "shell.execute_reply.started": "2021-07-27T15:45:13.283978Z"
    },
    "papermill": {
     "duration": 0.088917,
     "end_time": "2021-07-27T15:51:29.843403",
     "exception": false,
     "start_time": "2021-07-27T15:51:29.754486",
     "status": "completed"
    },
    "tags": []
   },
   "outputs": [],
   "source": [
    "# This cell is used to select the numerical features. IT SHOULD BE REMOVED AS YOU DO YOUR WORK.\n",
    "#X_train = X_train[['Lat', 'Lng', 'Distance(mi)','Stop','Wind_Chill(F)','Precipitation(in)','Temperature(F)','Humidity(%)','Wind_Speed(mph)','holiday']]\n",
    "#X_val = X_val[['Lat', 'Lng', 'Distance(mi)','Stop','Wind_Chill(F)','Precipitation(in)','Temperature(F)','Humidity(%)','Wind_Speed(mph)','holiday']]\n",
    "\n",
    "X_train = X_train[['Lat', 'Lng', 'Distance(mi)','Stop','Wind_Chill(F)','Precipitation(in)','Temperature(F)','Humidity(%)','Wind_Speed(mph)','Visibility(mi)','Selected']]\n",
    "X_val = X_val[['Lat', 'Lng', 'Distance(mi)','Stop','Wind_Chill(F)','Precipitation(in)','Temperature(F)','Humidity(%)','Wind_Speed(mph)','Visibility(mi)','Selected']]"
   ]
  },
  {
   "cell_type": "code",
   "execution_count": null,
   "id": "90d3e7d6",
   "metadata": {
    "papermill": {
     "duration": 0.114406,
     "end_time": "2021-07-27T15:51:30.036387",
     "exception": false,
     "start_time": "2021-07-27T15:51:29.921981",
     "status": "completed"
    },
    "tags": []
   },
   "outputs": [],
   "source": []
  },
  {
   "cell_type": "markdown",
   "id": "f816fc41",
   "metadata": {
    "papermill": {
     "duration": 0.078625,
     "end_time": "2021-07-27T15:51:30.189026",
     "exception": false,
     "start_time": "2021-07-27T15:51:30.110401",
     "status": "completed"
    },
    "tags": []
   },
   "source": [
    "## Model Training\n",
    "\n",
    "Let's train a model with the data! We'll train a Random Forest Classifier to demonstrate the process of making submissions. "
   ]
  },
  {
   "cell_type": "code",
   "execution_count": 50,
   "id": "4c167fa6",
   "metadata": {
    "execution": {
     "iopub.execute_input": "2021-07-27T15:51:30.350032Z",
     "iopub.status.busy": "2021-07-27T15:51:30.349257Z",
     "iopub.status.idle": "2021-07-27T15:51:30.776169Z",
     "shell.execute_reply": "2021-07-27T15:51:30.775628Z",
     "shell.execute_reply.started": "2021-07-27T15:45:13.294473Z"
    },
    "papermill": {
     "duration": 0.50857,
     "end_time": "2021-07-27T15:51:30.776301",
     "exception": false,
     "start_time": "2021-07-27T15:51:30.267731",
     "status": "completed"
    },
    "tags": []
   },
   "outputs": [],
   "source": [
    "\n",
    "from sklearn.ensemble import RandomForestClassifier\n",
    "\n",
    "# Create an instance of the classifier\n",
    "classifier = RandomForestClassifier(max_depth=2, random_state=0)\n",
    "\n",
    "# Train the classifier\n",
    "classifier = classifier.fit(X_train, y_train)"
   ]
  },
  {
   "cell_type": "markdown",
   "id": "3297d597",
   "metadata": {
    "papermill": {
     "duration": 0.078288,
     "end_time": "2021-07-27T15:51:30.930488",
     "exception": false,
     "start_time": "2021-07-27T15:51:30.852200",
     "status": "completed"
    },
    "tags": []
   },
   "source": [
    "Now let's test our classifier on the validation dataset and see the accuracy."
   ]
  },
  {
   "cell_type": "code",
   "execution_count": 51,
   "id": "2c96dd6f",
   "metadata": {
    "execution": {
     "iopub.execute_input": "2021-07-27T15:51:31.089795Z",
     "iopub.status.busy": "2021-07-27T15:51:31.088777Z",
     "iopub.status.idle": "2021-07-27T15:51:31.111459Z",
     "shell.execute_reply": "2021-07-27T15:51:31.112214Z",
     "shell.execute_reply.started": "2021-07-27T15:45:13.588990Z"
    },
    "papermill": {
     "duration": 0.104026,
     "end_time": "2021-07-27T15:51:31.112447",
     "exception": false,
     "start_time": "2021-07-27T15:51:31.008421",
     "status": "completed"
    },
    "tags": []
   },
   "outputs": [
    {
     "name": "stdout",
     "output_type": "stream",
     "text": [
      "The accuracy of the classifier on the validation set is  0.748829953198128\n"
     ]
    }
   ],
   "source": [
    "print(\"The accuracy of the classifier on the validation set is \", (classifier.score(X_val, y_val)))"
   ]
  },
  {
   "cell_type": "code",
   "execution_count": null,
   "id": "2feee685",
   "metadata": {
    "papermill": {
     "duration": 0.079055,
     "end_time": "2021-07-27T15:51:31.267243",
     "exception": false,
     "start_time": "2021-07-27T15:51:31.188188",
     "status": "completed"
    },
    "tags": []
   },
   "outputs": [],
   "source": []
  },
  {
   "cell_type": "markdown",
   "id": "73973d87",
   "metadata": {
    "papermill": {
     "duration": 0.074348,
     "end_time": "2021-07-27T15:51:31.420828",
     "exception": false,
     "start_time": "2021-07-27T15:51:31.346480",
     "status": "completed"
    },
    "tags": []
   },
   "source": [
    "Well. That's a good start, right? A classifier that predicts all examples' `Severity` as 2 will get around 0.63. You should get better score as you add more features and do better data preprocessing."
   ]
  },
  {
   "cell_type": "markdown",
   "id": "0db03c34",
   "metadata": {
    "papermill": {
     "duration": 0.078912,
     "end_time": "2021-07-27T15:51:31.576868",
     "exception": false,
     "start_time": "2021-07-27T15:51:31.497956",
     "status": "completed"
    },
    "tags": []
   },
   "source": [
    "## Submission File Generation\n",
    "\n",
    "We have built a model and we'd like to submit our predictions on the test set! In order to do that, we'll load the test set, predict the class and save the submission file. \n",
    "\n",
    "First, we'll load the data."
   ]
  },
  {
   "cell_type": "code",
   "execution_count": 52,
   "id": "76d3c6bd",
   "metadata": {
    "execution": {
     "iopub.execute_input": "2021-07-27T15:51:31.747661Z",
     "iopub.status.busy": "2021-07-27T15:51:31.746475Z",
     "iopub.status.idle": "2021-07-27T15:51:31.751266Z",
     "shell.execute_reply": "2021-07-27T15:51:31.750726Z",
     "shell.execute_reply.started": "2021-07-27T15:45:13.617338Z"
    },
    "papermill": {
     "duration": 0.098197,
     "end_time": "2021-07-27T15:51:31.751403",
     "exception": false,
     "start_time": "2021-07-27T15:51:31.653206",
     "status": "completed"
    },
    "tags": []
   },
   "outputs": [
    {
     "data": {
      "text/html": [
       "<div>\n",
       "<style scoped>\n",
       "    .dataframe tbody tr th:only-of-type {\n",
       "        vertical-align: middle;\n",
       "    }\n",
       "\n",
       "    .dataframe tbody tr th {\n",
       "        vertical-align: top;\n",
       "    }\n",
       "\n",
       "    .dataframe thead th {\n",
       "        text-align: right;\n",
       "    }\n",
       "</style>\n",
       "<table border=\"1\" class=\"dataframe\">\n",
       "  <thead>\n",
       "    <tr style=\"text-align: right;\">\n",
       "      <th></th>\n",
       "      <th>ID</th>\n",
       "      <th>Lat</th>\n",
       "      <th>Lng</th>\n",
       "      <th>Bump</th>\n",
       "      <th>Distance(mi)</th>\n",
       "      <th>Crossing</th>\n",
       "      <th>Give_Way</th>\n",
       "      <th>Junction</th>\n",
       "      <th>No_Exit</th>\n",
       "      <th>Railway</th>\n",
       "      <th>Roundabout</th>\n",
       "      <th>Stop</th>\n",
       "      <th>Amenity</th>\n",
       "      <th>Side</th>\n",
       "      <th>timestamp</th>\n",
       "    </tr>\n",
       "  </thead>\n",
       "  <tbody>\n",
       "    <tr>\n",
       "      <th>0</th>\n",
       "      <td>6407</td>\n",
       "      <td>37.786060</td>\n",
       "      <td>-122.390900</td>\n",
       "      <td>False</td>\n",
       "      <td>0.039</td>\n",
       "      <td>False</td>\n",
       "      <td>False</td>\n",
       "      <td>True</td>\n",
       "      <td>False</td>\n",
       "      <td>False</td>\n",
       "      <td>False</td>\n",
       "      <td>False</td>\n",
       "      <td>False</td>\n",
       "      <td>R</td>\n",
       "      <td>2016-04-04 19:20:31</td>\n",
       "    </tr>\n",
       "    <tr>\n",
       "      <th>1</th>\n",
       "      <td>6408</td>\n",
       "      <td>37.769609</td>\n",
       "      <td>-122.415057</td>\n",
       "      <td>False</td>\n",
       "      <td>0.202</td>\n",
       "      <td>False</td>\n",
       "      <td>False</td>\n",
       "      <td>False</td>\n",
       "      <td>False</td>\n",
       "      <td>False</td>\n",
       "      <td>False</td>\n",
       "      <td>False</td>\n",
       "      <td>False</td>\n",
       "      <td>R</td>\n",
       "      <td>2020-10-28 11:51:00</td>\n",
       "    </tr>\n",
       "    <tr>\n",
       "      <th>2</th>\n",
       "      <td>6409</td>\n",
       "      <td>37.807495</td>\n",
       "      <td>-122.476021</td>\n",
       "      <td>False</td>\n",
       "      <td>0.000</td>\n",
       "      <td>False</td>\n",
       "      <td>False</td>\n",
       "      <td>False</td>\n",
       "      <td>False</td>\n",
       "      <td>False</td>\n",
       "      <td>False</td>\n",
       "      <td>False</td>\n",
       "      <td>False</td>\n",
       "      <td>R</td>\n",
       "      <td>2019-09-09 07:36:45</td>\n",
       "    </tr>\n",
       "    <tr>\n",
       "      <th>3</th>\n",
       "      <td>6410</td>\n",
       "      <td>37.761818</td>\n",
       "      <td>-122.405869</td>\n",
       "      <td>False</td>\n",
       "      <td>0.000</td>\n",
       "      <td>False</td>\n",
       "      <td>False</td>\n",
       "      <td>True</td>\n",
       "      <td>False</td>\n",
       "      <td>False</td>\n",
       "      <td>False</td>\n",
       "      <td>False</td>\n",
       "      <td>False</td>\n",
       "      <td>R</td>\n",
       "      <td>2019-08-06 15:46:25</td>\n",
       "    </tr>\n",
       "    <tr>\n",
       "      <th>4</th>\n",
       "      <td>6411</td>\n",
       "      <td>37.732350</td>\n",
       "      <td>-122.414100</td>\n",
       "      <td>False</td>\n",
       "      <td>0.670</td>\n",
       "      <td>False</td>\n",
       "      <td>False</td>\n",
       "      <td>False</td>\n",
       "      <td>False</td>\n",
       "      <td>False</td>\n",
       "      <td>False</td>\n",
       "      <td>False</td>\n",
       "      <td>False</td>\n",
       "      <td>R</td>\n",
       "      <td>2018-10-17 09:54:58</td>\n",
       "    </tr>\n",
       "  </tbody>\n",
       "</table>\n",
       "</div>"
      ],
      "text/plain": [
       "     ID        Lat         Lng   Bump  Distance(mi)  Crossing  Give_Way  \\\n",
       "0  6407  37.786060 -122.390900  False         0.039     False     False   \n",
       "1  6408  37.769609 -122.415057  False         0.202     False     False   \n",
       "2  6409  37.807495 -122.476021  False         0.000     False     False   \n",
       "3  6410  37.761818 -122.405869  False         0.000     False     False   \n",
       "4  6411  37.732350 -122.414100  False         0.670     False     False   \n",
       "\n",
       "   Junction  No_Exit  Railway  Roundabout   Stop  Amenity Side  \\\n",
       "0      True    False    False       False  False    False    R   \n",
       "1     False    False    False       False  False    False    R   \n",
       "2     False    False    False       False  False    False    R   \n",
       "3      True    False    False       False  False    False    R   \n",
       "4     False    False    False       False  False    False    R   \n",
       "\n",
       "             timestamp  \n",
       "0  2016-04-04 19:20:31  \n",
       "1  2020-10-28 11:51:00  \n",
       "2  2019-09-09 07:36:45  \n",
       "3  2019-08-06 15:46:25  \n",
       "4  2018-10-17 09:54:58  "
      ]
     },
     "execution_count": 52,
     "metadata": {},
     "output_type": "execute_result"
    }
   ],
   "source": [
    "test_df.head()"
   ]
  },
  {
   "cell_type": "code",
   "execution_count": 53,
   "id": "a8b6fa8c",
   "metadata": {
    "execution": {
     "iopub.execute_input": "2021-07-27T15:51:31.925659Z",
     "iopub.status.busy": "2021-07-27T15:51:31.924690Z",
     "iopub.status.idle": "2021-07-27T15:51:32.128326Z",
     "shell.execute_reply": "2021-07-27T15:51:32.128767Z",
     "shell.execute_reply.started": "2021-07-27T15:45:13.639372Z"
    },
    "papermill": {
     "duration": 0.296667,
     "end_time": "2021-07-27T15:51:32.128911",
     "exception": false,
     "start_time": "2021-07-27T15:51:31.832244",
     "status": "completed"
    },
    "tags": []
   },
   "outputs": [
    {
     "data": {
      "text/html": [
       "<div>\n",
       "<style scoped>\n",
       "    .dataframe tbody tr th:only-of-type {\n",
       "        vertical-align: middle;\n",
       "    }\n",
       "\n",
       "    .dataframe tbody tr th {\n",
       "        vertical-align: top;\n",
       "    }\n",
       "\n",
       "    .dataframe thead th {\n",
       "        text-align: right;\n",
       "    }\n",
       "</style>\n",
       "<table border=\"1\" class=\"dataframe\">\n",
       "  <thead>\n",
       "    <tr style=\"text-align: right;\">\n",
       "      <th></th>\n",
       "      <th>ID</th>\n",
       "      <th>Lat</th>\n",
       "      <th>Lng</th>\n",
       "      <th>Distance(mi)</th>\n",
       "      <th>Crossing</th>\n",
       "      <th>Give_Way</th>\n",
       "      <th>Junction</th>\n",
       "      <th>No_Exit</th>\n",
       "      <th>Railway</th>\n",
       "      <th>Roundabout</th>\n",
       "      <th>Stop</th>\n",
       "      <th>Amenity</th>\n",
       "      <th>Side</th>\n",
       "      <th>timestamp</th>\n",
       "      <th>Day</th>\n",
       "      <th>Rush-hour</th>\n",
       "      <th>date</th>\n",
       "      <th>Hour</th>\n",
       "    </tr>\n",
       "  </thead>\n",
       "  <tbody>\n",
       "    <tr>\n",
       "      <th>0</th>\n",
       "      <td>6407</td>\n",
       "      <td>37.786060</td>\n",
       "      <td>-122.390900</td>\n",
       "      <td>0.039</td>\n",
       "      <td>0.0</td>\n",
       "      <td>0.0</td>\n",
       "      <td>1.0</td>\n",
       "      <td>0.0</td>\n",
       "      <td>0.0</td>\n",
       "      <td>0.0</td>\n",
       "      <td>0.0</td>\n",
       "      <td>0.0</td>\n",
       "      <td>1.0</td>\n",
       "      <td>2016-04-04 19:20:31</td>\n",
       "      <td>3</td>\n",
       "      <td>False</td>\n",
       "      <td>2016-04-04</td>\n",
       "      <td>19</td>\n",
       "    </tr>\n",
       "    <tr>\n",
       "      <th>1</th>\n",
       "      <td>6408</td>\n",
       "      <td>37.769609</td>\n",
       "      <td>-122.415057</td>\n",
       "      <td>0.202</td>\n",
       "      <td>0.0</td>\n",
       "      <td>0.0</td>\n",
       "      <td>0.0</td>\n",
       "      <td>0.0</td>\n",
       "      <td>0.0</td>\n",
       "      <td>0.0</td>\n",
       "      <td>0.0</td>\n",
       "      <td>0.0</td>\n",
       "      <td>1.0</td>\n",
       "      <td>2020-10-28 11:51:00</td>\n",
       "      <td>5</td>\n",
       "      <td>False</td>\n",
       "      <td>2020-10-28</td>\n",
       "      <td>11</td>\n",
       "    </tr>\n",
       "    <tr>\n",
       "      <th>2</th>\n",
       "      <td>6409</td>\n",
       "      <td>37.807495</td>\n",
       "      <td>-122.476021</td>\n",
       "      <td>0.000</td>\n",
       "      <td>0.0</td>\n",
       "      <td>0.0</td>\n",
       "      <td>0.0</td>\n",
       "      <td>0.0</td>\n",
       "      <td>0.0</td>\n",
       "      <td>0.0</td>\n",
       "      <td>0.0</td>\n",
       "      <td>0.0</td>\n",
       "      <td>1.0</td>\n",
       "      <td>2019-09-09 07:36:45</td>\n",
       "      <td>3</td>\n",
       "      <td>False</td>\n",
       "      <td>2019-09-09</td>\n",
       "      <td>7</td>\n",
       "    </tr>\n",
       "    <tr>\n",
       "      <th>3</th>\n",
       "      <td>6410</td>\n",
       "      <td>37.761818</td>\n",
       "      <td>-122.405869</td>\n",
       "      <td>0.000</td>\n",
       "      <td>0.0</td>\n",
       "      <td>0.0</td>\n",
       "      <td>1.0</td>\n",
       "      <td>0.0</td>\n",
       "      <td>0.0</td>\n",
       "      <td>0.0</td>\n",
       "      <td>0.0</td>\n",
       "      <td>0.0</td>\n",
       "      <td>1.0</td>\n",
       "      <td>2019-08-06 15:46:25</td>\n",
       "      <td>4</td>\n",
       "      <td>False</td>\n",
       "      <td>2019-08-06</td>\n",
       "      <td>15</td>\n",
       "    </tr>\n",
       "    <tr>\n",
       "      <th>4</th>\n",
       "      <td>6411</td>\n",
       "      <td>37.732350</td>\n",
       "      <td>-122.414100</td>\n",
       "      <td>0.670</td>\n",
       "      <td>0.0</td>\n",
       "      <td>0.0</td>\n",
       "      <td>0.0</td>\n",
       "      <td>0.0</td>\n",
       "      <td>0.0</td>\n",
       "      <td>0.0</td>\n",
       "      <td>0.0</td>\n",
       "      <td>0.0</td>\n",
       "      <td>1.0</td>\n",
       "      <td>2018-10-17 09:54:58</td>\n",
       "      <td>5</td>\n",
       "      <td>False</td>\n",
       "      <td>2018-10-17</td>\n",
       "      <td>9</td>\n",
       "    </tr>\n",
       "  </tbody>\n",
       "</table>\n",
       "</div>"
      ],
      "text/plain": [
       "     ID        Lat         Lng  Distance(mi)  Crossing  Give_Way  Junction  \\\n",
       "0  6407  37.786060 -122.390900         0.039       0.0       0.0       1.0   \n",
       "1  6408  37.769609 -122.415057         0.202       0.0       0.0       0.0   \n",
       "2  6409  37.807495 -122.476021         0.000       0.0       0.0       0.0   \n",
       "3  6410  37.761818 -122.405869         0.000       0.0       0.0       1.0   \n",
       "4  6411  37.732350 -122.414100         0.670       0.0       0.0       0.0   \n",
       "\n",
       "   No_Exit  Railway  Roundabout  Stop  Amenity  Side            timestamp  \\\n",
       "0      0.0      0.0         0.0   0.0      0.0   1.0  2016-04-04 19:20:31   \n",
       "1      0.0      0.0         0.0   0.0      0.0   1.0  2020-10-28 11:51:00   \n",
       "2      0.0      0.0         0.0   0.0      0.0   1.0  2019-09-09 07:36:45   \n",
       "3      0.0      0.0         0.0   0.0      0.0   1.0  2019-08-06 15:46:25   \n",
       "4      0.0      0.0         0.0   0.0      0.0   1.0  2018-10-17 09:54:58   \n",
       "\n",
       "   Day  Rush-hour       date  Hour  \n",
       "0    3      False 2016-04-04    19  \n",
       "1    5      False 2020-10-28    11  \n",
       "2    3      False 2019-09-09     7  \n",
       "3    4      False 2019-08-06    15  \n",
       "4    5      False 2018-10-17     9  "
      ]
     },
     "execution_count": 53,
     "metadata": {},
     "output_type": "execute_result"
    }
   ],
   "source": [
    "test_df = pd.read_csv(os.path.join(dataset_path, 'test.csv'))\n",
    "test_df.head()\n",
    "\n",
    "new_test = test_df.drop(columns='Bump')\n",
    "#cerating new list containing rush hours from timestamps\n",
    "rush_hour = []\n",
    "bool_rush_hour = []\n",
    "for row in new_test['timestamp']:\n",
    "    rush_hour.append(row[11:].split(\":\")[0])\n",
    "\n",
    "for hour, minute in rush_hour:\n",
    "    if int (hour) >= 7 and int (hour) <= 9:\n",
    "        bool_rush_hour.append(True)\n",
    "    elif int (hour) >=16 and int (hour) <= 19:\n",
    "        bool_rush_hour.append(True)\n",
    "    else:\n",
    "        bool_rush_hour.append(False)\n",
    "        \n",
    "\n",
    "datetimelist=[]\n",
    "day_week=[]\n",
    "for row in new_test['timestamp']:\n",
    "    datetimelist.append(row[:10].replace('-',' '))\n",
    "\n",
    "for element in datetimelist:\n",
    "    day_week.append(findDay(element))\n",
    "\n",
    "day_week[:10]\n",
    "day_week=convert_days_tonumbers(day_week)\n",
    "new_test[\"Day\"]=day_week\n",
    "new_test[\"Rush-hour\"]=bool_rush_hour\n",
    "\n",
    "\n",
    "ord_enc = OrdinalEncoder()\n",
    "new_test[\"Crossing\"] = ord_enc.fit_transform(new_test[[\"Crossing\"]])\n",
    "new_test[\"Give_Way\"] = ord_enc.fit_transform(new_test[[\"Give_Way\"]])\n",
    "new_test[\"Junction\"] = ord_enc.fit_transform(new_test[[\"Junction\"]])\n",
    "new_test[\"No_Exit\"] = ord_enc.fit_transform(new_test[[\"No_Exit\"]])\n",
    "new_test[\"Railway\"] = ord_enc.fit_transform(new_test[[\"Railway\"]])\n",
    "new_test[\"Roundabout\"] = ord_enc.fit_transform(new_test[[\"Roundabout\"]])\n",
    "new_test[\"Stop\"] = ord_enc.fit_transform(new_test[[\"Stop\"]])\n",
    "new_test[\"Amenity\"] = ord_enc.fit_transform(new_test[[\"Amenity\"]])\n",
    "new_test[\"Side\"] = ord_enc.fit_transform(new_test[[\"Side\"]])\n",
    "new_test.head()\n",
    "\n",
    "\n",
    "timestamp = new_test['timestamp']\n",
    "Date = [i[:11]for i in timestamp ]\n",
    "Hour = [i[11:13]for i in timestamp ]\n",
    "new_test['date'] = Date\n",
    "new_test['Hour'] = Hour\n",
    "new_test['date']= pd.to_datetime(new_test['date'])\n",
    "new_test['Hour']= new_test['Hour'].astype(int)\n",
    "\n",
    "new_test.head()\n",
    "    "
   ]
  },
  {
   "cell_type": "code",
   "execution_count": 54,
   "id": "0ccc9db0",
   "metadata": {
    "execution": {
     "iopub.execute_input": "2021-07-27T15:51:32.290049Z",
     "iopub.status.busy": "2021-07-27T15:51:32.289166Z",
     "iopub.status.idle": "2021-07-27T15:51:32.314218Z",
     "shell.execute_reply": "2021-07-27T15:51:32.313751Z"
    },
    "papermill": {
     "duration": 0.106343,
     "end_time": "2021-07-27T15:51:32.314341",
     "exception": false,
     "start_time": "2021-07-27T15:51:32.207998",
     "status": "completed"
    },
    "tags": []
   },
   "outputs": [],
   "source": [
    "new_test = new_test.merge(weather, on =['date', 'Hour'], how='left')\n",
    "\n",
    "new_test = new_test.merge(holidays, on ='date', how='left')\n",
    "\n",
    "new_test['holiday'] = new_test['holiday'].replace(list(new_test['holiday'].dropna()),1)\n",
    "new_test['holiday'] = new_test['holiday'].replace(np.nan,0)\n",
    "new_test[\"Weather_Condition\"] = ord_enc.fit_transform(new_test[[\"Weather_Condition\"]])\n",
    "new_test[\"Selected\"] = ord_enc.fit_transform(new_test[[\"Selected\"]])\n"
   ]
  },
  {
   "cell_type": "markdown",
   "id": "cbd0a5dc",
   "metadata": {
    "papermill": {
     "duration": 0.079724,
     "end_time": "2021-07-27T15:51:32.469728",
     "exception": false,
     "start_time": "2021-07-27T15:51:32.390004",
     "status": "completed"
    },
    "tags": []
   },
   "source": [
    "Note that the test set has the same features and doesn't have the `Severity` column.\n",
    "At this stage one must **NOT** forget to apply the same processing done on the training set on the features of the test set.\n",
    "\n",
    "Now we'll add `Severity` column to the test `DataFrame` and add the values of the predicted class to it.\n",
    "\n",
    "**I'll select the numerical features here as I did in the training set. DO NOT forget to change this step as you change the preprocessing of the training data.**"
   ]
  },
  {
   "cell_type": "code",
   "execution_count": 55,
   "id": "7efa03b5",
   "metadata": {
    "execution": {
     "iopub.execute_input": "2021-07-27T15:51:32.632993Z",
     "iopub.status.busy": "2021-07-27T15:51:32.632009Z",
     "iopub.status.idle": "2021-07-27T15:51:32.681842Z",
     "shell.execute_reply": "2021-07-27T15:51:32.681361Z"
    },
    "papermill": {
     "duration": 0.131507,
     "end_time": "2021-07-27T15:51:32.681967",
     "exception": false,
     "start_time": "2021-07-27T15:51:32.550460",
     "status": "completed"
    },
    "tags": []
   },
   "outputs": [
    {
     "data": {
      "text/html": [
       "<div>\n",
       "<style scoped>\n",
       "    .dataframe tbody tr th:only-of-type {\n",
       "        vertical-align: middle;\n",
       "    }\n",
       "\n",
       "    .dataframe tbody tr th {\n",
       "        vertical-align: top;\n",
       "    }\n",
       "\n",
       "    .dataframe thead th {\n",
       "        text-align: right;\n",
       "    }\n",
       "</style>\n",
       "<table border=\"1\" class=\"dataframe\">\n",
       "  <thead>\n",
       "    <tr style=\"text-align: right;\">\n",
       "      <th></th>\n",
       "      <th>ID</th>\n",
       "      <th>Lat</th>\n",
       "      <th>Lng</th>\n",
       "      <th>Distance(mi)</th>\n",
       "      <th>Crossing</th>\n",
       "      <th>Give_Way</th>\n",
       "      <th>Junction</th>\n",
       "      <th>No_Exit</th>\n",
       "      <th>Railway</th>\n",
       "      <th>Roundabout</th>\n",
       "      <th>...</th>\n",
       "      <th>Weather_Condition</th>\n",
       "      <th>Wind_Chill(F)</th>\n",
       "      <th>Precipitation(in)</th>\n",
       "      <th>Temperature(F)</th>\n",
       "      <th>Humidity(%)</th>\n",
       "      <th>Wind_Speed(mph)</th>\n",
       "      <th>Visibility(mi)</th>\n",
       "      <th>Selected</th>\n",
       "      <th>holiday</th>\n",
       "      <th>Severity</th>\n",
       "    </tr>\n",
       "  </thead>\n",
       "  <tbody>\n",
       "    <tr>\n",
       "      <th>0</th>\n",
       "      <td>6407</td>\n",
       "      <td>37.786060</td>\n",
       "      <td>-122.390900</td>\n",
       "      <td>0.039</td>\n",
       "      <td>0.0</td>\n",
       "      <td>0.0</td>\n",
       "      <td>1.0</td>\n",
       "      <td>0.0</td>\n",
       "      <td>0.0</td>\n",
       "      <td>0.0</td>\n",
       "      <td>...</td>\n",
       "      <td>14.0</td>\n",
       "      <td>59.762515</td>\n",
       "      <td>0.006444</td>\n",
       "      <td>63.0</td>\n",
       "      <td>60.0</td>\n",
       "      <td>10.4</td>\n",
       "      <td>10.0</td>\n",
       "      <td>0.0</td>\n",
       "      <td>0.0</td>\n",
       "      <td>2</td>\n",
       "    </tr>\n",
       "    <tr>\n",
       "      <th>1</th>\n",
       "      <td>6408</td>\n",
       "      <td>37.769609</td>\n",
       "      <td>-122.415057</td>\n",
       "      <td>0.202</td>\n",
       "      <td>0.0</td>\n",
       "      <td>0.0</td>\n",
       "      <td>0.0</td>\n",
       "      <td>0.0</td>\n",
       "      <td>0.0</td>\n",
       "      <td>0.0</td>\n",
       "      <td>...</td>\n",
       "      <td>3.0</td>\n",
       "      <td>65.000000</td>\n",
       "      <td>0.000000</td>\n",
       "      <td>65.0</td>\n",
       "      <td>56.0</td>\n",
       "      <td>5.0</td>\n",
       "      <td>9.0</td>\n",
       "      <td>0.0</td>\n",
       "      <td>0.0</td>\n",
       "      <td>2</td>\n",
       "    </tr>\n",
       "    <tr>\n",
       "      <th>2</th>\n",
       "      <td>6409</td>\n",
       "      <td>37.807495</td>\n",
       "      <td>-122.476021</td>\n",
       "      <td>0.000</td>\n",
       "      <td>0.0</td>\n",
       "      <td>0.0</td>\n",
       "      <td>0.0</td>\n",
       "      <td>0.0</td>\n",
       "      <td>0.0</td>\n",
       "      <td>0.0</td>\n",
       "      <td>...</td>\n",
       "      <td>11.0</td>\n",
       "      <td>58.000000</td>\n",
       "      <td>0.000000</td>\n",
       "      <td>58.0</td>\n",
       "      <td>90.0</td>\n",
       "      <td>18.0</td>\n",
       "      <td>10.0</td>\n",
       "      <td>0.0</td>\n",
       "      <td>0.0</td>\n",
       "      <td>2</td>\n",
       "    </tr>\n",
       "    <tr>\n",
       "      <th>3</th>\n",
       "      <td>6410</td>\n",
       "      <td>37.761818</td>\n",
       "      <td>-122.405869</td>\n",
       "      <td>0.000</td>\n",
       "      <td>0.0</td>\n",
       "      <td>0.0</td>\n",
       "      <td>1.0</td>\n",
       "      <td>0.0</td>\n",
       "      <td>0.0</td>\n",
       "      <td>0.0</td>\n",
       "      <td>...</td>\n",
       "      <td>3.0</td>\n",
       "      <td>72.000000</td>\n",
       "      <td>0.000000</td>\n",
       "      <td>72.0</td>\n",
       "      <td>59.0</td>\n",
       "      <td>17.0</td>\n",
       "      <td>10.0</td>\n",
       "      <td>0.0</td>\n",
       "      <td>0.0</td>\n",
       "      <td>2</td>\n",
       "    </tr>\n",
       "    <tr>\n",
       "      <th>4</th>\n",
       "      <td>6411</td>\n",
       "      <td>37.732350</td>\n",
       "      <td>-122.414100</td>\n",
       "      <td>0.670</td>\n",
       "      <td>0.0</td>\n",
       "      <td>0.0</td>\n",
       "      <td>0.0</td>\n",
       "      <td>0.0</td>\n",
       "      <td>0.0</td>\n",
       "      <td>0.0</td>\n",
       "      <td>...</td>\n",
       "      <td>18.0</td>\n",
       "      <td>59.762515</td>\n",
       "      <td>0.006444</td>\n",
       "      <td>57.0</td>\n",
       "      <td>77.0</td>\n",
       "      <td>5.8</td>\n",
       "      <td>10.0</td>\n",
       "      <td>0.0</td>\n",
       "      <td>0.0</td>\n",
       "      <td>2</td>\n",
       "    </tr>\n",
       "  </tbody>\n",
       "</table>\n",
       "<p>5 rows × 28 columns</p>\n",
       "</div>"
      ],
      "text/plain": [
       "     ID        Lat         Lng  Distance(mi)  Crossing  Give_Way  Junction  \\\n",
       "0  6407  37.786060 -122.390900         0.039       0.0       0.0       1.0   \n",
       "1  6408  37.769609 -122.415057         0.202       0.0       0.0       0.0   \n",
       "2  6409  37.807495 -122.476021         0.000       0.0       0.0       0.0   \n",
       "3  6410  37.761818 -122.405869         0.000       0.0       0.0       1.0   \n",
       "4  6411  37.732350 -122.414100         0.670       0.0       0.0       0.0   \n",
       "\n",
       "   No_Exit  Railway  Roundabout  ...  Weather_Condition  Wind_Chill(F)  \\\n",
       "0      0.0      0.0         0.0  ...               14.0      59.762515   \n",
       "1      0.0      0.0         0.0  ...                3.0      65.000000   \n",
       "2      0.0      0.0         0.0  ...               11.0      58.000000   \n",
       "3      0.0      0.0         0.0  ...                3.0      72.000000   \n",
       "4      0.0      0.0         0.0  ...               18.0      59.762515   \n",
       "\n",
       "   Precipitation(in) Temperature(F)  Humidity(%)  Wind_Speed(mph)  \\\n",
       "0           0.006444           63.0         60.0             10.4   \n",
       "1           0.000000           65.0         56.0              5.0   \n",
       "2           0.000000           58.0         90.0             18.0   \n",
       "3           0.000000           72.0         59.0             17.0   \n",
       "4           0.006444           57.0         77.0              5.8   \n",
       "\n",
       "  Visibility(mi)  Selected  holiday  Severity  \n",
       "0           10.0       0.0      0.0         2  \n",
       "1            9.0       0.0      0.0         2  \n",
       "2           10.0       0.0      0.0         2  \n",
       "3           10.0       0.0      0.0         2  \n",
       "4           10.0       0.0      0.0         2  \n",
       "\n",
       "[5 rows x 28 columns]"
      ]
     },
     "execution_count": 55,
     "metadata": {},
     "output_type": "execute_result"
    }
   ],
   "source": [
    "X_test = new_test.drop(columns=['ID'])\n",
    "\n",
    "# You should update/remove the next line once you change the features used for training\n",
    "X_test = X_test[['Lat', 'Lng', 'Distance(mi)','Stop','Wind_Chill(F)','Precipitation(in)','Temperature(F)','Humidity(%)','Wind_Speed(mph)','Visibility(mi)','Selected']]\n",
    "\n",
    "y_test_predicted = classifier.predict(X_test)\n",
    "\n",
    "new_test['Severity'] = y_test_predicted\n",
    "\n",
    "new_test.head()"
   ]
  },
  {
   "cell_type": "code",
   "execution_count": 56,
   "id": "1505693d",
   "metadata": {
    "execution": {
     "iopub.execute_input": "2021-07-27T15:51:32.846918Z",
     "iopub.status.busy": "2021-07-27T15:51:32.845680Z",
     "iopub.status.idle": "2021-07-27T15:51:32.903127Z",
     "shell.execute_reply": "2021-07-27T15:51:32.903763Z"
    },
    "papermill": {
     "duration": 0.141118,
     "end_time": "2021-07-27T15:51:32.903944",
     "exception": false,
     "start_time": "2021-07-27T15:51:32.762826",
     "status": "completed"
    },
    "tags": []
   },
   "outputs": [
    {
     "name": "stdout",
     "output_type": "stream",
     "text": [
      "              precision    recall  f1-score   support\n",
      "\n",
      "           1       0.00      0.00      0.00         0\n",
      "           2       0.99      0.72      0.84      4747\n",
      "           3       0.23      0.92      0.37       378\n",
      "           4       0.00      0.00      0.00         0\n",
      "\n",
      "    accuracy                           0.74      5125\n",
      "   macro avg       0.31      0.41      0.30      5125\n",
      "weighted avg       0.94      0.74      0.80      5125\n",
      "\n"
     ]
    },
    {
     "name": "stderr",
     "output_type": "stream",
     "text": [
      "/opt/conda/lib/python3.7/site-packages/sklearn/metrics/_classification.py:1221: UndefinedMetricWarning: Recall and F-score are ill-defined and being set to 0.0 in labels with no true samples. Use `zero_division` parameter to control this behavior.\n",
      "  _warn_prf(average, modifier, msg_start, len(result))\n"
     ]
    }
   ],
   "source": [
    "from sklearn.metrics import classification_report\n",
    "print(classification_report(classifier.predict(X_train)\n",
    "                            , y_train))"
   ]
  },
  {
   "cell_type": "markdown",
   "id": "f9ed431c",
   "metadata": {
    "papermill": {
     "duration": 0.077746,
     "end_time": "2021-07-27T15:51:33.065069",
     "exception": false,
     "start_time": "2021-07-27T15:51:32.987323",
     "status": "completed"
    },
    "tags": []
   },
   "source": [
    "Now we're ready to generate the submission file. The submission file needs the columns `ID` and `Severity` only."
   ]
  },
  {
   "cell_type": "code",
   "execution_count": 57,
   "id": "24dd229b",
   "metadata": {
    "execution": {
     "iopub.execute_input": "2021-07-27T15:51:33.231474Z",
     "iopub.status.busy": "2021-07-27T15:51:33.230940Z",
     "iopub.status.idle": "2021-07-27T15:51:33.240283Z",
     "shell.execute_reply": "2021-07-27T15:51:33.239822Z"
    },
    "papermill": {
     "duration": 0.094635,
     "end_time": "2021-07-27T15:51:33.240401",
     "exception": false,
     "start_time": "2021-07-27T15:51:33.145766",
     "status": "completed"
    },
    "tags": []
   },
   "outputs": [],
   "source": [
    "new_test[['ID', 'Severity']].to_csv('/kaggle/working/submission.csv', index=False)"
   ]
  },
  {
   "cell_type": "markdown",
   "id": "20c129d1",
   "metadata": {
    "papermill": {
     "duration": 0.080011,
     "end_time": "2021-07-27T15:51:33.401121",
     "exception": false,
     "start_time": "2021-07-27T15:51:33.321110",
     "status": "completed"
    },
    "tags": []
   },
   "source": [
    "The remaining steps is to submit the generated file and are as follows. \n",
    "\n",
    "1. Press `Save Version` on the upper right corner of this notebook.\n",
    "2. Write a `Version Name` of your choice and choose `Save & Run All (Commit)` then click `Save`.\n",
    "3. Wait for the saved notebook to finish running the go to the saved notebook.\n",
    "4. Scroll down until you see the output files then select the `submission.csv` file and click `Submit`.\n",
    "\n",
    "Now your submission will be evaluated and your score will be updated on the leaderboard! CONGRATULATIONS!!"
   ]
  },
  {
   "cell_type": "markdown",
   "id": "f55af3ed",
   "metadata": {
    "papermill": {
     "duration": 0.080933,
     "end_time": "2021-07-27T15:51:33.560254",
     "exception": false,
     "start_time": "2021-07-27T15:51:33.479321",
     "status": "completed"
    },
    "tags": []
   },
   "source": [
    "## Conclusion\n",
    "\n",
    "In this notebook, we have demonstrated the essential steps that one should do in order to get \"slightly\" familiar with the data and the submission process. We chose not to go into details in each step to keep the welcoming notebook simple and make a room for improvement.\n",
    "\n",
    "You're encourged to `Fork` the notebook, edit it, add your insights and use it to create your submission."
   ]
  },
  {
   "cell_type": "code",
   "execution_count": null,
   "id": "7e382d25",
   "metadata": {
    "papermill": {
     "duration": 0.075829,
     "end_time": "2021-07-27T15:51:33.717083",
     "exception": false,
     "start_time": "2021-07-27T15:51:33.641254",
     "status": "completed"
    },
    "tags": []
   },
   "outputs": [],
   "source": [
    "\n"
   ]
  }
 ],
 "metadata": {
  "kernelspec": {
   "display_name": "Python 3",
   "language": "python",
   "name": "python3"
  },
  "language_info": {
   "codemirror_mode": {
    "name": "ipython",
    "version": 3
   },
   "file_extension": ".py",
   "mimetype": "text/x-python",
   "name": "python",
   "nbconvert_exporter": "python",
   "pygments_lexer": "ipython3",
   "version": "3.7.10"
  },
  "papermill": {
   "default_parameters": {},
   "duration": 27.626581,
   "end_time": "2021-07-27T15:51:34.406209",
   "environment_variables": {},
   "exception": null,
   "input_path": "__notebook__.ipynb",
   "output_path": "__notebook__.ipynb",
   "parameters": {},
   "start_time": "2021-07-27T15:51:06.779628",
   "version": "2.3.3"
  }
 },
 "nbformat": 4,
 "nbformat_minor": 5
}
